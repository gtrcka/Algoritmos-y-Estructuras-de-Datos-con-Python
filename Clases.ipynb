{
 "cells": [
  {
   "cell_type": "markdown",
   "id": "5e22eb0f",
   "metadata": {},
   "source": [
    "# Clases"
   ]
  },
  {
   "cell_type": "code",
   "execution_count": 31,
   "id": "c93b62b3",
   "metadata": {},
   "outputs": [],
   "source": [
    "class CompuertaLogica:\n",
    "\n",
    "    def __init__(self,n):\n",
    "        self.etiqueta = n\n",
    "        self.salida = None\n",
    "\n",
    "    def obtenerNombre(self):\n",
    "        return self.etiqueta\n",
    "\n",
    "    def obtenerSalida(self):\n",
    "        self.salida = self.ejecutarLogicaDeCompuerta()\n",
    "        return self.salida"
   ]
  },
  {
   "cell_type": "code",
   "execution_count": 32,
   "id": "a85da0ff",
   "metadata": {},
   "outputs": [],
   "source": [
    "class CompuertaBinaria(CompuertaLogica):\n",
    "\n",
    "    def __init__(self,n):\n",
    "        CompuertaLogica.__init__(self,n)\n",
    "\n",
    "        self.pinA = None\n",
    "        self.pinB = None\n",
    "\n",
    "    def obtenerPinA(self):\n",
    "        if self.pinA == None:\n",
    "            return input(\"Ingrese la entrada del Pin A para la compuerta \" + self.obtenerNombre()+\"-->\")\n",
    "        else:\n",
    "            return self.pinA.obtenerFuente().obtenerSalida()\n",
    "\n",
    "    def obtenerPinB(self):\n",
    "        if self.pinB == None:\n",
    "            return input(\"Ingrese la entrada del Pin B para la compuerta \" + self.obtenerNombre()+\"-->\")\n",
    "        else:\n",
    "            return self.pinB.obtenerFuente().obtenerSalida()\n",
    "    \n",
    "    def asignarProximoPin(self,fuente):\n",
    "        if self.pinA == None:\n",
    "            self.pinA = fuente\n",
    "        else:\n",
    "            if self.pinB == None:\n",
    "                self.pinB = fuente\n",
    "            else:\n",
    "                raise RuntimeError(\"Error: NO HAY PINES DISPONIBLES\")"
   ]
  },
  {
   "cell_type": "code",
   "execution_count": 33,
   "id": "4795bc10",
   "metadata": {},
   "outputs": [],
   "source": [
    "class CompuertaUnaria(CompuertaLogica):\n",
    "\n",
    "    def __init__(self,n):\n",
    "        CompuertaLogica.__init__(self,n)\n",
    "\n",
    "        self.pin = None\n",
    "\n",
    "    def obtenerPin(self):\n",
    "        return int(input(\"Ingrese la entrada del Pin para la compuerta \"+ self.obtenerEtiqueta()+\"-->\"))\n",
    "    \n",
    "    def asignarProximoPin(self,fuente):\n",
    "        if self.pin == None:\n",
    "            self.pin = fuente\n",
    "        else:\n",
    "            print(\"No se puede conectar: NO HAY PINES DISPONIBLES en esta compuerta\")"
   ]
  },
  {
   "cell_type": "code",
   "execution_count": 34,
   "id": "d178d5c1",
   "metadata": {},
   "outputs": [],
   "source": [
    "class CompuertaAND(CompuertaBinaria):\n",
    "\n",
    "    def __init__(self,n):\n",
    "        CompuertaBinaria.__init__(self,n)\n",
    "\n",
    "    def ejecutarLogicaDeCompuerta(self):\n",
    "\n",
    "        a = self.obtenerPinA()\n",
    "        b = self.obtenerPinB()\n",
    "        if a==1 and b==1:\n",
    "            return 1\n",
    "        else:\n",
    "            return 0"
   ]
  },
  {
   "cell_type": "code",
   "execution_count": 35,
   "id": "62fb5fa5",
   "metadata": {},
   "outputs": [],
   "source": [
    "class CompuertaOR(CompuertaBinaria):\n",
    "\n",
    "    def __init__(self,n):\n",
    "        CompuertaBinaria.__init__(self,n)\n",
    "\n",
    "    def ejecutarLogicaDeCompuerta(self):\n",
    "\n",
    "        a = self.obtenerPinA()\n",
    "        b = self.obtenerPinB()\n",
    "        if a==0 and b==0:\n",
    "            return 0\n",
    "        else:\n",
    "            return 1"
   ]
  },
  {
   "cell_type": "code",
   "execution_count": 36,
   "id": "00443052",
   "metadata": {},
   "outputs": [],
   "source": [
    "class CompuertaNOT(CompuertaUnaria):\n",
    "\n",
    "    def __init__(self,n):\n",
    "        CompuertaUnaria.__init__(self,n)\n",
    "\n",
    "    def ejecutarLogicaDeCompuerta(self):\n",
    "\n",
    "        a = self.obtenerPin()\n",
    "        if a==0:\n",
    "            return 1\n",
    "        else:\n",
    "            return 0"
   ]
  },
  {
   "cell_type": "code",
   "execution_count": 37,
   "id": "29b3318e",
   "metadata": {},
   "outputs": [],
   "source": [
    "class Conector:\n",
    "\n",
    "    def __init__(self, deComp, aComp):\n",
    "        self.deCompuerta = deComp\n",
    "        self.aCompuerta = aComp\n",
    "\n",
    "        aComp.asignarProximoPin(self)\n",
    "\n",
    "    def obtenerFuente(self):\n",
    "        return self.deCompuerta\n",
    "\n",
    "    def obtenerDestino(self):\n",
    "        return self.aCompuerta"
   ]
  },
  {
   "cell_type": "code",
   "execution_count": 38,
   "id": "536bbfc4",
   "metadata": {},
   "outputs": [
    {
     "name": "stdout",
     "output_type": "stream",
     "text": [
      "Ingrese la entrada del Pin A para la compuerta C1-->1\n",
      "Ingrese la entrada del Pin B para la compuerta C1-->0\n",
      "Ingrese la entrada del Pin A para la compuerta C2-->1\n",
      "Ingrese la entrada del Pin B para la compuerta C2-->1\n",
      "0\n"
     ]
    }
   ],
   "source": [
    "def main():\n",
    "   c1 = CompuertaAND(\"C1\")\n",
    "   c2 = CompuertaAND(\"C2\")\n",
    "   c3 = CompuertaOR(\"C3\")\n",
    "   c4 = CompuertaNOT(\"C4\")\n",
    "   c1 = Conector(c1,c3)\n",
    "   c2 = Conector(c2,c3)\n",
    "   c3 = Conector(c3,c4)\n",
    "   print(c3.obtenerFuente().obtenerSalida())\n",
    "\n",
    "main()"
   ]
  }
 ],
 "metadata": {
  "kernelspec": {
   "display_name": "Python 3 (ipykernel)",
   "language": "python",
   "name": "python3"
  },
  "language_info": {
   "codemirror_mode": {
    "name": "ipython",
    "version": 3
   },
   "file_extension": ".py",
   "mimetype": "text/x-python",
   "name": "python",
   "nbconvert_exporter": "python",
   "pygments_lexer": "ipython3",
   "version": "3.11.5"
  }
 },
 "nbformat": 4,
 "nbformat_minor": 5
}
