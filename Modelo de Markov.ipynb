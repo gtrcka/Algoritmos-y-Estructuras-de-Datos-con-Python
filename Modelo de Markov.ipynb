{
 "cells": [
  {
   "cell_type": "markdown",
   "id": "671140e7",
   "metadata": {},
   "source": [
    "# Modelo epidemiológico para la enfermedad infecciosa\n"
   ]
  },
  {
   "cell_type": "markdown",
   "id": "0c355d36",
   "metadata": {},
   "source": [
    "## Suposiciones"
   ]
  },
  {
   "cell_type": "markdown",
   "id": "67e836e0",
   "metadata": {},
   "source": [
    "1. La población inicial es de 1.000.000 habitantes sanos, en el día 0.\n",
    "2. Una  persona puede estar en algunos de los siguientes estados:\n",
    "    a. Sano\n",
    "    b. Enfermo Leve\n",
    "    c. Enfermo Grave\n",
    "    d. Recuperado\n",
    "    e. Fallecido\n",
    "3. Asociado a los estados anteriores podemos obtener las siguientes probabilidades de transición:\n",
    "\n",
    "    *${s_l}$ la probabilidad de pasar de estar sano a tener síntomas leves,\n",
    "    \n",
    "    *${l_g}$ la probabilidad de pasar de tener síntomas leves a tener síntomas graves, \n",
    "    \n",
    "    *${l_r}$ la probabilidad de pasar de tener síntomas leves a recuperarse,   \n",
    "    \n",
    "    *${g_r}$ la probabilidad de pasar de tener síntomas graves a recuperarse,   \n",
    "    \n",
    "    *${g_f}$ la probabilidad de pasar de tener síntomas graves a fallecer.\n",
    "    \n",
    "\n",
    "    \n",
    "    \n",
    "                                    \n",
    "                                    "
   ]
  },
  {
   "cell_type": "markdown",
   "id": "3176ed80",
   "metadata": {},
   "source": [
    "Para cada día ${n}$, consideremos el vector:    ${X_{(n)}} = ({s_{(n)}},{l_{(n)}},{g_{(n)}},{r_{(n)}},{f_{(n)}})$\n",
    "que corresponde a los individuos sanos, los enfermos leves, los enfermos graves, recuperados y fallecidos al día ${n}$"
   ]
  },
  {
   "cell_type": "markdown",
   "id": "d278cd3b",
   "metadata": {},
   "source": [
    "Por ejemplo al día ${0}$ todos los individuos están sanos,entonces ${X_{(0)}} = (1000000, 0, 0, 0, 0)$.\n",
    "Para la evolución entre los distintos estados de Markov, se realizan las siguientes **suposiciones**:\n",
    "\n",
    "1. Paso de un estado a otro:\n",
    "\n",
    "     -Alguien solo puede fallecer si se encuentra enfermo grave.\n",
    "     \n",
    "     -Si alguien es enfermo grave, tiene ${g_f}$ probabilidad de pasar a fallecido, ${g_r}$ de recuperarse y, por lo tanto, $(1-{g_r}-{g_f})$\n",
    "     \n",
    "     -La enfermedad se contagia de persona a persona y, de una día a otro, una persona tiene ${s_l}$ probabilidad de pasar de estar sana a tener síntomas leves.\n",
    "     \n",
    "     -No se puede pasar directamente a tener síntomas graves, recuperarse o morir. De modo que se queda sana de un día a otro con probabilidad$(1 - {s_l})$\n",
    "       \n",
    "     -Si una persona tiene síntomas leves, tiene ${l_g}$ probabilidad de pasar a tener síntomas graves y ${l_r}$ de pasar a recuperarse. Por lo tanto, tiene probabilidad $(1-{l_g}-{l_r})$ de quedarse con síntomas leves.\n",
    "     \n",
    "     -Una persona que se recupera desarrolla inmunidad a la enfermedad, por lo que se queda en estado de recuperado.\n",
    "     \n",
    "     -Una persona que fallece, queda en ese estado."
   ]
  },
  {
   "cell_type": "markdown",
   "id": "6ba4e646",
   "metadata": {},
   "source": [
    "Con estos número podemos entender cómo será el vector población:\n",
    "\n",
    "${X_{(n-1)}} = ({s_{(n+1)}},{l_{(n+1)}},{g_{(n+1)}},{r_{(n+1)}},{f_{(n+1)}})$\n",
    "\n",
    "si sabemos cómo es el vector \n",
    "\n",
    "${X_{(n)}} = ({s_{(n)}},{l_{(n)}},{g_{(n)}},{r_{(n)}},{f_{(n)}})$\n",
    "\n",
    "Por ejemplo, podemos esperar que la cantidad de recuperados al día ${n+1}$ sea:\n",
    "\n",
    "${r_{(n+1)}} = l_{r}.l_{(n)}+ g_{r}.g_{(n)}+1.r_{(n)}$\n"
   ]
  },
  {
   "cell_type": "markdown",
   "id": "e80e8eed",
   "metadata": {},
   "source": [
    "pues de los síntomas leves del día ${n}$ habrá una proporción ${l_r}$ de ellos que se recuperen, de los graves del día $n$ habrá una proporción ${g_{r}}$ que se recuperen y todos los recuperados del día $n$ quedan recuperados. De esta forma, obtenemos el siguiente sistema de ecuaciones:\n",
    "\n",
    "${s_{(n+1)}} = (1 - s_{l}).s_{(n)}$\n",
    "\n",
    "${l_{(n+1)}} = s_{l}.s_{(n)}+(1 - l_{r} - l_{g}).l_{(n)}$\n",
    "\n",
    "${g_{(n+1)}} = l_{g}.l_{(n)}+(1 - g_{r} - g_{f}).g_{(n)}$\n",
    "\n",
    "${r_{(n+1)}} = l_{r}.l_{(n)}+ g_{r}.g_{(n)}+1.r_{(n)}$\n",
    "\n",
    "${f_{(n+1)}} = g_{f}.g_{(n)}+ 1.f_{(n)}$"
   ]
  },
  {
   "cell_type": "markdown",
   "id": "473cc2e1",
   "metadata": {},
   "source": [
    "Este sistema de ecuación se puede escribir de una forma mucho más compacta:\n",
    "    \n",
    "$\n",
    "A_{5 \\times 5}=\n",
    "\\begin{pmatrix}\n",
    "1 - s_{l} & 0 & 0 & 0 & 0\\\\\n",
    "s_{l} & 1 - l_{r} - l_{g} & 0 & 0 & 0\\\\\n",
    "0 & l_{g} & 1 - g_{r} - g_{f} & 0 & 0\\\\\n",
    "0 & l_{r} & g_{r} & 1 & 0\\\\\n",
    "0 & 0 & g_{f} & 0 & 1\\\\\n",
    "\\end{pmatrix}\n",
    "$"
   ]
  },
  {
   "cell_type": "markdown",
   "id": "6cca3229",
   "metadata": {},
   "source": [
    "las ecuaciones anteriores de pueden abreviar a:\n",
    "    \n",
    "${X_{(n + 1)}} = {A}.{X_{(n)}}$"
   ]
  },
  {
   "cell_type": "markdown",
   "id": "7c7099e8",
   "metadata": {},
   "source": [
    "De esta forma, se queremos entender qué esperar del día $n$, basta hacer la multiplicación matricial:\n",
    "\n",
    "${X_{(n)}} = {A^{n}}.{X_{(0)}}$"
   ]
  },
  {
   "cell_type": "markdown",
   "id": "6355b5d5",
   "metadata": {},
   "source": [
    "## Cadena de Markov\n",
    "\n",
    "Se tiene los siguiente valores para los parámetros del modelo: \n",
    "${s_l} = 0.20$, ${l_g} = 0.5$, ${l_r} = 0.25$, ${g_r} = 0.15$ y ${g_f} = 0.15$ \n",
    "\n",
    "**Genera un algoritmo que retorne el estado de la población al día 20. Grafique.** "
   ]
  },
  {
   "cell_type": "code",
   "execution_count": 2,
   "id": "f44bd647",
   "metadata": {},
   "outputs": [],
   "source": [
    "import numpy as np\n",
    "import matplotlib.pyplot as plt\n",
    "\n",
    "sl = 0.2\n",
    "lg = 0.15\n",
    "lr = 0.25\n",
    "gr = 0.15\n",
    "gf = 0.15\n",
    "\n",
    "#Vector población\n",
    "x = np.array([[1000000],[0],[0],[0],[0]])\n",
    "\n",
    "#Matriz de probabilidades\n",
    "A = np.array([[1-sl, 0,0,0,0],[sl,1-lr-lg,0,0,0],[0,lg,1-gr-gf,0,0],[0,lr,gr,1,0],[0,0,gf,0,1]])"
   ]
  },
  {
   "cell_type": "code",
   "execution_count": 5,
   "id": "d9b87710",
   "metadata": {},
   "outputs": [
    {
     "data": {
      "text/plain": [
       "array([[1000000],\n",
       "       [      0],\n",
       "       [      0],\n",
       "       [      0],\n",
       "       [      0]])"
      ]
     },
     "execution_count": 5,
     "metadata": {},
     "output_type": "execute_result"
    }
   ],
   "source": [
    "x"
   ]
  },
  {
   "cell_type": "code",
   "execution_count": 6,
   "id": "2c037faf",
   "metadata": {},
   "outputs": [
    {
     "data": {
      "text/plain": [
       "array([[0.8 , 0.  , 0.  , 0.  , 0.  ],\n",
       "       [0.2 , 0.6 , 0.  , 0.  , 0.  ],\n",
       "       [0.  , 0.15, 0.7 , 0.  , 0.  ],\n",
       "       [0.  , 0.25, 0.15, 1.  , 0.  ],\n",
       "       [0.  , 0.  , 0.15, 0.  , 1.  ]])"
      ]
     },
     "execution_count": 6,
     "metadata": {},
     "output_type": "execute_result"
    }
   ],
   "source": [
    "A"
   ]
  },
  {
   "cell_type": "code",
   "execution_count": 11,
   "id": "629fd51e",
   "metadata": {},
   "outputs": [],
   "source": [
    "def vector_poblacion(dias):\n",
    "    sl = 0.2\n",
    "    lg = 0.15\n",
    "    lr = 0.25\n",
    "    gr = 0.15\n",
    "    gf = 0.15\n",
    "\n",
    "    #Vector población\n",
    "    x = np.array([[1000000],[0],[0],[0],[0]])\n",
    "\n",
    "    #Matriz de probabilidades\n",
    "    A = np.array([[1-sl, 0,0,0,0],[sl,1-lr-lg,0,0,0],[0,lg,1-gr-gf,0,0],[0,lr,gr,1,0],[0,0,gf,0,1]])\n",
    "    \n",
    "    sanos = [1000000]\n",
    "    leves = [0]\n",
    "    graves = [0]\n",
    "    recuperados = [0]\n",
    "    fallecidos = [0]\n",
    "    \n",
    "    #Obtengo Poblaciones por día transcurrido\n",
    "    for i in range(1, dias + 1): #sumo 1 a días porque range no tiene en cuenta el último número\n",
    "        x = np.dot(A, x)\n",
    "        poblacion = [int(elem) for elem in x]\n",
    "        sanos.append(poblacion[0])\n",
    "        leves.append(poblacion[1])        \n",
    "        graves.append(poblacion[2])        \n",
    "        recuperados.append(poblacion[3])        \n",
    "        fallecidos.append(poblacion[4])        \n",
    "    \n",
    "    #Gráfico\n",
    "    plt.figure()\n",
    "    plt.plot(sanos, c='green')\n",
    "    plt.plot(leves, c='orange')\n",
    "    plt.plot(graves, c='red')\n",
    "    plt.plot(recuperados, c='blue')\n",
    "    plt.plot(fallecidos, c='grey')\n",
    "    plt.legend(['sanos','leves','graves','recuperados','fallecidos'])\n",
    "    plt.xlabel('Días')\n",
    "    plt.ylabel('Población(n personas)')\n",
    "    plt.title(f'N = {dias}')\n",
    "    \n",
    "    return [int(elem) for elem in x]"
   ]
  },
  {
   "cell_type": "code",
   "execution_count": 12,
   "id": "fe27fe28",
   "metadata": {},
   "outputs": [
    {
     "data": {
      "text/plain": [
       "[167772, 150976, 103908, 501562, 75780]"
      ]
     },
     "execution_count": 12,
     "metadata": {},
     "output_type": "execute_result"
    },
    {
     "data": {
      "image/png": "[encoded data removed]",
      "text/plain": [
       "<Figure size 640x480 with 1 Axes>"
      ]
     },
     "metadata": {},
     "output_type": "display_data"
    }
   ],
   "source": [
    "vector_poblacion(8)"
   ]
  },
  {
   "cell_type": "code",
   "execution_count": null,
   "id": "7443dc72",
   "metadata": {},
   "outputs": [],
   "source": []
  }
 ],
 "metadata": {
  "kernelspec": {
   "display_name": "Python 3 (ipykernel)",
   "language": "python",
   "name": "python3"
  },
  "language_info": {
   "codemirror_mode": {
    "name": "ipython",
    "version": 3
   },
   "file_extension": ".py",
   "mimetype": "text/x-python",
   "name": "python",
   "nbconvert_exporter": "python",
   "pygments_lexer": "ipython3",
   "version": "3.11.5"
  }
 },
 "nbformat": 4,
 "nbformat_minor": 5
}
