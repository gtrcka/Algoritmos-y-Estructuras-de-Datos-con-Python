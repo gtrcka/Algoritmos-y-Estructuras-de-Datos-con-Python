{
 "cells": [
  {
   "cell_type": "code",
   "execution_count": 57,
   "id": "3d2f736f",
   "metadata": {},
   "outputs": [],
   "source": [
    "#Función para encontrar maximo comun divisor\n",
    "def mcd(m,n):\n",
    "    while m%n != 0:\n",
    "        mViejo = m\n",
    "        nViejo = n\n",
    "\n",
    "        m = nViejo\n",
    "        n = mViejo%nViejo\n",
    "    return n\n",
    "class Fraccion:\n",
    "    \n",
    "    def __init__(self,arriba,abajo):\n",
    "        \n",
    "        if type(arriba)==int and type(abajo)==int:\n",
    "            self.num = abs(arriba)\n",
    "            self.den = abs(abajo)\n",
    "        else:\n",
    "            raise RuntimeError(\"Los números deben ser enteros\") \n",
    "    \n",
    "    #Reescribimos método __str__ que tienen todas las clases y por defecto devuelve la cadena de la dirección de la instancia\n",
    "    def __str__ (self):\n",
    "        return str(self.num)+\"/\"+str(self.den)\n",
    "    \n",
    "    \n",
    "\n",
    "    #Reescribimos método __add__ para que sume fracciones\n",
    "    def __add__(self,otraFraccion):        \n",
    "        nuevoNum = self.num*otraFraccion.den + self.den*otraFraccion.num\n",
    "        nuevoDen = self.den * otraFraccion.den\n",
    "        comun = mcd(nuevoNum,nuevoDen)\n",
    "        return Fraccion(nuevoNum//comun,nuevoDen//comun)\n",
    "    \n",
    "    #Reescribimos __eq__ de igualdad por el mismo valor(Igualdad profunda), no por la misma referencia(Igualdad superficial). Otro metodo es __le__ proporciona la funcionalidad de “menor que o igual”.\n",
    "    def __eq__(self, otro):\n",
    "        primerNum = self.num * otro.den\n",
    "        segundoNum = otro.num * self.den\n",
    "        return primerNum == segundoNum\n",
    "    \n",
    "    def __sub__(self, otraFraccion):\n",
    "        nuevoNum = self.num*otraFraccion.den - self.den*otraFraccion.num\n",
    "        nuevoDen = self.den * otraFraccion.den\n",
    "        comun = mcd(nuevoNum,nuevoDen)\n",
    "        return Fraccion(nuevoNum//comun,nuevoDen//comun)\n",
    "    \n",
    "    def __truediv__(self, otraFraccion):\n",
    "        nuevoNum = self.num * otraFraccion.den\n",
    "        nuevoDen = self.den * otraFraccion.num\n",
    "        comun = mcd(nuevoNum,nuevoDen)\n",
    "        return Fraccion(nuevoNum//comun,nuevoDen//comun)\n",
    "    \n",
    "    def __mul__(self, otraFraccion):\n",
    "        nuevoNum = self.num * otraFraccion.num\n",
    "        nuevoDen = self.den * otraFraccion.den\n",
    "        comun = mcd(nuevoNum,nuevoDen)\n",
    "        return Fraccion(nuevoNum//comun,nuevoDen//comun)\n",
    "    \n",
    "    def obtenerNum(self):\n",
    "        return self.num\n",
    "    def obtenerDen(self):\n",
    "        return self.den"
   ]
  },
  {
   "cell_type": "code",
   "execution_count": 60,
   "id": "ac02c8f3",
   "metadata": {},
   "outputs": [
    {
     "name": "stdout",
     "output_type": "stream",
     "text": [
      "6/5\n"
     ]
    }
   ],
   "source": [
    "f1 = Fraccion(3,5)\n",
    "f2 = Fraccion(1,2)\n",
    "f3=f1/f2\n",
    "print(f3)\n"
   ]
  },
  {
   "cell_type": "code",
   "execution_count": 4,
   "id": "31080ff6",
   "metadata": {},
   "outputs": [
    {
     "name": "stdout",
     "output_type": "stream",
     "text": [
      "Comí 3/5 de la pizza\n"
     ]
    }
   ],
   "source": [
    " print(\"Comí\", miF, \"de la pizza\")"
   ]
  }
 ],
 "metadata": {
  "kernelspec": {
   "display_name": "Python 3 (ipykernel)",
   "language": "python",
   "name": "python3"
  },
  "language_info": {
   "codemirror_mode": {
    "name": "ipython",
    "version": 3
   },
   "file_extension": ".py",
   "mimetype": "text/x-python",
   "name": "python",
   "nbconvert_exporter": "python",
   "pygments_lexer": "ipython3",
   "version": "3.11.5"
  }
 },
 "nbformat": 4,
 "nbformat_minor": 5
}
