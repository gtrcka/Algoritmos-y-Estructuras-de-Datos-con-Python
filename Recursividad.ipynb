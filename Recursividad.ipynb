{
 "cells": [
  {
   "cell_type": "markdown",
   "id": "c2875235",
   "metadata": {},
   "source": [
    "# Recursividad"
   ]
  },
  {
   "cell_type": "markdown",
   "id": "da2fd6bd",
   "metadata": {},
   "source": [
    "La recursividad es un método para resolver problemas que implica descomponer un problema en subproblemas más y más pequeños hasta llegar a un problema lo suficientemente pequeño que pueda resolverse trivialmente. Por lo general, la recursividad implica una función que se llama a sí misma. Si bien puede no parecer mucho superficialmente, la recursividad nos permite escribir soluciones elegantes a los problemas que de otro modo podrían ser muy difíciles de programar."
   ]
  },
  {
   "cell_type": "markdown",
   "id": "5588e655",
   "metadata": {},
   "source": [
    "Ejemplo 1: suma de una lista.\n",
    "Ver que en la línea 2 estamos comprobando si la lista es de longitud uno. Esta comprobación es crucial y es nuestra cláusula de escape de la función. La suma de una lista de longitud 1 es trivial; es simplemente el número en la lista. Segundo, ¡en la línea 5 nuestra función se llama a sí misma! Ésta es la razón por la que llamamos recursivo al algoritmo sumalista. Una función recursiva es una función que se llama a sí misma."
   ]
  },
  {
   "cell_type": "code",
   "execution_count": 2,
   "id": "2327501b",
   "metadata": {},
   "outputs": [
    {
     "name": "stdout",
     "output_type": "stream",
     "text": [
      "25\n"
     ]
    }
   ],
   "source": [
    "def sumalista(listaNumeros):\n",
    "    if len(listaNumeros) == 1:\n",
    "        return listaNumeros[0]\n",
    "    else:\n",
    "        return listaNumeros[0] + sumalista(listaNumeros[1:])\n",
    "\n",
    "print(sumalista([1,3,5,7,9]))"
   ]
  },
  {
   "cell_type": "markdown",
   "id": "bdc88956",
   "metadata": {},
   "source": [
    "## Las tres leyes de la recursividad"
   ]
  },
  {
   "cell_type": "markdown",
   "id": "46f98d87",
   "metadata": {},
   "source": [
    " - Un algoritmo recursivo debe tener un caso base: condición que permite que el algoritmo detenga la recursividad, un problema que es lo suficientemente pequeño como para resolverlo directamente.\n",
    "\n",
    " - Un algoritmo recursivo debe cambiar su estado y moverse hacia el caso base:  organizar un cambio de estado que mueva el algoritmo hacia el caso base.\n",
    "\n",
    " - Un algoritmo recursivo debe llamarse a sí mismo, recursivament: es la definición misma de la recursividad.\n",
    " \n",
    "  Cuando hablamos de recursividad, puede parecer que estamos hablando en círculos. Tenemos un problema que resolver con una función, ¡pero esa función resuelve el problema llamándose a sí misma! Pero la lógica no es circular en absoluto; la lógica de la recursividad es una expresión elegante de resolver un problema al descomponerlo en problemas más pequeños y más fáciles."
   ]
  },
  {
   "cell_type": "markdown",
   "id": "5aaa6e8d",
   "metadata": {},
   "source": [
    "## Conversión de un entero a una cadena en cualquier base"
   ]
  },
  {
   "cell_type": "markdown",
   "id": "d5349ec2",
   "metadata": {},
   "source": [
    "Veamos un ejemplo concreto usando la base 10 y el número 769. Supongamos que tenemos una secuencia de caracteres que corresponde a los primeros 10 dígitos, como cadenaConversion = \"0123456789\". Es fácil convertir un número menor que 10 a su equivalente en cadena al buscarlo en la secuencia. Por ejemplo, si el número es 9, entonces la cadena es cadenaConversion[9] o \"9\". Si logramos descomponer el número 769 en tres números de un solo dígito, 7, 6 y 9, convertirlo entonces a una cadena es simple.\n",
    "Un número menor que 10 parece un buen caso base.\n",
    "\n",
    "Saber cuál es nuestra base sugiere que el algoritmo global implicará tres componentes:\n",
    "\n",
    " - Reducir el número original a una serie de números de un solo dígito.\n",
    "\n",
    " - Convertir el número de un sólo dígito a una cadena mediante una búsqueda.\n",
    "\n",
    " - Concatenar las cadenas de un solo dígito para formar el resultado final.\n",
    " \n",
    "Usando división entera para dividir 769 entre 10, obtenemos 76 con un residuo de 9. Esto nos da dos buenos resultados. En primer lugar, el residuo es un número menor que nuestra base que se puede convertir inmediatamente en una cadena mediante la búsqueda en cadenaConversion. En segundo lugar, obtenemos un número que es más pequeño que nuestro original y nos mueve hacia el caso base de tener un único número menor que nuestra base. Ahora nuestro trabajo es convertir 76 a su representación de cadena. Nuevamente usaremos la división entera más el residuo para obtener resultados de 7 y 6 respectivamente. Finalmente, hemos reducido el problema a la conversión de 7, lo cual puede hacerse fácilmente ya que satisface la condición de caso base de ${n} < {base}$, donde ${base} = 10$."
   ]
  },
  {
   "cell_type": "code",
   "execution_count": 3,
   "id": "ed241525",
   "metadata": {},
   "outputs": [
    {
     "name": "stdout",
     "output_type": "stream",
     "text": [
      "5AD\n"
     ]
    }
   ],
   "source": [
    "def aCadena(n,base):\n",
    "    cadenaConversion = \"0123456789ABCDEF\"\n",
    "    if n < base:\n",
    "        return cadenaConversion[n]\n",
    "    else:\n",
    "        return aCadena(n//base,base) + cadenaConversion[n%base]\n",
    "\n",
    "print(aCadena(1453,16))\n"
   ]
  },
  {
   "cell_type": "markdown",
   "id": "8e53b85b",
   "metadata": {},
   "source": [
    "Observe que en la línea 3 verificamos el caso base donde n es menor que la base a la que estamos convirtiendo. Cuando detectamos el caso base, dejamos la recursividad y simplemente devolvemos la cadena de la secuencia cadenaConversion. En la línea 6 satisfacemos tanto la segunda ley como la tercera, haciendo la llamada recursiva y reduciendo el tamaño del problema mediante la división."
   ]
  },
  {
   "cell_type": "markdown",
   "id": "297860c1",
   "metadata": {},
   "source": [
    "## Autoevaluación"
   ]
  },
  {
   "cell_type": "markdown",
   "id": "4c393a97",
   "metadata": {},
   "source": [
    "### Parte1 \n",
    "Escriba una función que tome una cadena como parámetro y devuelva una nueva cadena que sea la inversa de la cadena original."
   ]
  },
  {
   "cell_type": "code",
   "execution_count": 4,
   "id": "bc3e6c45",
   "metadata": {},
   "outputs": [
    {
     "name": "stdout",
     "output_type": "stream",
     "text": [
      "tsetrepus\n"
     ]
    }
   ],
   "source": [
    "def aCadenaInversa(cadena):\n",
    "    cadenaInversa = ''\n",
    "    cadenaList = list(cadena)\n",
    "    \n",
    "    if len(cadenaList) == 1:\n",
    "        return cadenaList.pop()\n",
    "    else:\n",
    "        return cadenaList.pop() + aCadenaInversa(''.join(cadenaList))\n",
    "\n",
    "print(aCadenaInversa(\"supertest\"))"
   ]
  },
  {
   "cell_type": "markdown",
   "id": "46e2c97b",
   "metadata": {},
   "source": [
    "### Parte2\n",
    "Escriba una función que tome una cadena como parámetro y devuelva True si la cadena es un palíndromo y False en caso contrario. Recuerde que una cadena es un palíndromo si se escribe igual tanto hacia delante como hacia atrás. Por ejemplo: radar es un palíndromo. Como punto adicional, considere que los palíndromos también pueden ser frases, pero es necesario eliminar los espacios y la puntuación antes de hacer la verificación. Por ejemplo: anita lava la tina es un palíndromo. Otros palíndromos divertidos incluyen:"
   ]
  },
  {
   "cell_type": "code",
   "execution_count": 5,
   "id": "44226650",
   "metadata": {},
   "outputs": [
    {
     "data": {
      "text/plain": [
       "True"
      ]
     },
     "execution_count": 5,
     "metadata": {},
     "output_type": "execute_result"
    }
   ],
   "source": [
    "def esPalindromo(cadena):\n",
    "    cadena = cadena.replace(' ','').replace('.','').replace(',','').lower()\n",
    "    if cadena == aCadenaInversa(cadena).lower():\n",
    "        return True\n",
    "    else:\n",
    "        return False\n",
    "esPalindromo('Anita, la gorda lagartona, no traga la droga latina')"
   ]
  },
  {
   "cell_type": "markdown",
   "id": "5cd95af1",
   "metadata": {},
   "source": [
    "## Visualización de la recursividad"
   ]
  },
  {
   "cell_type": "markdown",
   "id": "033f69e2",
   "metadata": {},
   "source": [
    "Utilizaremos el módulo **turtle** para dibujar una espiral recursivamente. Después de importar el módulo creamos una tortuga. Cuando creamos la tortuga también creamos una ventana para que ella dibuje adentro. A continuación definimos la función dibujarEspiral. El caso base para esta función simple se da cuando la longitud de la línea que queremos dibujar, dada por el parámetro len, se reduce a cero o menos. Si la longitud de la línea es mayor que cero, indicamos a la tortuga que siga adelante por len unidades y luego gire a la derecha 90 grados. El paso recursivo ocurre cuando llamamos dibujarEspiral de nuevo con una longitud reducida. Al final llamamos a la función miVentana.exitonclick(), este es un método práctico de la ventana que pone a la tortuga en un modo de espera hasta que se haga clic dentro de la ventana, después de lo cual el programa la limpia y cierra.\n",
    "\n"
   ]
  },
  {
   "cell_type": "code",
   "execution_count": 42,
   "id": "00fca156",
   "metadata": {},
   "outputs": [
    {
     "ename": "KeyboardInterrupt",
     "evalue": "",
     "output_type": "error",
     "traceback": [
      "\u001b[1;31m---------------------------------------------------------------------------\u001b[0m",
      "\u001b[1;31mKeyboardInterrupt\u001b[0m                         Traceback (most recent call last)",
      "Cell \u001b[1;32mIn[42], line 12\u001b[0m\n\u001b[0;32m      9\u001b[0m         miTortuga\u001b[38;5;241m.\u001b[39mright(\u001b[38;5;241m90\u001b[39m)\n\u001b[0;32m     10\u001b[0m         dibujarEspiral(miTortuga,longitudLinea\u001b[38;5;241m-\u001b[39m\u001b[38;5;241m5\u001b[39m)\n\u001b[1;32m---> 12\u001b[0m dibujarEspiral(miTortuga,\u001b[38;5;241m200\u001b[39m)\n\u001b[0;32m     13\u001b[0m miVentana\u001b[38;5;241m.\u001b[39mexitonclick()\n",
      "Cell \u001b[1;32mIn[42], line 10\u001b[0m, in \u001b[0;36mdibujarEspiral\u001b[1;34m(miTortuga, longitudLinea)\u001b[0m\n\u001b[0;32m      8\u001b[0m miTortuga\u001b[38;5;241m.\u001b[39mforward(longitudLinea)\n\u001b[0;32m      9\u001b[0m miTortuga\u001b[38;5;241m.\u001b[39mright(\u001b[38;5;241m90\u001b[39m)\n\u001b[1;32m---> 10\u001b[0m dibujarEspiral(miTortuga,longitudLinea\u001b[38;5;241m-\u001b[39m\u001b[38;5;241m5\u001b[39m)\n",
      "Cell \u001b[1;32mIn[42], line 10\u001b[0m, in \u001b[0;36mdibujarEspiral\u001b[1;34m(miTortuga, longitudLinea)\u001b[0m\n\u001b[0;32m      8\u001b[0m miTortuga\u001b[38;5;241m.\u001b[39mforward(longitudLinea)\n\u001b[0;32m      9\u001b[0m miTortuga\u001b[38;5;241m.\u001b[39mright(\u001b[38;5;241m90\u001b[39m)\n\u001b[1;32m---> 10\u001b[0m dibujarEspiral(miTortuga,longitudLinea\u001b[38;5;241m-\u001b[39m\u001b[38;5;241m5\u001b[39m)\n",
      "    \u001b[1;31m[... skipping similar frames: dibujarEspiral at line 10 (2 times)]\u001b[0m\n",
      "Cell \u001b[1;32mIn[42], line 10\u001b[0m, in \u001b[0;36mdibujarEspiral\u001b[1;34m(miTortuga, longitudLinea)\u001b[0m\n\u001b[0;32m      8\u001b[0m miTortuga\u001b[38;5;241m.\u001b[39mforward(longitudLinea)\n\u001b[0;32m      9\u001b[0m miTortuga\u001b[38;5;241m.\u001b[39mright(\u001b[38;5;241m90\u001b[39m)\n\u001b[1;32m---> 10\u001b[0m dibujarEspiral(miTortuga,longitudLinea\u001b[38;5;241m-\u001b[39m\u001b[38;5;241m5\u001b[39m)\n",
      "Cell \u001b[1;32mIn[42], line 9\u001b[0m, in \u001b[0;36mdibujarEspiral\u001b[1;34m(miTortuga, longitudLinea)\u001b[0m\n\u001b[0;32m      7\u001b[0m \u001b[38;5;28;01mif\u001b[39;00m longitudLinea \u001b[38;5;241m>\u001b[39m \u001b[38;5;241m0\u001b[39m:\n\u001b[0;32m      8\u001b[0m     miTortuga\u001b[38;5;241m.\u001b[39mforward(longitudLinea)\n\u001b[1;32m----> 9\u001b[0m     miTortuga\u001b[38;5;241m.\u001b[39mright(\u001b[38;5;241m90\u001b[39m)\n\u001b[0;32m     10\u001b[0m     dibujarEspiral(miTortuga,longitudLinea\u001b[38;5;241m-\u001b[39m\u001b[38;5;241m5\u001b[39m)\n",
      "File \u001b[1;32m~\\anaconda3\\Lib\\turtle.py:1679\u001b[0m, in \u001b[0;36mTNavigator.right\u001b[1;34m(self, angle)\u001b[0m\n\u001b[0;32m   1660\u001b[0m \u001b[38;5;28;01mdef\u001b[39;00m \u001b[38;5;21mright\u001b[39m(\u001b[38;5;28mself\u001b[39m, angle):\n\u001b[0;32m   1661\u001b[0m \u001b[38;5;250m    \u001b[39m\u001b[38;5;124;03m\"\"\"Turn turtle right by angle units.\u001b[39;00m\n\u001b[0;32m   1662\u001b[0m \n\u001b[0;32m   1663\u001b[0m \u001b[38;5;124;03m    Aliases: right | rt\u001b[39;00m\n\u001b[1;32m   (...)\u001b[0m\n\u001b[0;32m   1677\u001b[0m \u001b[38;5;124;03m    337.0\u001b[39;00m\n\u001b[0;32m   1678\u001b[0m \u001b[38;5;124;03m    \"\"\"\u001b[39;00m\n\u001b[1;32m-> 1679\u001b[0m     \u001b[38;5;28mself\u001b[39m\u001b[38;5;241m.\u001b[39m_rotate(\u001b[38;5;241m-\u001b[39mangle)\n",
      "File \u001b[1;32m~\\anaconda3\\Lib\\turtle.py:3293\u001b[0m, in \u001b[0;36mRawTurtle._rotate\u001b[1;34m(self, angle)\u001b[0m\n\u001b[0;32m   3291\u001b[0m     \u001b[38;5;28;01mfor\u001b[39;00m _ \u001b[38;5;129;01min\u001b[39;00m \u001b[38;5;28mrange\u001b[39m(steps):\n\u001b[0;32m   3292\u001b[0m         \u001b[38;5;28mself\u001b[39m\u001b[38;5;241m.\u001b[39m_orient \u001b[38;5;241m=\u001b[39m \u001b[38;5;28mself\u001b[39m\u001b[38;5;241m.\u001b[39m_orient\u001b[38;5;241m.\u001b[39mrotate(delta)\n\u001b[1;32m-> 3293\u001b[0m         \u001b[38;5;28mself\u001b[39m\u001b[38;5;241m.\u001b[39m_update()\n\u001b[0;32m   3294\u001b[0m \u001b[38;5;28mself\u001b[39m\u001b[38;5;241m.\u001b[39m_orient \u001b[38;5;241m=\u001b[39m neworient\n\u001b[0;32m   3295\u001b[0m \u001b[38;5;28mself\u001b[39m\u001b[38;5;241m.\u001b[39m_update()\n",
      "File \u001b[1;32m~\\anaconda3\\Lib\\turtle.py:2661\u001b[0m, in \u001b[0;36mRawTurtle._update\u001b[1;34m(self)\u001b[0m\n\u001b[0;32m   2659\u001b[0m     \u001b[38;5;28;01mreturn\u001b[39;00m\n\u001b[0;32m   2660\u001b[0m \u001b[38;5;28;01melif\u001b[39;00m screen\u001b[38;5;241m.\u001b[39m_tracing \u001b[38;5;241m==\u001b[39m \u001b[38;5;241m1\u001b[39m:\n\u001b[1;32m-> 2661\u001b[0m     \u001b[38;5;28mself\u001b[39m\u001b[38;5;241m.\u001b[39m_update_data()\n\u001b[0;32m   2662\u001b[0m     \u001b[38;5;28mself\u001b[39m\u001b[38;5;241m.\u001b[39m_drawturtle()\n\u001b[0;32m   2663\u001b[0m     screen\u001b[38;5;241m.\u001b[39m_update()                  \u001b[38;5;66;03m# TurtleScreenBase\u001b[39;00m\n",
      "File \u001b[1;32m~\\anaconda3\\Lib\\turtle.py:2651\u001b[0m, in \u001b[0;36mRawTurtle._update_data\u001b[1;34m(self)\u001b[0m\n\u001b[0;32m   2649\u001b[0m     \u001b[38;5;28;01mreturn\u001b[39;00m\n\u001b[0;32m   2650\u001b[0m \u001b[38;5;28;01mif\u001b[39;00m \u001b[38;5;28mlen\u001b[39m(\u001b[38;5;28mself\u001b[39m\u001b[38;5;241m.\u001b[39mcurrentLine)\u001b[38;5;241m>\u001b[39m\u001b[38;5;241m1\u001b[39m:\n\u001b[1;32m-> 2651\u001b[0m     \u001b[38;5;28mself\u001b[39m\u001b[38;5;241m.\u001b[39mscreen\u001b[38;5;241m.\u001b[39m_drawline(\u001b[38;5;28mself\u001b[39m\u001b[38;5;241m.\u001b[39mcurrentLineItem, \u001b[38;5;28mself\u001b[39m\u001b[38;5;241m.\u001b[39mcurrentLine,\n\u001b[0;32m   2652\u001b[0m                           \u001b[38;5;28mself\u001b[39m\u001b[38;5;241m.\u001b[39m_pencolor, \u001b[38;5;28mself\u001b[39m\u001b[38;5;241m.\u001b[39m_pensize)\n",
      "File \u001b[1;32m~\\anaconda3\\Lib\\turtle.py:547\u001b[0m, in \u001b[0;36mTurtleScreenBase._drawline\u001b[1;34m(self, lineitem, coordlist, fill, width, top)\u001b[0m\n\u001b[0;32m    545\u001b[0m     \u001b[38;5;28mself\u001b[39m\u001b[38;5;241m.\u001b[39mcv\u001b[38;5;241m.\u001b[39mcoords(lineitem, \u001b[38;5;241m*\u001b[39mcl)\n\u001b[0;32m    546\u001b[0m \u001b[38;5;28;01mif\u001b[39;00m fill \u001b[38;5;129;01mis\u001b[39;00m \u001b[38;5;129;01mnot\u001b[39;00m \u001b[38;5;28;01mNone\u001b[39;00m:\n\u001b[1;32m--> 547\u001b[0m     \u001b[38;5;28mself\u001b[39m\u001b[38;5;241m.\u001b[39mcv\u001b[38;5;241m.\u001b[39mitemconfigure(lineitem, fill\u001b[38;5;241m=\u001b[39mfill)\n\u001b[0;32m    548\u001b[0m \u001b[38;5;28;01mif\u001b[39;00m width \u001b[38;5;129;01mis\u001b[39;00m \u001b[38;5;129;01mnot\u001b[39;00m \u001b[38;5;28;01mNone\u001b[39;00m:\n\u001b[0;32m    549\u001b[0m     \u001b[38;5;28mself\u001b[39m\u001b[38;5;241m.\u001b[39mcv\u001b[38;5;241m.\u001b[39mitemconfigure(lineitem, width\u001b[38;5;241m=\u001b[39mwidth)\n",
      "File \u001b[1;32m<string>:1\u001b[0m, in \u001b[0;36mitemconfigure\u001b[1;34m(self, *args, **kw)\u001b[0m\n",
      "File \u001b[1;32m~\\anaconda3\\Lib\\tkinter\\__init__.py:2959\u001b[0m, in \u001b[0;36mCanvas.itemconfigure\u001b[1;34m(self, tagOrId, cnf, **kw)\u001b[0m\n\u001b[0;32m   2952\u001b[0m \u001b[38;5;28;01mdef\u001b[39;00m \u001b[38;5;21mitemconfigure\u001b[39m(\u001b[38;5;28mself\u001b[39m, tagOrId, cnf\u001b[38;5;241m=\u001b[39m\u001b[38;5;28;01mNone\u001b[39;00m, \u001b[38;5;241m*\u001b[39m\u001b[38;5;241m*\u001b[39mkw):\n\u001b[0;32m   2953\u001b[0m \u001b[38;5;250m    \u001b[39m\u001b[38;5;124;03m\"\"\"Configure resources of an item TAGORID.\u001b[39;00m\n\u001b[0;32m   2954\u001b[0m \n\u001b[0;32m   2955\u001b[0m \u001b[38;5;124;03m    The values for resources are specified as keyword\u001b[39;00m\n\u001b[0;32m   2956\u001b[0m \u001b[38;5;124;03m    arguments. To get an overview about\u001b[39;00m\n\u001b[0;32m   2957\u001b[0m \u001b[38;5;124;03m    the allowed keyword arguments call the method without arguments.\u001b[39;00m\n\u001b[0;32m   2958\u001b[0m \u001b[38;5;124;03m    \"\"\"\u001b[39;00m\n\u001b[1;32m-> 2959\u001b[0m     \u001b[38;5;28;01mreturn\u001b[39;00m \u001b[38;5;28mself\u001b[39m\u001b[38;5;241m.\u001b[39m_configure((\u001b[38;5;124m'\u001b[39m\u001b[38;5;124mitemconfigure\u001b[39m\u001b[38;5;124m'\u001b[39m, tagOrId), cnf, kw)\n",
      "File \u001b[1;32m~\\anaconda3\\Lib\\tkinter\\__init__.py:1692\u001b[0m, in \u001b[0;36mMisc._configure\u001b[1;34m(self, cmd, cnf, kw)\u001b[0m\n\u001b[0;32m   1690\u001b[0m \u001b[38;5;28;01mif\u001b[39;00m \u001b[38;5;28misinstance\u001b[39m(cnf, \u001b[38;5;28mstr\u001b[39m):\n\u001b[0;32m   1691\u001b[0m     \u001b[38;5;28;01mreturn\u001b[39;00m \u001b[38;5;28mself\u001b[39m\u001b[38;5;241m.\u001b[39m_getconfigure1(_flatten((\u001b[38;5;28mself\u001b[39m\u001b[38;5;241m.\u001b[39m_w, cmd, \u001b[38;5;124m'\u001b[39m\u001b[38;5;124m-\u001b[39m\u001b[38;5;124m'\u001b[39m\u001b[38;5;241m+\u001b[39mcnf)))\n\u001b[1;32m-> 1692\u001b[0m \u001b[38;5;28mself\u001b[39m\u001b[38;5;241m.\u001b[39mtk\u001b[38;5;241m.\u001b[39mcall(_flatten((\u001b[38;5;28mself\u001b[39m\u001b[38;5;241m.\u001b[39m_w, cmd)) \u001b[38;5;241m+\u001b[39m \u001b[38;5;28mself\u001b[39m\u001b[38;5;241m.\u001b[39m_options(cnf))\n",
      "\u001b[1;31mKeyboardInterrupt\u001b[0m: "
     ]
    }
   ],
   "source": [
    "import turtle\n",
    "\n",
    "miTortuga = turtle.Turtle()\n",
    "miVentana = turtle.Screen()\n",
    "\n",
    "def dibujarEspiral(miTortuga, longitudLinea):\n",
    "    if longitudLinea > 0:\n",
    "        miTortuga.forward(longitudLinea)\n",
    "        miTortuga.right(90)\n",
    "        dibujarEspiral(miTortuga,longitudLinea-5)\n",
    "\n",
    "dibujarEspiral(miTortuga,200)\n",
    "miVentana.exitonclick()"
   ]
  },
  {
   "cell_type": "markdown",
   "id": "94eba5bb",
   "metadata": {},
   "source": [
    "### Árbol Fractal"
   ]
  },
  {
   "cell_type": "code",
   "execution_count": 61,
   "id": "90004341",
   "metadata": {},
   "outputs": [
    {
     "ename": "TypeError",
     "evalue": "object of type 'NoneType' has no len()",
     "output_type": "error",
     "traceback": [
      "\u001b[1;31m---------------------------------------------------------------------------\u001b[0m",
      "\u001b[1;31mTypeError\u001b[0m                                 Traceback (most recent call last)",
      "Cell \u001b[1;32mIn[61], line 33\u001b[0m\n\u001b[0;32m     30\u001b[0m     arbol(\u001b[38;5;241m75\u001b[39m,t)\n\u001b[0;32m     31\u001b[0m     miVentana\u001b[38;5;241m.\u001b[39mexitonclick()\n\u001b[1;32m---> 33\u001b[0m main()\n",
      "Cell \u001b[1;32mIn[61], line 30\u001b[0m, in \u001b[0;36mmain\u001b[1;34m()\u001b[0m\n\u001b[0;32m     28\u001b[0m t\u001b[38;5;241m.\u001b[39mdown()\n\u001b[0;32m     29\u001b[0m t\u001b[38;5;241m.\u001b[39mcolor(\u001b[38;5;124m\"\u001b[39m\u001b[38;5;124mbrown\u001b[39m\u001b[38;5;124m\"\u001b[39m)\n\u001b[1;32m---> 30\u001b[0m arbol(\u001b[38;5;241m75\u001b[39m,t)\n\u001b[0;32m     31\u001b[0m miVentana\u001b[38;5;241m.\u001b[39mexitonclick()\n",
      "Cell \u001b[1;32mIn[61], line 13\u001b[0m, in \u001b[0;36marbol\u001b[1;34m(longitudRama, t)\u001b[0m\n\u001b[0;32m     11\u001b[0m t\u001b[38;5;241m.\u001b[39mpensize(longitudRama\u001b[38;5;241m/\u001b[39m\u001b[38;5;241m10\u001b[39m)\n\u001b[0;32m     12\u001b[0m t\u001b[38;5;241m.\u001b[39mright(angulo)\n\u001b[1;32m---> 13\u001b[0m arbol(longitudRama\u001b[38;5;241m-\u001b[39mdiferencia,t)\n\u001b[0;32m     14\u001b[0m t\u001b[38;5;241m.\u001b[39mpensize(longitudRama\u001b[38;5;241m/\u001b[39m\u001b[38;5;241m10\u001b[39m)\n\u001b[0;32m     15\u001b[0m t\u001b[38;5;241m.\u001b[39mleft(angulo\u001b[38;5;241m*\u001b[39m\u001b[38;5;241m2\u001b[39m)\n",
      "Cell \u001b[1;32mIn[61], line 13\u001b[0m, in \u001b[0;36marbol\u001b[1;34m(longitudRama, t)\u001b[0m\n\u001b[0;32m     11\u001b[0m t\u001b[38;5;241m.\u001b[39mpensize(longitudRama\u001b[38;5;241m/\u001b[39m\u001b[38;5;241m10\u001b[39m)\n\u001b[0;32m     12\u001b[0m t\u001b[38;5;241m.\u001b[39mright(angulo)\n\u001b[1;32m---> 13\u001b[0m arbol(longitudRama\u001b[38;5;241m-\u001b[39mdiferencia,t)\n\u001b[0;32m     14\u001b[0m t\u001b[38;5;241m.\u001b[39mpensize(longitudRama\u001b[38;5;241m/\u001b[39m\u001b[38;5;241m10\u001b[39m)\n\u001b[0;32m     15\u001b[0m t\u001b[38;5;241m.\u001b[39mleft(angulo\u001b[38;5;241m*\u001b[39m\u001b[38;5;241m2\u001b[39m)\n",
      "    \u001b[1;31m[... skipping similar frames: arbol at line 13 (9 times)]\u001b[0m\n",
      "Cell \u001b[1;32mIn[61], line 13\u001b[0m, in \u001b[0;36marbol\u001b[1;34m(longitudRama, t)\u001b[0m\n\u001b[0;32m     11\u001b[0m t\u001b[38;5;241m.\u001b[39mpensize(longitudRama\u001b[38;5;241m/\u001b[39m\u001b[38;5;241m10\u001b[39m)\n\u001b[0;32m     12\u001b[0m t\u001b[38;5;241m.\u001b[39mright(angulo)\n\u001b[1;32m---> 13\u001b[0m arbol(longitudRama\u001b[38;5;241m-\u001b[39mdiferencia,t)\n\u001b[0;32m     14\u001b[0m t\u001b[38;5;241m.\u001b[39mpensize(longitudRama\u001b[38;5;241m/\u001b[39m\u001b[38;5;241m10\u001b[39m)\n\u001b[0;32m     15\u001b[0m t\u001b[38;5;241m.\u001b[39mleft(angulo\u001b[38;5;241m*\u001b[39m\u001b[38;5;241m2\u001b[39m)\n",
      "Cell \u001b[1;32mIn[61], line 20\u001b[0m, in \u001b[0;36marbol\u001b[1;34m(longitudRama, t)\u001b[0m\n\u001b[0;32m     18\u001b[0m t\u001b[38;5;241m.\u001b[39mright(angulo)\n\u001b[0;32m     19\u001b[0m t\u001b[38;5;241m.\u001b[39mbackward(longitudRama)\n\u001b[1;32m---> 20\u001b[0m t\u001b[38;5;241m.\u001b[39mcolor(\u001b[38;5;28;01mNone\u001b[39;00m)\n",
      "File \u001b[1;32m~\\anaconda3\\Lib\\turtle.py:2217\u001b[0m, in \u001b[0;36mTPen.color\u001b[1;34m(self, *args)\u001b[0m\n\u001b[0;32m   2215\u001b[0m \u001b[38;5;28;01melif\u001b[39;00m l \u001b[38;5;241m==\u001b[39m \u001b[38;5;241m3\u001b[39m:\n\u001b[0;32m   2216\u001b[0m     pcolor \u001b[38;5;241m=\u001b[39m fcolor \u001b[38;5;241m=\u001b[39m args\n\u001b[1;32m-> 2217\u001b[0m pcolor \u001b[38;5;241m=\u001b[39m \u001b[38;5;28mself\u001b[39m\u001b[38;5;241m.\u001b[39m_colorstr(pcolor)\n\u001b[0;32m   2218\u001b[0m fcolor \u001b[38;5;241m=\u001b[39m \u001b[38;5;28mself\u001b[39m\u001b[38;5;241m.\u001b[39m_colorstr(fcolor)\n\u001b[0;32m   2219\u001b[0m \u001b[38;5;28mself\u001b[39m\u001b[38;5;241m.\u001b[39mpen(pencolor\u001b[38;5;241m=\u001b[39mpcolor, fillcolor\u001b[38;5;241m=\u001b[39mfcolor)\n",
      "File \u001b[1;32m~\\anaconda3\\Lib\\turtle.py:2697\u001b[0m, in \u001b[0;36mRawTurtle._colorstr\u001b[1;34m(self, args)\u001b[0m\n\u001b[0;32m   2696\u001b[0m \u001b[38;5;28;01mdef\u001b[39;00m \u001b[38;5;21m_colorstr\u001b[39m(\u001b[38;5;28mself\u001b[39m, args):\n\u001b[1;32m-> 2697\u001b[0m     \u001b[38;5;28;01mreturn\u001b[39;00m \u001b[38;5;28mself\u001b[39m\u001b[38;5;241m.\u001b[39mscreen\u001b[38;5;241m.\u001b[39m_colorstr(args)\n",
      "File \u001b[1;32m~\\anaconda3\\Lib\\turtle.py:1153\u001b[0m, in \u001b[0;36mTurtleScreen._colorstr\u001b[1;34m(self, color)\u001b[0m\n\u001b[0;32m   1143\u001b[0m \u001b[38;5;28;01mdef\u001b[39;00m \u001b[38;5;21m_colorstr\u001b[39m(\u001b[38;5;28mself\u001b[39m, color):\n\u001b[0;32m   1144\u001b[0m \u001b[38;5;250m    \u001b[39m\u001b[38;5;124;03m\"\"\"Return color string corresponding to args.\u001b[39;00m\n\u001b[0;32m   1145\u001b[0m \n\u001b[0;32m   1146\u001b[0m \u001b[38;5;124;03m    Argument may be a string or a tuple of three\u001b[39;00m\n\u001b[1;32m   (...)\u001b[0m\n\u001b[0;32m   1151\u001b[0m \u001b[38;5;124;03m    an error is raised.\u001b[39;00m\n\u001b[0;32m   1152\u001b[0m \u001b[38;5;124;03m    \"\"\"\u001b[39;00m\n\u001b[1;32m-> 1153\u001b[0m     \u001b[38;5;28;01mif\u001b[39;00m \u001b[38;5;28mlen\u001b[39m(color) \u001b[38;5;241m==\u001b[39m \u001b[38;5;241m1\u001b[39m:\n\u001b[0;32m   1154\u001b[0m         color \u001b[38;5;241m=\u001b[39m color[\u001b[38;5;241m0\u001b[39m]\n\u001b[0;32m   1155\u001b[0m     \u001b[38;5;28;01mif\u001b[39;00m \u001b[38;5;28misinstance\u001b[39m(color, \u001b[38;5;28mstr\u001b[39m):\n",
      "\u001b[1;31mTypeError\u001b[0m: object of type 'NoneType' has no len()"
     ]
    }
   ],
   "source": [
    "import random\n",
    "def arbol(longitudRama,t):\n",
    "    diferencia = random.randrange(1,15,1)\n",
    "    angulo = random.randrange(15,45,5)\n",
    "    if longitudRama > 5:\n",
    "        if longitudRama < 10:\n",
    "            t.color(\"green\")\n",
    "        else:\n",
    "            t.color(\"brown\")\n",
    "        t.forward(longitudRama)\n",
    "        t.pensize(longitudRama/10)\n",
    "        t.right(angulo)\n",
    "        arbol(longitudRama-diferencia,t)\n",
    "        t.pensize(longitudRama/10)\n",
    "        t.left(angulo*2)\n",
    "        arbol(longitudRama-diferencia,t)\n",
    "        t.pensize(longitudRama/10)\n",
    "        t.right(angulo)\n",
    "        t.backward(longitudRama)\n",
    "    \n",
    "def main():\n",
    "    t = turtle.Turtle()\n",
    "    miVentana = turtle.Screen()\n",
    "    t.left(90)\n",
    "    t.up()\n",
    "    t.backward(100)\n",
    "    t.down()\n",
    "    t.color(\"brown\")\n",
    "    arbol(75,t)\n",
    "    miVentana.exitonclick()\n",
    "\n",
    "main()\n"
   ]
  },
  {
   "cell_type": "markdown",
   "id": "cfc21643",
   "metadata": {},
   "source": [
    "## El triángulo de Sierpinski"
   ]
  },
  {
   "cell_type": "code",
   "execution_count": 43,
   "id": "ae460203",
   "metadata": {
    "scrolled": false
   },
   "outputs": [
    {
     "ename": "KeyboardInterrupt",
     "evalue": "",
     "output_type": "error",
     "traceback": [
      "\u001b[1;31m---------------------------------------------------------------------------\u001b[0m",
      "\u001b[1;31mKeyboardInterrupt\u001b[0m                         Traceback (most recent call last)",
      "Cell \u001b[1;32mIn[43], line 40\u001b[0m\n\u001b[0;32m     37\u001b[0m     sierpinski(misPuntos,\u001b[38;5;241m3\u001b[39m,miTortuga)\n\u001b[0;32m     38\u001b[0m     miVentana\u001b[38;5;241m.\u001b[39mexitonclick()\n\u001b[1;32m---> 40\u001b[0m main()\n",
      "Cell \u001b[1;32mIn[43], line 37\u001b[0m, in \u001b[0;36mmain\u001b[1;34m()\u001b[0m\n\u001b[0;32m     35\u001b[0m miVentana \u001b[38;5;241m=\u001b[39m turtle\u001b[38;5;241m.\u001b[39mScreen()\n\u001b[0;32m     36\u001b[0m misPuntos \u001b[38;5;241m=\u001b[39m [[\u001b[38;5;241m-\u001b[39m\u001b[38;5;241m100\u001b[39m,\u001b[38;5;241m-\u001b[39m\u001b[38;5;241m50\u001b[39m],[\u001b[38;5;241m0\u001b[39m,\u001b[38;5;241m100\u001b[39m],[\u001b[38;5;241m100\u001b[39m,\u001b[38;5;241m-\u001b[39m\u001b[38;5;241m50\u001b[39m]]\n\u001b[1;32m---> 37\u001b[0m sierpinski(misPuntos,\u001b[38;5;241m3\u001b[39m,miTortuga)\n\u001b[0;32m     38\u001b[0m miVentana\u001b[38;5;241m.\u001b[39mexitonclick()\n",
      "Cell \u001b[1;32mIn[43], line 20\u001b[0m, in \u001b[0;36msierpinski\u001b[1;34m(puntos, grado, miTortuga)\u001b[0m\n\u001b[0;32m     18\u001b[0m dibujarTriangulo(puntos,colormap[grado],miTortuga)\n\u001b[0;32m     19\u001b[0m \u001b[38;5;28;01mif\u001b[39;00m grado \u001b[38;5;241m>\u001b[39m \u001b[38;5;241m0\u001b[39m:\n\u001b[1;32m---> 20\u001b[0m     sierpinski([puntos[\u001b[38;5;241m0\u001b[39m],\n\u001b[0;32m     21\u001b[0m                     obtenerMitad(puntos[\u001b[38;5;241m0\u001b[39m], puntos[\u001b[38;5;241m1\u001b[39m]),\n\u001b[0;32m     22\u001b[0m                     obtenerMitad(puntos[\u001b[38;5;241m0\u001b[39m], puntos[\u001b[38;5;241m2\u001b[39m])],\n\u001b[0;32m     23\u001b[0m                grado\u001b[38;5;241m-\u001b[39m\u001b[38;5;241m1\u001b[39m, miTortuga)\n\u001b[0;32m     24\u001b[0m     sierpinski([puntos[\u001b[38;5;241m1\u001b[39m],\n\u001b[0;32m     25\u001b[0m                     obtenerMitad(puntos[\u001b[38;5;241m0\u001b[39m], puntos[\u001b[38;5;241m1\u001b[39m]),\n\u001b[0;32m     26\u001b[0m                     obtenerMitad(puntos[\u001b[38;5;241m1\u001b[39m], puntos[\u001b[38;5;241m2\u001b[39m])],\n\u001b[0;32m     27\u001b[0m                grado\u001b[38;5;241m-\u001b[39m\u001b[38;5;241m1\u001b[39m, miTortuga)\n\u001b[0;32m     28\u001b[0m     sierpinski([puntos[\u001b[38;5;241m2\u001b[39m],\n\u001b[0;32m     29\u001b[0m                     obtenerMitad(puntos[\u001b[38;5;241m2\u001b[39m], puntos[\u001b[38;5;241m1\u001b[39m]),\n\u001b[0;32m     30\u001b[0m                     obtenerMitad(puntos[\u001b[38;5;241m0\u001b[39m], puntos[\u001b[38;5;241m2\u001b[39m])],\n\u001b[0;32m     31\u001b[0m                grado\u001b[38;5;241m-\u001b[39m\u001b[38;5;241m1\u001b[39m, miTortuga)\n",
      "Cell \u001b[1;32mIn[43], line 28\u001b[0m, in \u001b[0;36msierpinski\u001b[1;34m(puntos, grado, miTortuga)\u001b[0m\n\u001b[0;32m     20\u001b[0m sierpinski([puntos[\u001b[38;5;241m0\u001b[39m],\n\u001b[0;32m     21\u001b[0m                 obtenerMitad(puntos[\u001b[38;5;241m0\u001b[39m], puntos[\u001b[38;5;241m1\u001b[39m]),\n\u001b[0;32m     22\u001b[0m                 obtenerMitad(puntos[\u001b[38;5;241m0\u001b[39m], puntos[\u001b[38;5;241m2\u001b[39m])],\n\u001b[0;32m     23\u001b[0m            grado\u001b[38;5;241m-\u001b[39m\u001b[38;5;241m1\u001b[39m, miTortuga)\n\u001b[0;32m     24\u001b[0m sierpinski([puntos[\u001b[38;5;241m1\u001b[39m],\n\u001b[0;32m     25\u001b[0m                 obtenerMitad(puntos[\u001b[38;5;241m0\u001b[39m], puntos[\u001b[38;5;241m1\u001b[39m]),\n\u001b[0;32m     26\u001b[0m                 obtenerMitad(puntos[\u001b[38;5;241m1\u001b[39m], puntos[\u001b[38;5;241m2\u001b[39m])],\n\u001b[0;32m     27\u001b[0m            grado\u001b[38;5;241m-\u001b[39m\u001b[38;5;241m1\u001b[39m, miTortuga)\n\u001b[1;32m---> 28\u001b[0m sierpinski([puntos[\u001b[38;5;241m2\u001b[39m],\n\u001b[0;32m     29\u001b[0m                 obtenerMitad(puntos[\u001b[38;5;241m2\u001b[39m], puntos[\u001b[38;5;241m1\u001b[39m]),\n\u001b[0;32m     30\u001b[0m                 obtenerMitad(puntos[\u001b[38;5;241m0\u001b[39m], puntos[\u001b[38;5;241m2\u001b[39m])],\n\u001b[0;32m     31\u001b[0m            grado\u001b[38;5;241m-\u001b[39m\u001b[38;5;241m1\u001b[39m, miTortuga)\n",
      "Cell \u001b[1;32mIn[43], line 20\u001b[0m, in \u001b[0;36msierpinski\u001b[1;34m(puntos, grado, miTortuga)\u001b[0m\n\u001b[0;32m     18\u001b[0m dibujarTriangulo(puntos,colormap[grado],miTortuga)\n\u001b[0;32m     19\u001b[0m \u001b[38;5;28;01mif\u001b[39;00m grado \u001b[38;5;241m>\u001b[39m \u001b[38;5;241m0\u001b[39m:\n\u001b[1;32m---> 20\u001b[0m     sierpinski([puntos[\u001b[38;5;241m0\u001b[39m],\n\u001b[0;32m     21\u001b[0m                     obtenerMitad(puntos[\u001b[38;5;241m0\u001b[39m], puntos[\u001b[38;5;241m1\u001b[39m]),\n\u001b[0;32m     22\u001b[0m                     obtenerMitad(puntos[\u001b[38;5;241m0\u001b[39m], puntos[\u001b[38;5;241m2\u001b[39m])],\n\u001b[0;32m     23\u001b[0m                grado\u001b[38;5;241m-\u001b[39m\u001b[38;5;241m1\u001b[39m, miTortuga)\n\u001b[0;32m     24\u001b[0m     sierpinski([puntos[\u001b[38;5;241m1\u001b[39m],\n\u001b[0;32m     25\u001b[0m                     obtenerMitad(puntos[\u001b[38;5;241m0\u001b[39m], puntos[\u001b[38;5;241m1\u001b[39m]),\n\u001b[0;32m     26\u001b[0m                     obtenerMitad(puntos[\u001b[38;5;241m1\u001b[39m], puntos[\u001b[38;5;241m2\u001b[39m])],\n\u001b[0;32m     27\u001b[0m                grado\u001b[38;5;241m-\u001b[39m\u001b[38;5;241m1\u001b[39m, miTortuga)\n\u001b[0;32m     28\u001b[0m     sierpinski([puntos[\u001b[38;5;241m2\u001b[39m],\n\u001b[0;32m     29\u001b[0m                     obtenerMitad(puntos[\u001b[38;5;241m2\u001b[39m], puntos[\u001b[38;5;241m1\u001b[39m]),\n\u001b[0;32m     30\u001b[0m                     obtenerMitad(puntos[\u001b[38;5;241m0\u001b[39m], puntos[\u001b[38;5;241m2\u001b[39m])],\n\u001b[0;32m     31\u001b[0m                grado\u001b[38;5;241m-\u001b[39m\u001b[38;5;241m1\u001b[39m, miTortuga)\n",
      "Cell \u001b[1;32mIn[43], line 18\u001b[0m, in \u001b[0;36msierpinski\u001b[1;34m(puntos, grado, miTortuga)\u001b[0m\n\u001b[0;32m     15\u001b[0m \u001b[38;5;28;01mdef\u001b[39;00m \u001b[38;5;21msierpinski\u001b[39m(puntos,grado,miTortuga):\n\u001b[0;32m     16\u001b[0m     colormap \u001b[38;5;241m=\u001b[39m [\u001b[38;5;124m'\u001b[39m\u001b[38;5;124mblue\u001b[39m\u001b[38;5;124m'\u001b[39m,\u001b[38;5;124m'\u001b[39m\u001b[38;5;124mred\u001b[39m\u001b[38;5;124m'\u001b[39m,\u001b[38;5;124m'\u001b[39m\u001b[38;5;124mgreen\u001b[39m\u001b[38;5;124m'\u001b[39m,\u001b[38;5;124m'\u001b[39m\u001b[38;5;124mblack\u001b[39m\u001b[38;5;124m'\u001b[39m,\u001b[38;5;124m'\u001b[39m\u001b[38;5;124myellow\u001b[39m\u001b[38;5;124m'\u001b[39m,\n\u001b[0;32m     17\u001b[0m                 \u001b[38;5;124m'\u001b[39m\u001b[38;5;124mviolet\u001b[39m\u001b[38;5;124m'\u001b[39m,\u001b[38;5;124m'\u001b[39m\u001b[38;5;124morange\u001b[39m\u001b[38;5;124m'\u001b[39m]\n\u001b[1;32m---> 18\u001b[0m     dibujarTriangulo(puntos,colormap[grado],miTortuga)\n\u001b[0;32m     19\u001b[0m     \u001b[38;5;28;01mif\u001b[39;00m grado \u001b[38;5;241m>\u001b[39m \u001b[38;5;241m0\u001b[39m:\n\u001b[0;32m     20\u001b[0m         sierpinski([puntos[\u001b[38;5;241m0\u001b[39m],\n\u001b[0;32m     21\u001b[0m                         obtenerMitad(puntos[\u001b[38;5;241m0\u001b[39m], puntos[\u001b[38;5;241m1\u001b[39m]),\n\u001b[0;32m     22\u001b[0m                         obtenerMitad(puntos[\u001b[38;5;241m0\u001b[39m], puntos[\u001b[38;5;241m2\u001b[39m])],\n\u001b[0;32m     23\u001b[0m                    grado\u001b[38;5;241m-\u001b[39m\u001b[38;5;241m1\u001b[39m, miTortuga)\n",
      "Cell \u001b[1;32mIn[43], line 10\u001b[0m, in \u001b[0;36mdibujarTriangulo\u001b[1;34m(puntos, color, miTortuga)\u001b[0m\n\u001b[0;32m      8\u001b[0m miTortuga\u001b[38;5;241m.\u001b[39mgoto(puntos[\u001b[38;5;241m2\u001b[39m][\u001b[38;5;241m0\u001b[39m],puntos[\u001b[38;5;241m2\u001b[39m][\u001b[38;5;241m1\u001b[39m])\n\u001b[0;32m      9\u001b[0m miTortuga\u001b[38;5;241m.\u001b[39mgoto(puntos[\u001b[38;5;241m0\u001b[39m][\u001b[38;5;241m0\u001b[39m],puntos[\u001b[38;5;241m0\u001b[39m][\u001b[38;5;241m1\u001b[39m])\n\u001b[1;32m---> 10\u001b[0m miTortuga\u001b[38;5;241m.\u001b[39mend_fill()\n",
      "File \u001b[1;32m~\\anaconda3\\Lib\\turtle.py:3366\u001b[0m, in \u001b[0;36mRawTurtle.end_fill\u001b[1;34m(self)\u001b[0m\n\u001b[0;32m   3364\u001b[0m         \u001b[38;5;28mself\u001b[39m\u001b[38;5;241m.\u001b[39mundobuffer\u001b[38;5;241m.\u001b[39mpush((\u001b[38;5;124m\"\u001b[39m\u001b[38;5;124mdofill\u001b[39m\u001b[38;5;124m\"\u001b[39m, \u001b[38;5;28mself\u001b[39m\u001b[38;5;241m.\u001b[39m_fillitem))\n\u001b[0;32m   3365\u001b[0m \u001b[38;5;28mself\u001b[39m\u001b[38;5;241m.\u001b[39m_fillitem \u001b[38;5;241m=\u001b[39m \u001b[38;5;28mself\u001b[39m\u001b[38;5;241m.\u001b[39m_fillpath \u001b[38;5;241m=\u001b[39m \u001b[38;5;28;01mNone\u001b[39;00m\n\u001b[1;32m-> 3366\u001b[0m \u001b[38;5;28mself\u001b[39m\u001b[38;5;241m.\u001b[39m_update()\n",
      "File \u001b[1;32m~\\anaconda3\\Lib\\turtle.py:2664\u001b[0m, in \u001b[0;36mRawTurtle._update\u001b[1;34m(self)\u001b[0m\n\u001b[0;32m   2662\u001b[0m     \u001b[38;5;28mself\u001b[39m\u001b[38;5;241m.\u001b[39m_drawturtle()\n\u001b[0;32m   2663\u001b[0m     screen\u001b[38;5;241m.\u001b[39m_update()                  \u001b[38;5;66;03m# TurtleScreenBase\u001b[39;00m\n\u001b[1;32m-> 2664\u001b[0m     screen\u001b[38;5;241m.\u001b[39m_delay(screen\u001b[38;5;241m.\u001b[39m_delayvalue) \u001b[38;5;66;03m# TurtleScreenBase\u001b[39;00m\n\u001b[0;32m   2665\u001b[0m \u001b[38;5;28;01melse\u001b[39;00m:\n\u001b[0;32m   2666\u001b[0m     \u001b[38;5;28mself\u001b[39m\u001b[38;5;241m.\u001b[39m_update_data()\n",
      "File \u001b[1;32m~\\anaconda3\\Lib\\turtle.py:566\u001b[0m, in \u001b[0;36mTurtleScreenBase._delay\u001b[1;34m(self, delay)\u001b[0m\n\u001b[0;32m    564\u001b[0m \u001b[38;5;28;01mdef\u001b[39;00m \u001b[38;5;21m_delay\u001b[39m(\u001b[38;5;28mself\u001b[39m, delay):\n\u001b[0;32m    565\u001b[0m \u001b[38;5;250m    \u001b[39m\u001b[38;5;124;03m\"\"\"Delay subsequent canvas actions for delay ms.\"\"\"\u001b[39;00m\n\u001b[1;32m--> 566\u001b[0m     \u001b[38;5;28mself\u001b[39m\u001b[38;5;241m.\u001b[39mcv\u001b[38;5;241m.\u001b[39mafter(delay)\n",
      "File \u001b[1;32m~\\anaconda3\\Lib\\tkinter\\__init__.py:856\u001b[0m, in \u001b[0;36mMisc.after\u001b[1;34m(self, ms, func, *args)\u001b[0m\n\u001b[0;32m    848\u001b[0m \u001b[38;5;250m\u001b[39m\u001b[38;5;124;03m\"\"\"Call function once after given time.\u001b[39;00m\n\u001b[0;32m    849\u001b[0m \n\u001b[0;32m    850\u001b[0m \u001b[38;5;124;03mMS specifies the time in milliseconds. FUNC gives the\u001b[39;00m\n\u001b[0;32m    851\u001b[0m \u001b[38;5;124;03mfunction which shall be called. Additional parameters\u001b[39;00m\n\u001b[0;32m    852\u001b[0m \u001b[38;5;124;03mare given as parameters to the function call.  Return\u001b[39;00m\n\u001b[0;32m    853\u001b[0m \u001b[38;5;124;03midentifier to cancel scheduling with after_cancel.\"\"\"\u001b[39;00m\n\u001b[0;32m    854\u001b[0m \u001b[38;5;28;01mif\u001b[39;00m func \u001b[38;5;129;01mis\u001b[39;00m \u001b[38;5;28;01mNone\u001b[39;00m:\n\u001b[0;32m    855\u001b[0m     \u001b[38;5;66;03m# I'd rather use time.sleep(ms*0.001)\u001b[39;00m\n\u001b[1;32m--> 856\u001b[0m     \u001b[38;5;28mself\u001b[39m\u001b[38;5;241m.\u001b[39mtk\u001b[38;5;241m.\u001b[39mcall(\u001b[38;5;124m'\u001b[39m\u001b[38;5;124mafter\u001b[39m\u001b[38;5;124m'\u001b[39m, ms)\n\u001b[0;32m    857\u001b[0m     \u001b[38;5;28;01mreturn\u001b[39;00m \u001b[38;5;28;01mNone\u001b[39;00m\n\u001b[0;32m    858\u001b[0m \u001b[38;5;28;01melse\u001b[39;00m:\n",
      "\u001b[1;31mKeyboardInterrupt\u001b[0m: "
     ]
    }
   ],
   "source": [
    "def dibujarTriangulo(puntos,color,miTortuga):\n",
    "    miTortuga.fillcolor(color)\n",
    "    miTortuga.up()\n",
    "    miTortuga.goto(puntos[0][0],puntos[0][1])\n",
    "    miTortuga.down()\n",
    "    miTortuga.begin_fill()\n",
    "    miTortuga.goto(puntos[1][0],puntos[1][1])\n",
    "    miTortuga.goto(puntos[2][0],puntos[2][1])\n",
    "    miTortuga.goto(puntos[0][0],puntos[0][1])\n",
    "    miTortuga.end_fill()\n",
    "\n",
    "def obtenerMitad(p1,p2):\n",
    "    return ( (p1[0]+p2[0]) / 2, (p1[1] + p2[1]) / 2)\n",
    "\n",
    "def sierpinski(puntos,grado,miTortuga):\n",
    "    colormap = ['blue','red','green','black','yellow',\n",
    "                'violet','orange']\n",
    "    dibujarTriangulo(puntos,colormap[grado],miTortuga)\n",
    "    if grado > 0:\n",
    "        sierpinski([puntos[0],\n",
    "                        obtenerMitad(puntos[0], puntos[1]),\n",
    "                        obtenerMitad(puntos[0], puntos[2])],\n",
    "                   grado-1, miTortuga)\n",
    "        sierpinski([puntos[1],\n",
    "                        obtenerMitad(puntos[0], puntos[1]),\n",
    "                        obtenerMitad(puntos[1], puntos[2])],\n",
    "                   grado-1, miTortuga)\n",
    "        sierpinski([puntos[2],\n",
    "                        obtenerMitad(puntos[2], puntos[1]),\n",
    "                        obtenerMitad(puntos[0], puntos[2])],\n",
    "                   grado-1, miTortuga)\n",
    "\n",
    "def main():\n",
    "    miTortuga = turtle.Turtle()\n",
    "    miVentana = turtle.Screen()\n",
    "    misPuntos = [[-100,-50],[0,100],[100,-50]]\n",
    "    sierpinski(misPuntos,3,miTortuga)\n",
    "    miVentana.exitonclick()\n",
    "\n",
    "main()"
   ]
  },
  {
   "cell_type": "markdown",
   "id": "6046acf8",
   "metadata": {},
   "source": [
    "## Las torres de Hanoi"
   ]
  },
  {
   "cell_type": "code",
   "execution_count": 15,
   "id": "54df68d6",
   "metadata": {},
   "outputs": [
    {
     "name": "stdout",
     "output_type": "stream",
     "text": [
      "mover disco de A a B\n",
      "mover disco de A a C\n",
      "mover disco de B a C\n",
      "mover disco de A a B\n",
      "mover disco de C a A\n",
      "mover disco de C a B\n",
      "mover disco de A a B\n"
     ]
    }
   ],
   "source": [
    "def moverTorre(altura,origen, destino, intermedio):\n",
    "    if altura >= 1:\n",
    "        moverTorre(altura-1,origen,intermedio,destino)\n",
    "        moverDisco(origen,destino)\n",
    "        moverTorre(altura-1,intermedio,destino,origen)\n",
    "\n",
    "def moverDisco(desde,hacia):\n",
    "    print(\"mover disco de\",desde,\"a\",hacia)\n",
    "\n",
    "moverTorre(3,\"A\",\"B\",\"C\")"
   ]
  },
  {
   "cell_type": "markdown",
   "id": "4fd3dffd",
   "metadata": {},
   "source": [
    "## Exploración de un laberinto"
   ]
  },
  {
   "cell_type": "code",
   "execution_count": 1,
   "id": "5917fdc7",
   "metadata": {},
   "outputs": [
    {
     "data": {
      "text/plain": [
       "True"
      ]
     },
     "execution_count": 1,
     "metadata": {},
     "output_type": "execute_result"
    }
   ],
   "source": [
    "import turtle\n",
    "\n",
    "PARTE_DEL_CAMINO = 'O'\n",
    "INTENTADO = '.'\n",
    "OBSTACULO = '+'\n",
    "CAJELLON_SIN_SALIDA = '-'\n",
    "\n",
    "class Laberinto:\n",
    "    def __init__(self,nombreArchivoLaberinto):\n",
    "        filasEnLaberinto = 0\n",
    "        columnasEnLaberinto = 0\n",
    "        self.listaLaberinto = []\n",
    "        archivoLaberinto = open(nombreArchivoLaberinto,'r')\n",
    "        filasEnLaberinto = 0\n",
    "        for linea in archivoLaberinto:\n",
    "            listaFila = []\n",
    "            columna = 0\n",
    "            for caracter in linea[:-1]:\n",
    "                listaFila.append(caracter)\n",
    "                if caracter == 'S':\n",
    "                    self.filaInicio = filasEnLaberinto\n",
    "                    self.columnaInicio = columna\n",
    "                columna = columna + 1\n",
    "            filasEnLaberinto = filasEnLaberinto + 1\n",
    "            self.listaLaberinto.append(listaFila)\n",
    "            columnasEnLaberinto = len(listaFila)\n",
    "\n",
    "        self.filasEnLaberinto = filasEnLaberinto\n",
    "        self.columnasEnLaberinto = columnasEnLaberinto\n",
    "        self.xTranslate = -columnasEnLaberinto/2\n",
    "        self.yTranslate = filasEnLaberinto/2\n",
    "        self.t = turtle.Turtle()\n",
    "        self.t.shape('turtle')\n",
    "        self.wn = turtle.Screen()\n",
    "        self.wn.setworldcoordinates(-(columnasEnLaberinto-1)/2-.5,-(filasEnLaberinto-1)/2-.5,(columnasEnLaberinto-1)/2+.5,(filasEnLaberinto-1)/2+.5)\n",
    "\n",
    "    def dibujarLaberinto(self):\n",
    "        self.t.speed(10)\n",
    "        self.wn.tracer(0)\n",
    "        for y in range(self.filasEnLaberinto):\n",
    "            for x in range(self.columnasEnLaberinto):\n",
    "                if self.listaLaberinto[y][x] == OBSTACULO:\n",
    "                    self.dibujarCajaCentrada(x+self.xTranslate,-y+self.yTranslate,'orange')\n",
    "        self.t.color('black')\n",
    "        self.t.fillcolor('blue')\n",
    "        self.wn.update()\n",
    "        self.wn.tracer(1)\n",
    "\n",
    "    def dibujarCajaCentrada(self,x,y,color):\n",
    "        self.t.up()\n",
    "        self.t.goto(x-.5,y-.5)\n",
    "        self.t.color(color)\n",
    "        self.t.fillcolor(color)\n",
    "        self.t.setheading(90)\n",
    "        self.t.down()\n",
    "        self.t.begin_fill()\n",
    "        for i in range(4):\n",
    "            self.t.forward(1)\n",
    "            self.t.right(90)\n",
    "        self.t.end_fill()\n",
    "\n",
    "    def moverTortuga(self,x,y):\n",
    "        self.t.up()\n",
    "        self.t.setheading(self.t.towards(x+self.xTranslate,-y+self.yTranslate))\n",
    "        self.t.goto(x+self.xTranslate,-y+self.yTranslate)\n",
    "\n",
    "    def tirarMigaDePan(self,color):\n",
    "        self.t.dot(10,color)\n",
    "\n",
    "    def actualizarPosicion(self,fila,columna,val=None):\n",
    "        if val:\n",
    "            self.listaLaberinto[fila][columna] = val\n",
    "        self.moverTortuga(columna,fila)\n",
    "\n",
    "        if val == PARTE_DEL_CAMINO:\n",
    "            color = 'green'\n",
    "        elif val == OBSTACULO:\n",
    "            color = 'red'\n",
    "        elif val == INTENTADO:\n",
    "            color = 'black'\n",
    "        elif val == CAJELLON_SIN_SALIDA:\n",
    "            color = 'red'\n",
    "        else:\n",
    "            color = None\n",
    "\n",
    "        if color:\n",
    "            self.tirarMigaDePan(color)\n",
    "\n",
    "    def esSalida(self,fila,columna):\n",
    "        return (fila == 0 or\n",
    "                fila == self.filasEnLaberinto-1 or\n",
    "                columna == 0 or\n",
    "                columna == self.columnasEnLaberinto-1 )\n",
    "\n",
    "    def __getitem__(self,indice):\n",
    "        return self.listaLaberinto[indice]\n",
    "\n",
    "\n",
    "def buscarDesde(laberinto, filaInicio, columnaInicio):\n",
    "    laberinto.actualizarPosicion(filaInicio, columnaInicio)\n",
    "   #  Verificar casos base:\n",
    "   #  1. Hemos tropezado con un obstáculo, devolver False\n",
    "    if laberinto[filaInicio][columnaInicio] == OBSTACULO :\n",
    "        return False\n",
    "    #  2. Hemos encontrado un cuadrado que ya ha sido explorado\n",
    "    if laberinto[filaInicio][columnaInicio] == INTENTADO:\n",
    "        return False\n",
    "    # 3. Éxito, un borde exterior no ocupado por un obstáculo\n",
    "    if laberinto.esSalida(filaInicio,columnaInicio):\n",
    "        laberinto.actualizarPosicion(filaInicio, columnaInicio, PARTE_DEL_CAMINO)\n",
    "        return True\n",
    "    laberinto.actualizarPosicion(filaInicio, columnaInicio, INTENTADO)\n",
    "\n",
    "    # De lo contrario, use cortocircuitos lógicos para probar cada\n",
    "    # dirección a su vez (si fuera necesario)\n",
    "    encontrado = buscarDesde(laberinto, filaInicio-1, columnaInicio) or \\\n",
    "            buscarDesde(laberinto, filaInicio+1, columnaInicio) or \\\n",
    "            buscarDesde(laberinto, filaInicio, columnaInicio-1) or \\\n",
    "            buscarDesde(laberinto, filaInicio, columnaInicio+1)\n",
    "    if encontrado:\n",
    "        laberinto.actualizarPosicion(filaInicio, columnaInicio, PARTE_DEL_CAMINO)\n",
    "    else:\n",
    "        laberinto.actualizarPosicion(filaInicio, columnaInicio, CAJELLON_SIN_SALIDA)\n",
    "    return encontrado\n",
    "\n",
    "miLaberinto = Laberinto('laberinto2.txt')\n",
    "miLaberinto.dibujarLaberinto()\n",
    "miLaberinto.actualizarPosicion(miLaberinto.filaInicio,miLaberinto.columnaInicio)\n",
    "\n",
    "buscarDesde(miLaberinto, miLaberinto.filaInicio, miLaberinto.columnaInicio)\n"
   ]
  },
  {
   "cell_type": "markdown",
   "id": "6b8d373a",
   "metadata": {},
   "source": [
    "## Programación Dinámica"
   ]
  },
  {
   "cell_type": "code",
   "execution_count": 11,
   "id": "11425a61",
   "metadata": {},
   "outputs": [
    {
     "name": "stdout",
     "output_type": "stream",
     "text": [
      "3\n"
     ]
    }
   ],
   "source": [
    "def vueltoRec(listaValoresMonedas,vuelto):\n",
    "    minMonedas = vuelto\n",
    "    if vuelto in listaValoresMonedas:\n",
    "        return 1\n",
    "    else:\n",
    "        for i in [m for m in listaValoresMonedas if m <= vuelto]:\n",
    "            numeroMonedas = 1 + vueltoRec(listaValoresMonedas,vuelto-i)            \n",
    "            if numeroMonedas < minMonedas:\n",
    "                minMonedas = numeroMonedas\n",
    "    return minMonedas\n",
    "\n",
    "print(vueltasRec([1,5,10,21,25],63))"
   ]
  },
  {
   "cell_type": "code",
   "execution_count": 14,
   "id": "064d3e52",
   "metadata": {},
   "outputs": [
    {
     "name": "stdout",
     "output_type": "stream",
     "text": [
      "6\n"
     ]
    }
   ],
   "source": [
    "def vueltoRecB(listaValoresMonedas,vueltos,resultadosConocidos):\n",
    "    minMonedas = vueltos\n",
    "    if vueltos in listaValoresMonedas:\n",
    "        resultadosConocidos[vueltos] = 1\n",
    "        return 1\n",
    "    elif resultadosConocidos[vueltos] > 0:\n",
    "        return resultadosConocidos[vueltos]\n",
    "    else:\n",
    "        for i in [m for m in listaValoresMonedas if m <= vueltos]:\n",
    "            numeroMonedas = 1 + vueltoRecB(listaValoresMonedas, vueltos-i,\n",
    "                          resultadosConocidos)\n",
    "            if numeroMonedas < minMonedas:\n",
    "                minMonedas = numeroMonedas\n",
    "                resultadosConocidos[vueltos] = minMonedas\n",
    "    return minMonedas\n",
    "\n",
    "print(vueltasRecB([1,5,10,25],63,[0]*64))"
   ]
  },
  {
   "cell_type": "code",
   "execution_count": 21,
   "id": "e4c0a201",
   "metadata": {},
   "outputs": [
    {
     "name": "stdout",
     "output_type": "stream",
     "text": [
      "Dar un vuelto de 33 centavos requiere\n",
      "2 monedas\n",
      "Tales monedas son:\n",
      "8\n",
      "25\n",
      "La lista usada es la siguiente:\n",
      "[1, 1, 1, 1, 1, 5, 1, 1, 8, 1, 10, 1, 1, 5, 1, 5, 8, 1, 8, 1, 10, 21, 1, 1, 8, 25, 1, 1, 8, 8, 5, 10, 1, 8]\n"
     ]
    }
   ],
   "source": [
    "def vueltasProgDin(listaValoresMonedas,vueltas,minMonedas,monedasUsadas):\n",
    "    for centavos in range(vueltas+1):\n",
    "        conteoMonedas = centavos\n",
    "        nuevaMoneda = 1\n",
    "        for j in [m for m in listaValoresMonedas if m <= centavos]:\n",
    "            if minMonedas[centavos-j] + 1 < conteoMonedas:\n",
    "                conteoMonedas = minMonedas[centavos-j]+1\n",
    "                nuevaMoneda = j\n",
    "        minMonedas[centavos] = conteoMonedas\n",
    "        monedasUsadas[centavos] = nuevaMoneda\n",
    "    return minMonedas[vueltas]\n",
    "\n",
    "def imprimirMonedas(monedasUsadas,vueltas):\n",
    "    moneda = vueltas\n",
    "    while moneda > 0:\n",
    "        estaMoneda = monedasUsadas[moneda]\n",
    "        print(estaMoneda)\n",
    "        moneda = moneda - estaMoneda\n",
    "\n",
    "def main():\n",
    "    cantidad = 33\n",
    "    listaM = [1,5,8,10,21,25]\n",
    "    monedasUsadas = [0]*(cantidad+1)\n",
    "    conteoMonedas = [0]*(cantidad+1)\n",
    "\n",
    "    print(\"Dar un vuelto de\",cantidad,\"centavos requiere\")\n",
    "    print(vueltasProgDin(listaM,cantidad,conteoMonedas,monedasUsadas),\"monedas\")\n",
    "    print(\"Tales monedas son:\")\n",
    "    imprimirMonedas(monedasUsadas,cantidad)\n",
    "    print(\"La lista usada es la siguiente:\")\n",
    "    print(monedasUsadas)\n",
    "\n",
    "main()\n"
   ]
  },
  {
   "cell_type": "markdown",
   "id": "022b0322",
   "metadata": {},
   "source": [
    "## Ejercicios"
   ]
  },
  {
   "cell_type": "markdown",
   "id": "7f35ad01",
   "metadata": {},
   "source": [
    "1. Escriba una función recursiva para calcular el factorial de un número."
   ]
  },
  {
   "cell_type": "code",
   "execution_count": 31,
   "id": "8825fda1",
   "metadata": {},
   "outputs": [
    {
     "data": {
      "text/plain": [
       "720"
      ]
     },
     "execution_count": 31,
     "metadata": {},
     "output_type": "execute_result"
    }
   ],
   "source": [
    "def factorial(numero):\n",
    "    #Normalizo numero a su valor absoluto\n",
    "    numero=abs(numero)\n",
    "    if numero == 0 or numero-1 == 0:\n",
    "        return 1\n",
    "    else:\n",
    "        return numero * factorial(numero-1)\n",
    "factorial(6)    "
   ]
  },
  {
   "cell_type": "markdown",
   "id": "c2125ff5",
   "metadata": {},
   "source": [
    "2. Escriba una función recursiva para invertir una lista."
   ]
  },
  {
   "cell_type": "code",
   "execution_count": 39,
   "id": "3b971307",
   "metadata": {},
   "outputs": [
    {
     "data": {
      "text/plain": [
       "[5, 4, 3, 2, 1]"
      ]
     },
     "execution_count": 39,
     "metadata": {},
     "output_type": "execute_result"
    }
   ],
   "source": [
    "def invertirLista(lista, listaInvertida):    \n",
    "    \n",
    "    if len(lista) == 1:\n",
    "        listaInvertida.append(lista.pop())\n",
    "    else:\n",
    "        listaInvertida.append(lista.pop())\n",
    "        listaInvertida + invertirLista(lista,listaInvertida)\n",
    "    return listaInvertida\n",
    "invertirLista([1,2,3,4,5],[])"
   ]
  }
 ],
 "metadata": {
  "kernelspec": {
   "display_name": "Python 3 (ipykernel)",
   "language": "python",
   "name": "python3"
  },
  "language_info": {
   "codemirror_mode": {
    "name": "ipython",
    "version": 3
   },
   "file_extension": ".py",
   "mimetype": "text/x-python",
   "name": "python",
   "nbconvert_exporter": "python",
   "pygments_lexer": "ipython3",
   "version": "3.11.5"
  }
 },
 "nbformat": 4,
 "nbformat_minor": 5
}
