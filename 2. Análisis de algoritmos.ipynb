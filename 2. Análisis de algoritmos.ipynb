{
 "cells": [
  {
   "cell_type": "markdown",
   "id": "6b871658",
   "metadata": {},
   "source": [
    "## Experimentos de desempeño"
   ]
  },
  {
   "cell_type": "code",
   "execution_count": 1,
   "id": "c9935d78",
   "metadata": {},
   "outputs": [
    {
     "data": {
      "text/plain": [
       "4"
      ]
     },
     "execution_count": 1,
     "metadata": {},
     "output_type": "execute_result"
    }
   ],
   "source": [
    "lista1=[150,23,67,39,4,56]\n",
    "\n",
    "def compararLista1(lista1):\n",
    "    minimo=lista1[0]\n",
    "    for i in lista1:\n",
    "        siguiente=i\n",
    "        if minimo>siguiente:\n",
    "            minimo=siguiente\n",
    "    return minimo\n",
    "            \n",
    "compararLista1(lista1)  "
   ]
  },
  {
   "cell_type": "code",
   "execution_count": 2,
   "id": "f5a72467",
   "metadata": {},
   "outputs": [
    {
     "name": "stdout",
     "output_type": "stream",
     "text": [
      "True\n"
     ]
    }
   ],
   "source": [
    "def anagramaSolucion1(cadena1,cadena2):\n",
    "    unaLista = list(cadena2)\n",
    "\n",
    "    pos1 = 0\n",
    "    aunOK = True\n",
    "\n",
    "    while pos1 < len(cadena1) and aunOK:\n",
    "        pos2 = 0\n",
    "        encontrado = False\n",
    "        while pos2 < len(unaLista) and not encontrado:\n",
    "            if cadena1[pos1] == unaLista[pos2]:\n",
    "                encontrado = True\n",
    "            else:\n",
    "                pos2 = pos2 + 1\n",
    "\n",
    "        if encontrado:\n",
    "            unaLista[pos2] = None\n",
    "        else:\n",
    "            aunOK = False\n",
    "\n",
    "        pos1 = pos1 + 1\n",
    "\n",
    "    return aunOK\n",
    "\n",
    "print(anagramaSolucion1('abcd','dcba'))\n"
   ]
  },
  {
   "cell_type": "code",
   "execution_count": 7,
   "id": "30f4faeb",
   "metadata": {},
   "outputs": [
    {
     "name": "stdout",
     "output_type": "stream",
     "text": [
      "True\n"
     ]
    }
   ],
   "source": [
    "def anagramaSolucion2(cadena1,cadena2):\n",
    "    unaLista1 = list(cadena1)\n",
    "    unaLista2 = list(cadena2)\n",
    "\n",
    "    unaLista1.sort()\n",
    "    unaLista2.sort()\n",
    "\n",
    "    pos = 0\n",
    "    coincide = True\n",
    "\n",
    "    while pos < len(cadena1) and coincide:\n",
    "        if unaLista1[pos]==unaLista2[pos]:\n",
    "            pos = pos + 1\n",
    "        else:\n",
    "            coincide = False\n",
    "\n",
    "    return coincide\n",
    "\n",
    "print(anagramaSolucion2(' abcde','edcba '))\n"
   ]
  },
  {
   "cell_type": "code",
   "execution_count": null,
   "id": "a9488f15",
   "metadata": {},
   "outputs": [],
   "source": [
    "def anagramaSolucion4(cadena1,cadena2):\n",
    "    c1 = [0]*26\n",
    "    c2 = [0]*26\n",
    "\n",
    "    for i in range(len(cadena1)):\n",
    "        pos = ord(cadena1[i])-ord('a')\n",
    "        c1[pos] = c1[pos] + 1\n",
    "\n",
    "    for i in range(len(cadena2)):\n",
    "        pos = ord(cadena2[i])-ord('a')\n",
    "        c2[pos] = c2[pos] + 1\n",
    "\n",
    "    j = 0\n",
    "    aunOK = True\n",
    "    while j<26 and aunOK:\n",
    "        if c1[j]==c2[j]:\n",
    "            j = j + 1\n",
    "        else:\n",
    "            aunOK = False\n",
    "\n",
    "    return aunOK\n",
    "\n",
    "print(anagramaSolucion4('cero','ocre'))\n"
   ]
  },
  {
   "cell_type": "markdown",
   "id": "62b321e4",
   "metadata": {},
   "source": [
    "### Experimentos de desempeño en listas"
   ]
  },
  {
   "cell_type": "code",
   "execution_count": 13,
   "id": "645726f4",
   "metadata": {},
   "outputs": [],
   "source": [
    "def prueba1():\n",
    "    l = []\n",
    "    for i in range(1000):\n",
    "        l = l + [i]\n",
    "\n",
    "def prueba2():\n",
    "    l = []\n",
    "    for i in range(1000):\n",
    "        l.append(i)\n",
    "\n",
    "def prueba3():\n",
    "    l = [i for i in range(1000)]\n",
    "\n",
    "def prueba4():\n",
    "    l = list(range(1000))"
   ]
  },
  {
   "cell_type": "code",
   "execution_count": 18,
   "id": "fd8e754d",
   "metadata": {},
   "outputs": [
    {
     "name": "stdout",
     "output_type": "stream",
     "text": [
      "concatenación  1.3959367999341339 milisegundos\n",
      "append  0.06086740002501756 milisegundos\n",
      "comprensión  0.03471989999525249 milisegundos\n",
      "método range  0.015502800000831485 milisegundos\n"
     ]
    }
   ],
   "source": [
    "from timeit import Timer\n",
    "t1 = Timer(\"prueba1()\", \"from __main__ import prueba1\")\n",
    "print(\"concatenación \",t1.timeit(number=1000), \"milisegundos\")\n",
    "t2 = Timer(\"prueba2()\", \"from __main__ import prueba2\")\n",
    "print(\"append \",t2.timeit(number=1000), \"milisegundos\")\n",
    "t3 = Timer(\"prueba3()\", \"from __main__ import prueba3\")\n",
    "print(\"comprensión \",t3.timeit(number=1000), \"milisegundos\")\n",
    "t4 = Timer(\"prueba4()\", \"from __main__ import prueba4\")\n",
    "print(\"método range \",t4.timeit(number=1000), \"milisegundos\")"
   ]
  },
  {
   "cell_type": "code",
   "execution_count": 22,
   "id": "ab6ee87c",
   "metadata": {},
   "outputs": [
    {
     "data": {
      "text/plain": [
       "2.4384490000084043"
      ]
     },
     "execution_count": 22,
     "metadata": {},
     "output_type": "execute_result"
    }
   ],
   "source": [
    "extraerInicio = Timer(\"x.pop(0)\",\n",
    "                       \"from __main__ import x\")\n",
    "extraerFinal = Timer(\"x.pop()\",\n",
    "                      \"from __main__ import x\")\n",
    "\n",
    "x = list(range(2000000))\n",
    "extraerInicio.timeit(number=1000)\n"
   ]
  },
  {
   "cell_type": "code",
   "execution_count": 23,
   "id": "cc1894e9",
   "metadata": {},
   "outputs": [
    {
     "data": {
      "text/plain": [
       "6.729993037879467e-05"
      ]
     },
     "execution_count": 23,
     "metadata": {},
     "output_type": "execute_result"
    }
   ],
   "source": [
    "x = list(range(2000000))\n",
    "extraerFinal.timeit(number=1000)"
   ]
  },
  {
   "cell_type": "code",
   "execution_count": 30,
   "id": "57ec84f4",
   "metadata": {},
   "outputs": [
    {
     "name": "stdout",
     "output_type": "stream",
     "text": [
      "         pop(0)           pop()\n",
      "        1.32639,         0.00011\n",
      "        2.24415,         0.00005\n",
      "        3.45851,         0.00013\n",
      "        4.18875,         0.00014\n",
      "        5.14545,         0.00015\n",
      "        6.18487,         0.00006\n",
      "        7.12091,         0.00012\n",
      "        8.27183,         0.00012\n",
      "        9.13508,         0.00009\n",
      "       10.16944,         0.00015\n"
     ]
    },
    {
     "ename": "KeyboardInterrupt",
     "evalue": "",
     "output_type": "error",
     "traceback": [
      "\u001b[1;31m---------------------------------------------------------------------------\u001b[0m",
      "\u001b[1;31mKeyboardInterrupt\u001b[0m                         Traceback (most recent call last)",
      "Cell \u001b[1;32mIn[30], line 11\u001b[0m\n\u001b[0;32m      9\u001b[0m pt \u001b[38;5;241m=\u001b[39m extraerFinal\u001b[38;5;241m.\u001b[39mtimeit(number\u001b[38;5;241m=\u001b[39m\u001b[38;5;241m1000\u001b[39m)\n\u001b[0;32m     10\u001b[0m x \u001b[38;5;241m=\u001b[39m \u001b[38;5;28mlist\u001b[39m(\u001b[38;5;28mrange\u001b[39m(i))\n\u001b[1;32m---> 11\u001b[0m pz \u001b[38;5;241m=\u001b[39m extraerInicio\u001b[38;5;241m.\u001b[39mtimeit(number\u001b[38;5;241m=\u001b[39m\u001b[38;5;241m1000\u001b[39m)\n\u001b[0;32m     12\u001b[0m \u001b[38;5;28mprint\u001b[39m(\u001b[38;5;124m\"\u001b[39m\u001b[38;5;132;01m%15.5f\u001b[39;00m\u001b[38;5;124m, \u001b[39m\u001b[38;5;132;01m%15.5f\u001b[39;00m\u001b[38;5;124m\"\u001b[39m \u001b[38;5;241m%\u001b[39m(pz,pt))\n",
      "File \u001b[1;32m~\\anaconda3\\Lib\\timeit.py:178\u001b[0m, in \u001b[0;36mTimer.timeit\u001b[1;34m(self, number)\u001b[0m\n\u001b[0;32m    176\u001b[0m gc\u001b[38;5;241m.\u001b[39mdisable()\n\u001b[0;32m    177\u001b[0m \u001b[38;5;28;01mtry\u001b[39;00m:\n\u001b[1;32m--> 178\u001b[0m     timing \u001b[38;5;241m=\u001b[39m \u001b[38;5;28mself\u001b[39m\u001b[38;5;241m.\u001b[39minner(it, \u001b[38;5;28mself\u001b[39m\u001b[38;5;241m.\u001b[39mtimer)\n\u001b[0;32m    179\u001b[0m \u001b[38;5;28;01mfinally\u001b[39;00m:\n\u001b[0;32m    180\u001b[0m     \u001b[38;5;28;01mif\u001b[39;00m gcold:\n",
      "File \u001b[1;32m<timeit-src>:7\u001b[0m, in \u001b[0;36minner\u001b[1;34m(_it, _timer)\u001b[0m\n",
      "\u001b[1;31mKeyboardInterrupt\u001b[0m: "
     ]
    }
   ],
   "source": [
    "#Mostramos que pop(0) es O(n)\n",
    "extraerInicio = Timer(\"x.pop(0)\",\n",
    "                \"from __main__ import x\")\n",
    "extraerFinal = Timer(\"x.pop()\",\n",
    "               \"from __main__ import x\")\n",
    "print(\"         pop(0)           pop()\")\n",
    "for i in range(1000000,100000001,1000000):\n",
    "    x = list(range(i))\n",
    "    pt = extraerFinal.timeit(number=1000)\n",
    "    x = list(range(i))\n",
    "    pz = extraerInicio.timeit(number=1000)\n",
    "    print(\"%15.5f, %15.5f\" %(pz,pt))"
   ]
  },
  {
   "cell_type": "markdown",
   "id": "e20d57eb",
   "metadata": {},
   "source": [
    "### Experimentos de desempeño en diccionarios"
   ]
  },
  {
   "cell_type": "code",
   "execution_count": 29,
   "id": "a632bae0",
   "metadata": {},
   "outputs": [
    {
     "name": "stdout",
     "output_type": "stream",
     "text": [
      "10000,     0.080,     0.001\n",
      "30000,     0.237,     0.001\n",
      "50000,     0.420,     0.001\n",
      "70000,     0.633,     0.001\n",
      "90000,     0.830,     0.001\n",
      "110000,     1.031,     0.001\n",
      "130000,     1.077,     0.001\n",
      "150000,     1.240,     0.001\n",
      "170000,     1.382,     0.001\n",
      "190000,     1.643,     0.001\n",
      "210000,     1.279,     0.001\n",
      "230000,     1.300,     0.001\n",
      "250000,     1.410,     0.001\n",
      "270000,     1.537,     0.001\n",
      "290000,     1.572,     0.001\n",
      "310000,     1.712,     0.001\n",
      "330000,     1.815,     0.001\n",
      "350000,     1.928,     0.001\n",
      "370000,     1.960,     0.001\n",
      "390000,     2.047,     0.001\n",
      "410000,     2.333,     0.001\n",
      "430000,     2.457,     0.001\n",
      "450000,     2.830,     0.001\n",
      "470000,     2.956,     0.001\n",
      "490000,     2.721,     0.001\n",
      "510000,     2.799,     0.001\n",
      "530000,     3.010,     0.001\n",
      "550000,     3.153,     0.002\n",
      "570000,     3.280,     0.001\n",
      "590000,     3.454,     0.001\n",
      "610000,     3.365,     0.001\n",
      "630000,     3.424,     0.001\n",
      "650000,     3.954,     0.001\n",
      "670000,     3.903,     0.001\n",
      "690000,     3.988,     0.001\n",
      "710000,     4.237,     0.001\n",
      "730000,     4.100,     0.001\n",
      "750000,     4.296,     0.001\n",
      "770000,     4.310,     0.001\n",
      "790000,     5.050,     0.001\n",
      "810000,     5.043,     0.001\n",
      "830000,     4.575,     0.001\n",
      "850000,     4.877,     0.001\n",
      "870000,     5.001,     0.001\n",
      "890000,     5.125,     0.001\n",
      "910000,     5.304,     0.001\n",
      "930000,     5.582,     0.001\n",
      "950000,     5.430,     0.001\n",
      "970000,     5.366,     0.001\n",
      "990000,     5.533,     0.001\n"
     ]
    }
   ],
   "source": [
    "#Comparamos el operador IN en listas vs diccionarios\n",
    "import timeit\n",
    "import random\n",
    "\n",
    "for i in range(10000,1000001,20000):\n",
    "    t = timeit.Timer(\"random.randrange(%d) in x\"%i,\n",
    "                     \"from __main__ import random,x\")\n",
    "    x = list(range(i))\n",
    "    tiempo_lista = t.timeit(number=1000)\n",
    "    x = {j:None for j in range(i)}\n",
    "    tiempo_diccionario = t.timeit(number=1000)\n",
    "    print(\"%d,%10.3f,%10.3f\" % (i, tiempo_lista, tiempo_diccionario))"
   ]
  },
  {
   "cell_type": "code",
   "execution_count": 34,
   "id": "8cdf9c6a",
   "metadata": {},
   "outputs": [
    {
     "name": "stdout",
     "output_type": "stream",
     "text": [
      "0,     7.623\n",
      "0,     5.963\n",
      "0,     5.254\n",
      "0,     5.676\n",
      "0,     5.432\n",
      "0,     5.592\n",
      "0,     5.863\n",
      "0,     5.723\n",
      "0,     6.046\n",
      "0,     5.558\n"
     ]
    },
    {
     "ename": "KeyboardInterrupt",
     "evalue": "",
     "output_type": "error",
     "traceback": [
      "\u001b[1;31m---------------------------------------------------------------------------\u001b[0m",
      "\u001b[1;31mKeyboardInterrupt\u001b[0m                         Traceback (most recent call last)",
      "Cell \u001b[1;32mIn[34], line 7\u001b[0m\n\u001b[0;32m      5\u001b[0m \u001b[38;5;28;01mfor\u001b[39;00m j \u001b[38;5;129;01min\u001b[39;00m \u001b[38;5;28mrange\u001b[39m(n):\n\u001b[0;32m      6\u001b[0m     k \u001b[38;5;241m=\u001b[39m \u001b[38;5;241m2\u001b[39m \u001b[38;5;241m+\u001b[39m \u001b[38;5;241m2\u001b[39m\n\u001b[1;32m----> 7\u001b[0m     tiempo \u001b[38;5;241m=\u001b[39m t\u001b[38;5;241m.\u001b[39mtimeit(number\u001b[38;5;241m=\u001b[39m\u001b[38;5;241m1000\u001b[39m)\n\u001b[0;32m      8\u001b[0m     \u001b[38;5;28mprint\u001b[39m(\u001b[38;5;124m\"\u001b[39m\u001b[38;5;132;01m%d\u001b[39;00m\u001b[38;5;124m,\u001b[39m\u001b[38;5;132;01m%10.3f\u001b[39;00m\u001b[38;5;124m\"\u001b[39m \u001b[38;5;241m%\u001b[39m (i, tiempo))\n",
      "File \u001b[1;32m~\\anaconda3\\Lib\\timeit.py:178\u001b[0m, in \u001b[0;36mTimer.timeit\u001b[1;34m(self, number)\u001b[0m\n\u001b[0;32m    176\u001b[0m gc\u001b[38;5;241m.\u001b[39mdisable()\n\u001b[0;32m    177\u001b[0m \u001b[38;5;28;01mtry\u001b[39;00m:\n\u001b[1;32m--> 178\u001b[0m     timing \u001b[38;5;241m=\u001b[39m \u001b[38;5;28mself\u001b[39m\u001b[38;5;241m.\u001b[39minner(it, \u001b[38;5;28mself\u001b[39m\u001b[38;5;241m.\u001b[39mtimer)\n\u001b[0;32m    179\u001b[0m \u001b[38;5;28;01mfinally\u001b[39;00m:\n\u001b[0;32m    180\u001b[0m     \u001b[38;5;28;01mif\u001b[39;00m gcold:\n",
      "File \u001b[1;32m<timeit-src>:6\u001b[0m, in \u001b[0;36minner\u001b[1;34m(_it, _timer)\u001b[0m\n",
      "File \u001b[1;32m~\\anaconda3\\Lib\\random.py:284\u001b[0m, in \u001b[0;36mRandom.randrange\u001b[1;34m(self, start, stop, step)\u001b[0m\n\u001b[0;32m    279\u001b[0m     \u001b[38;5;28;01mreturn\u001b[39;00m \u001b[38;5;28mself\u001b[39m\u001b[38;5;241m.\u001b[39mgetrandbits(n \u001b[38;5;241m*\u001b[39m \u001b[38;5;241m8\u001b[39m)\u001b[38;5;241m.\u001b[39mto_bytes(n, \u001b[38;5;124m'\u001b[39m\u001b[38;5;124mlittle\u001b[39m\u001b[38;5;124m'\u001b[39m)\n\u001b[0;32m    282\u001b[0m \u001b[38;5;66;03m## -------------------- integer methods  -------------------\u001b[39;00m\n\u001b[1;32m--> 284\u001b[0m \u001b[38;5;28;01mdef\u001b[39;00m \u001b[38;5;21mrandrange\u001b[39m(\u001b[38;5;28mself\u001b[39m, start, stop\u001b[38;5;241m=\u001b[39m\u001b[38;5;28;01mNone\u001b[39;00m, step\u001b[38;5;241m=\u001b[39m_ONE):\n\u001b[0;32m    285\u001b[0m \u001b[38;5;250m    \u001b[39m\u001b[38;5;124;03m\"\"\"Choose a random item from range(stop) or range(start, stop[, step]).\u001b[39;00m\n\u001b[0;32m    286\u001b[0m \n\u001b[0;32m    287\u001b[0m \u001b[38;5;124;03m    Roughly equivalent to ``choice(range(start, stop, step))`` but\u001b[39;00m\n\u001b[0;32m    288\u001b[0m \u001b[38;5;124;03m    supports arbitrarily large ranges and is optimized for common cases.\u001b[39;00m\n\u001b[0;32m    289\u001b[0m \n\u001b[0;32m    290\u001b[0m \u001b[38;5;124;03m    \"\"\"\u001b[39;00m\n\u001b[0;32m    292\u001b[0m     \u001b[38;5;66;03m# This code is a bit messy to make it fast for the\u001b[39;00m\n\u001b[0;32m    293\u001b[0m     \u001b[38;5;66;03m# common case while still doing adequate error checking.\u001b[39;00m\n",
      "\u001b[1;31mKeyboardInterrupt\u001b[0m: "
     ]
    }
   ],
   "source": [
    "n=10000\n",
    "timeit.Timer(\"random.randrange(%d) in x\"%i,\n",
    "                     \"from __main__ import random,x\")\n",
    "for i in range(n):\n",
    "    for j in range(n):\n",
    "        k = 2 + 2\n",
    "        tiempo = t.timeit(number=1000)\n",
    "        print(\"%d,%10.3f\" % (i, tiempo))"
   ]
  },
  {
   "cell_type": "code",
   "execution_count": 37,
   "id": "df4fbc43",
   "metadata": {},
   "outputs": [
    {
     "name": "stdout",
     "output_type": "stream",
     "text": [
      "0,     7.539\n",
      "1,     6.491\n",
      "2,     5.615\n",
      "3,     5.715\n",
      "4,     5.577\n",
      "5,     5.947\n"
     ]
    },
    {
     "ename": "KeyboardInterrupt",
     "evalue": "",
     "output_type": "error",
     "traceback": [
      "\u001b[1;31m---------------------------------------------------------------------------\u001b[0m",
      "\u001b[1;31mKeyboardInterrupt\u001b[0m                         Traceback (most recent call last)",
      "Cell \u001b[1;32mIn[37], line 3\u001b[0m\n\u001b[0;32m      1\u001b[0m \u001b[38;5;28;01mfor\u001b[39;00m i \u001b[38;5;129;01min\u001b[39;00m \u001b[38;5;28mrange\u001b[39m(n):\n\u001b[0;32m      2\u001b[0m     k \u001b[38;5;241m=\u001b[39m \u001b[38;5;241m2\u001b[39m \u001b[38;5;241m+\u001b[39m \u001b[38;5;241m2\u001b[39m\n\u001b[1;32m----> 3\u001b[0m     tiempo \u001b[38;5;241m=\u001b[39m t\u001b[38;5;241m.\u001b[39mtimeit(number\u001b[38;5;241m=\u001b[39m\u001b[38;5;241m1000\u001b[39m)\n\u001b[0;32m      4\u001b[0m     \u001b[38;5;28mprint\u001b[39m(\u001b[38;5;124m\"\u001b[39m\u001b[38;5;132;01m%d\u001b[39;00m\u001b[38;5;124m,\u001b[39m\u001b[38;5;132;01m%10.3f\u001b[39;00m\u001b[38;5;124m\"\u001b[39m \u001b[38;5;241m%\u001b[39m (i, tiempo))\n",
      "File \u001b[1;32m~\\anaconda3\\Lib\\timeit.py:178\u001b[0m, in \u001b[0;36mTimer.timeit\u001b[1;34m(self, number)\u001b[0m\n\u001b[0;32m    176\u001b[0m gc\u001b[38;5;241m.\u001b[39mdisable()\n\u001b[0;32m    177\u001b[0m \u001b[38;5;28;01mtry\u001b[39;00m:\n\u001b[1;32m--> 178\u001b[0m     timing \u001b[38;5;241m=\u001b[39m \u001b[38;5;28mself\u001b[39m\u001b[38;5;241m.\u001b[39minner(it, \u001b[38;5;28mself\u001b[39m\u001b[38;5;241m.\u001b[39mtimer)\n\u001b[0;32m    179\u001b[0m \u001b[38;5;28;01mfinally\u001b[39;00m:\n\u001b[0;32m    180\u001b[0m     \u001b[38;5;28;01mif\u001b[39;00m gcold:\n",
      "File \u001b[1;32m<timeit-src>:6\u001b[0m, in \u001b[0;36minner\u001b[1;34m(_it, _timer)\u001b[0m\n",
      "File \u001b[1;32m~\\anaconda3\\Lib\\random.py:284\u001b[0m, in \u001b[0;36mRandom.randrange\u001b[1;34m(self, start, stop, step)\u001b[0m\n\u001b[0;32m    279\u001b[0m     \u001b[38;5;28;01mreturn\u001b[39;00m \u001b[38;5;28mself\u001b[39m\u001b[38;5;241m.\u001b[39mgetrandbits(n \u001b[38;5;241m*\u001b[39m \u001b[38;5;241m8\u001b[39m)\u001b[38;5;241m.\u001b[39mto_bytes(n, \u001b[38;5;124m'\u001b[39m\u001b[38;5;124mlittle\u001b[39m\u001b[38;5;124m'\u001b[39m)\n\u001b[0;32m    282\u001b[0m \u001b[38;5;66;03m## -------------------- integer methods  -------------------\u001b[39;00m\n\u001b[1;32m--> 284\u001b[0m \u001b[38;5;28;01mdef\u001b[39;00m \u001b[38;5;21mrandrange\u001b[39m(\u001b[38;5;28mself\u001b[39m, start, stop\u001b[38;5;241m=\u001b[39m\u001b[38;5;28;01mNone\u001b[39;00m, step\u001b[38;5;241m=\u001b[39m_ONE):\n\u001b[0;32m    285\u001b[0m \u001b[38;5;250m    \u001b[39m\u001b[38;5;124;03m\"\"\"Choose a random item from range(stop) or range(start, stop[, step]).\u001b[39;00m\n\u001b[0;32m    286\u001b[0m \n\u001b[0;32m    287\u001b[0m \u001b[38;5;124;03m    Roughly equivalent to ``choice(range(start, stop, step))`` but\u001b[39;00m\n\u001b[0;32m    288\u001b[0m \u001b[38;5;124;03m    supports arbitrarily large ranges and is optimized for common cases.\u001b[39;00m\n\u001b[0;32m    289\u001b[0m \n\u001b[0;32m    290\u001b[0m \u001b[38;5;124;03m    \"\"\"\u001b[39;00m\n\u001b[0;32m    292\u001b[0m     \u001b[38;5;66;03m# This code is a bit messy to make it fast for the\u001b[39;00m\n\u001b[0;32m    293\u001b[0m     \u001b[38;5;66;03m# common case while still doing adequate error checking.\u001b[39;00m\n",
      "\u001b[1;31mKeyboardInterrupt\u001b[0m: "
     ]
    }
   ],
   "source": [
    "for i in range(n):\n",
    "    k = 2 + 2\n",
    "    tiempo = t.timeit(number=1000)\n",
    "    print(\"%d,%10.3f\" % (i, tiempo))"
   ]
  },
  {
   "cell_type": "code",
   "execution_count": 38,
   "id": "beb49b61",
   "metadata": {},
   "outputs": [
    {
     "name": "stdout",
     "output_type": "stream",
     "text": [
      "5000,     7.555\n",
      "2500,     5.616\n",
      "1250,     5.523\n",
      "625,     5.289\n",
      "312,     5.942\n",
      "156,     5.511\n",
      "78,     6.080\n",
      "39,     5.642\n",
      "19,     6.008\n",
      "9,     5.583\n",
      "4,     5.713\n",
      "2,     5.664\n",
      "1,     5.909\n",
      "0,     5.661\n"
     ]
    }
   ],
   "source": [
    "i = n\n",
    "while i > 0:\n",
    "    k = 2 + 2\n",
    "    i = i // 2\n",
    "    tiempo = t.timeit(number=1000)\n",
    "    print(\"%d,%10.3f\" % (i, tiempo))"
   ]
  },
  {
   "cell_type": "code",
   "execution_count": 39,
   "id": "e23d384b",
   "metadata": {},
   "outputs": [
    {
     "name": "stdout",
     "output_type": "stream",
     "text": [
      "0,     8.000\n",
      "0,     5.855\n",
      "0,     5.572\n",
      "0,     5.746\n",
      "0,     5.979\n",
      "0,     5.914\n",
      "0,     6.278\n"
     ]
    },
    {
     "ename": "KeyboardInterrupt",
     "evalue": "",
     "output_type": "error",
     "traceback": [
      "\u001b[1;31m---------------------------------------------------------------------------\u001b[0m",
      "\u001b[1;31mKeyboardInterrupt\u001b[0m                         Traceback (most recent call last)",
      "Cell \u001b[1;32mIn[39], line 5\u001b[0m\n\u001b[0;32m      3\u001b[0m \u001b[38;5;28;01mfor\u001b[39;00m k \u001b[38;5;129;01min\u001b[39;00m \u001b[38;5;28mrange\u001b[39m(n):\n\u001b[0;32m      4\u001b[0m     k \u001b[38;5;241m=\u001b[39m \u001b[38;5;241m2\u001b[39m \u001b[38;5;241m+\u001b[39m \u001b[38;5;241m2\u001b[39m\n\u001b[1;32m----> 5\u001b[0m     tiempo \u001b[38;5;241m=\u001b[39m t\u001b[38;5;241m.\u001b[39mtimeit(number\u001b[38;5;241m=\u001b[39m\u001b[38;5;241m1000\u001b[39m)\n\u001b[0;32m      6\u001b[0m     \u001b[38;5;28mprint\u001b[39m(\u001b[38;5;124m\"\u001b[39m\u001b[38;5;132;01m%d\u001b[39;00m\u001b[38;5;124m,\u001b[39m\u001b[38;5;132;01m%10.3f\u001b[39;00m\u001b[38;5;124m\"\u001b[39m \u001b[38;5;241m%\u001b[39m (i, tiempo))\n",
      "File \u001b[1;32m~\\anaconda3\\Lib\\timeit.py:178\u001b[0m, in \u001b[0;36mTimer.timeit\u001b[1;34m(self, number)\u001b[0m\n\u001b[0;32m    176\u001b[0m gc\u001b[38;5;241m.\u001b[39mdisable()\n\u001b[0;32m    177\u001b[0m \u001b[38;5;28;01mtry\u001b[39;00m:\n\u001b[1;32m--> 178\u001b[0m     timing \u001b[38;5;241m=\u001b[39m \u001b[38;5;28mself\u001b[39m\u001b[38;5;241m.\u001b[39minner(it, \u001b[38;5;28mself\u001b[39m\u001b[38;5;241m.\u001b[39mtimer)\n\u001b[0;32m    179\u001b[0m \u001b[38;5;28;01mfinally\u001b[39;00m:\n\u001b[0;32m    180\u001b[0m     \u001b[38;5;28;01mif\u001b[39;00m gcold:\n",
      "File \u001b[1;32m<timeit-src>:6\u001b[0m, in \u001b[0;36minner\u001b[1;34m(_it, _timer)\u001b[0m\n",
      "File \u001b[1;32m~\\anaconda3\\Lib\\random.py:284\u001b[0m, in \u001b[0;36mRandom.randrange\u001b[1;34m(self, start, stop, step)\u001b[0m\n\u001b[0;32m    279\u001b[0m     \u001b[38;5;28;01mreturn\u001b[39;00m \u001b[38;5;28mself\u001b[39m\u001b[38;5;241m.\u001b[39mgetrandbits(n \u001b[38;5;241m*\u001b[39m \u001b[38;5;241m8\u001b[39m)\u001b[38;5;241m.\u001b[39mto_bytes(n, \u001b[38;5;124m'\u001b[39m\u001b[38;5;124mlittle\u001b[39m\u001b[38;5;124m'\u001b[39m)\n\u001b[0;32m    282\u001b[0m \u001b[38;5;66;03m## -------------------- integer methods  -------------------\u001b[39;00m\n\u001b[1;32m--> 284\u001b[0m \u001b[38;5;28;01mdef\u001b[39;00m \u001b[38;5;21mrandrange\u001b[39m(\u001b[38;5;28mself\u001b[39m, start, stop\u001b[38;5;241m=\u001b[39m\u001b[38;5;28;01mNone\u001b[39;00m, step\u001b[38;5;241m=\u001b[39m_ONE):\n\u001b[0;32m    285\u001b[0m \u001b[38;5;250m    \u001b[39m\u001b[38;5;124;03m\"\"\"Choose a random item from range(stop) or range(start, stop[, step]).\u001b[39;00m\n\u001b[0;32m    286\u001b[0m \n\u001b[0;32m    287\u001b[0m \u001b[38;5;124;03m    Roughly equivalent to ``choice(range(start, stop, step))`` but\u001b[39;00m\n\u001b[0;32m    288\u001b[0m \u001b[38;5;124;03m    supports arbitrarily large ranges and is optimized for common cases.\u001b[39;00m\n\u001b[0;32m    289\u001b[0m \n\u001b[0;32m    290\u001b[0m \u001b[38;5;124;03m    \"\"\"\u001b[39;00m\n\u001b[0;32m    292\u001b[0m     \u001b[38;5;66;03m# This code is a bit messy to make it fast for the\u001b[39;00m\n\u001b[0;32m    293\u001b[0m     \u001b[38;5;66;03m# common case while still doing adequate error checking.\u001b[39;00m\n",
      "\u001b[1;31mKeyboardInterrupt\u001b[0m: "
     ]
    }
   ],
   "source": [
    "for i in range(n):\n",
    "    for j in range(n):\n",
    "        for k in range(n):\n",
    "            k = 2 + 2\n",
    "            tiempo = t.timeit(number=1000)\n",
    "            print(\"%d,%10.3f\" % (i, tiempo))"
   ]
  },
  {
   "cell_type": "code",
   "execution_count": 40,
   "id": "b8616d1a",
   "metadata": {},
   "outputs": [
    {
     "name": "stdout",
     "output_type": "stream",
     "text": [
      "5000,     7.583\n",
      "2500,     5.786\n",
      "1250,     5.769\n",
      "625,     6.163\n",
      "312,     5.655\n",
      "156,     5.875\n"
     ]
    },
    {
     "ename": "KeyboardInterrupt",
     "evalue": "",
     "output_type": "error",
     "traceback": [
      "\u001b[1;31m---------------------------------------------------------------------------\u001b[0m",
      "\u001b[1;31mKeyboardInterrupt\u001b[0m                         Traceback (most recent call last)",
      "Cell \u001b[1;32mIn[40], line 5\u001b[0m\n\u001b[0;32m      3\u001b[0m k \u001b[38;5;241m=\u001b[39m \u001b[38;5;241m2\u001b[39m \u001b[38;5;241m+\u001b[39m \u001b[38;5;241m2\u001b[39m\n\u001b[0;32m      4\u001b[0m i \u001b[38;5;241m=\u001b[39m i \u001b[38;5;241m/\u001b[39m\u001b[38;5;241m/\u001b[39m \u001b[38;5;241m2\u001b[39m\n\u001b[1;32m----> 5\u001b[0m tiempo \u001b[38;5;241m=\u001b[39m t\u001b[38;5;241m.\u001b[39mtimeit(number\u001b[38;5;241m=\u001b[39m\u001b[38;5;241m1000\u001b[39m)\n\u001b[0;32m      6\u001b[0m \u001b[38;5;28mprint\u001b[39m(\u001b[38;5;124m\"\u001b[39m\u001b[38;5;132;01m%d\u001b[39;00m\u001b[38;5;124m,\u001b[39m\u001b[38;5;132;01m%10.3f\u001b[39;00m\u001b[38;5;124m\"\u001b[39m \u001b[38;5;241m%\u001b[39m (i, tiempo))\n",
      "File \u001b[1;32m~\\anaconda3\\Lib\\timeit.py:178\u001b[0m, in \u001b[0;36mTimer.timeit\u001b[1;34m(self, number)\u001b[0m\n\u001b[0;32m    176\u001b[0m gc\u001b[38;5;241m.\u001b[39mdisable()\n\u001b[0;32m    177\u001b[0m \u001b[38;5;28;01mtry\u001b[39;00m:\n\u001b[1;32m--> 178\u001b[0m     timing \u001b[38;5;241m=\u001b[39m \u001b[38;5;28mself\u001b[39m\u001b[38;5;241m.\u001b[39minner(it, \u001b[38;5;28mself\u001b[39m\u001b[38;5;241m.\u001b[39mtimer)\n\u001b[0;32m    179\u001b[0m \u001b[38;5;28;01mfinally\u001b[39;00m:\n\u001b[0;32m    180\u001b[0m     \u001b[38;5;28;01mif\u001b[39;00m gcold:\n",
      "File \u001b[1;32m<timeit-src>:6\u001b[0m, in \u001b[0;36minner\u001b[1;34m(_it, _timer)\u001b[0m\n",
      "File \u001b[1;32m~\\anaconda3\\Lib\\random.py:284\u001b[0m, in \u001b[0;36mRandom.randrange\u001b[1;34m(self, start, stop, step)\u001b[0m\n\u001b[0;32m    279\u001b[0m     \u001b[38;5;28;01mreturn\u001b[39;00m \u001b[38;5;28mself\u001b[39m\u001b[38;5;241m.\u001b[39mgetrandbits(n \u001b[38;5;241m*\u001b[39m \u001b[38;5;241m8\u001b[39m)\u001b[38;5;241m.\u001b[39mto_bytes(n, \u001b[38;5;124m'\u001b[39m\u001b[38;5;124mlittle\u001b[39m\u001b[38;5;124m'\u001b[39m)\n\u001b[0;32m    282\u001b[0m \u001b[38;5;66;03m## -------------------- integer methods  -------------------\u001b[39;00m\n\u001b[1;32m--> 284\u001b[0m \u001b[38;5;28;01mdef\u001b[39;00m \u001b[38;5;21mrandrange\u001b[39m(\u001b[38;5;28mself\u001b[39m, start, stop\u001b[38;5;241m=\u001b[39m\u001b[38;5;28;01mNone\u001b[39;00m, step\u001b[38;5;241m=\u001b[39m_ONE):\n\u001b[0;32m    285\u001b[0m \u001b[38;5;250m    \u001b[39m\u001b[38;5;124;03m\"\"\"Choose a random item from range(stop) or range(start, stop[, step]).\u001b[39;00m\n\u001b[0;32m    286\u001b[0m \n\u001b[0;32m    287\u001b[0m \u001b[38;5;124;03m    Roughly equivalent to ``choice(range(start, stop, step))`` but\u001b[39;00m\n\u001b[0;32m    288\u001b[0m \u001b[38;5;124;03m    supports arbitrarily large ranges and is optimized for common cases.\u001b[39;00m\n\u001b[0;32m    289\u001b[0m \n\u001b[0;32m    290\u001b[0m \u001b[38;5;124;03m    \"\"\"\u001b[39;00m\n\u001b[0;32m    292\u001b[0m     \u001b[38;5;66;03m# This code is a bit messy to make it fast for the\u001b[39;00m\n\u001b[0;32m    293\u001b[0m     \u001b[38;5;66;03m# common case while still doing adequate error checking.\u001b[39;00m\n",
      "\u001b[1;31mKeyboardInterrupt\u001b[0m: "
     ]
    }
   ],
   "source": [
    "i = n\n",
    "while i > 0:\n",
    "    k = 2 + 2\n",
    "    i = i // 2\n",
    "    tiempo = t.timeit(number=1000)\n",
    "    print(\"%d,%10.3f\" % (i, tiempo))"
   ]
  }
 ],
 "metadata": {
  "kernelspec": {
   "display_name": "Python 3 (ipykernel)",
   "language": "python",
   "name": "python3"
  },
  "language_info": {
   "codemirror_mode": {
    "name": "ipython",
    "version": 3
   },
   "file_extension": ".py",
   "mimetype": "text/x-python",
   "name": "python",
   "nbconvert_exporter": "python",
   "pygments_lexer": "ipython3",
   "version": "3.11.5"
  }
 },
 "nbformat": 4,
 "nbformat_minor": 5
}
