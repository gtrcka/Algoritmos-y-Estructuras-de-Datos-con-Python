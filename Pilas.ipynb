{
 "cells": [
  {
   "cell_type": "markdown",
   "id": "e0a5b61e",
   "metadata": {},
   "source": [
    "# Pilas"
   ]
  },
  {
   "cell_type": "code",
   "execution_count": 1,
   "id": "3c7fac29",
   "metadata": {},
   "outputs": [],
   "source": [
    "class Pila:\n",
    "     def __init__(self):\n",
    "         self.items = []\n",
    "\n",
    "     def estaVacia(self):\n",
    "         return self.items == []\n",
    "\n",
    "     def incluir(self, item):\n",
    "         self.items.append(item)\n",
    "\n",
    "     def extraer(self):\n",
    "         return self.items.pop()\n",
    "\n",
    "     def inspeccionar(self):\n",
    "         return self.items[len(self.items)-1]\n",
    "\n",
    "     def tamano(self):\n",
    "         return len(self.items)\n"
   ]
  },
  {
   "cell_type": "code",
   "execution_count": 2,
   "id": "ebbe6216",
   "metadata": {},
   "outputs": [
    {
     "name": "stdout",
     "output_type": "stream",
     "text": [
      "True\n",
      "perro\n",
      "3\n",
      "False\n",
      "8.4\n",
      "True\n",
      "2\n"
     ]
    }
   ],
   "source": [
    "p=Pila()\n",
    "\n",
    "print(p.estaVacia())\n",
    "p.incluir(4)\n",
    "p.incluir('perro')\n",
    "print(p.inspeccionar())\n",
    "p.incluir(True)\n",
    "print(p.tamano())\n",
    "print(p.estaVacia())\n",
    "p.incluir(8.4)\n",
    "print(p.extraer())\n",
    "print(p.extraer())\n",
    "print(p.tamano())"
   ]
  },
  {
   "cell_type": "code",
   "execution_count": 3,
   "id": "abc6c4ee",
   "metadata": {},
   "outputs": [
    {
     "data": {
      "text/plain": [
       "'akert'"
      ]
     },
     "execution_count": 3,
     "metadata": {},
     "output_type": "execute_result"
    }
   ],
   "source": [
    "#Escriba una función cadenaInversa(miCadena) que utilice una pila para invertir los caracteres de una cadena.\n",
    "def cadenaInversa(cadena):\n",
    "    resultado=''\n",
    "    lista=[l for l in cadena]    \n",
    "    for n in range(0, len(cadena)):        \n",
    "        resultado = resultado + lista.pop()\n",
    "    return resultado\n",
    "cadenaInversa('treka')"
   ]
  },
  {
   "cell_type": "markdown",
   "id": "eb4e9df0",
   "metadata": {},
   "source": [
    "## Paréntesis balanceados"
   ]
  },
  {
   "cell_type": "code",
   "execution_count": 4,
   "id": "ab193bf3",
   "metadata": {},
   "outputs": [
    {
     "name": "stdout",
     "output_type": "stream",
     "text": [
      "True\n",
      "False\n"
     ]
    }
   ],
   "source": [
    "def verificarSimbolos(cadenaSimbolos):\n",
    "    p = Pila()\n",
    "    balanceados = True\n",
    "    indice = 0\n",
    "    while indice < len(cadenaSimbolos) and balanceados:\n",
    "        simbolo = cadenaSimbolos[indice]\n",
    "        if simbolo in \"([{\":\n",
    "            p.incluir(simbolo)\n",
    "        else:\n",
    "            if p.estaVacia():\n",
    "                balanceados = False\n",
    "            else:\n",
    "                tope = p.extraer()\n",
    "                if not parejas(tope,simbolo):\n",
    "                       balanceados = False\n",
    "        indice = indice + 1\n",
    "    if balanceados and p.estaVacia():\n",
    "        return True\n",
    "    else:\n",
    "        return False\n",
    "\n",
    "def parejas(simboloApertura, simboloCierre):\n",
    "    aperturas = \"([{\"\n",
    "    cierres = \")]}\"\n",
    "    return aperturas.index(simboloApertura) == cierres.index(simboloCierre)\n",
    "\n",
    "\n",
    "print(verificarSimbolos('{({[][]})()}'))\n",
    "print(verificarSimbolos('[{()]'))\n"
   ]
  },
  {
   "cell_type": "markdown",
   "id": "efba2f4a",
   "metadata": {},
   "source": [
    "## Conversión de números decimales a números binarios"
   ]
  },
  {
   "cell_type": "code",
   "execution_count": 5,
   "id": "907a73a1",
   "metadata": {},
   "outputs": [
    {
     "name": "stdout",
     "output_type": "stream",
     "text": [
      "11111001000\n"
     ]
    }
   ],
   "source": [
    "def dividirPor2(numeroDecimal):\n",
    "    pilaResiduo = Pila()\n",
    "\n",
    "    while numeroDecimal > 0:\n",
    "        residuo = numeroDecimal % 2\n",
    "        pilaResiduo.incluir(residuo)\n",
    "        numeroDecimal = numeroDecimal // 2\n",
    "\n",
    "    cadenaBinaria = \"\"\n",
    "    while not pilaResiduo.estaVacia():\n",
    "        cadenaBinaria = cadenaBinaria + str(pilaResiduo.extraer())\n",
    "\n",
    "    return cadenaBinaria\n",
    "\n",
    "print(dividirPor2(1992))\n"
   ]
  },
  {
   "cell_type": "code",
   "execution_count": 6,
   "id": "24d71555",
   "metadata": {},
   "outputs": [
    {
     "name": "stdout",
     "output_type": "stream",
     "text": [
      "11001\n",
      "7C8\n"
     ]
    }
   ],
   "source": [
    "def convertirBase(numeroDecimal,base):\n",
    "    digitos = \"0123456789ABCDEF\"\n",
    "\n",
    "    pilaResiduo = Pila()\n",
    "\n",
    "    while numeroDecimal > 0:\n",
    "        residuo = numeroDecimal % base\n",
    "        pilaResiduo.incluir(residuo)\n",
    "        numeroDecimal = numeroDecimal // base\n",
    "\n",
    "    nuevaCadena = \"\"\n",
    "    while not pilaResiduo.estaVacia():\n",
    "        nuevaCadena = nuevaCadena + digitos[pilaResiduo.extraer()]\n",
    "\n",
    "    return nuevaCadena\n",
    "\n",
    "print(convertirBase(25,2))\n",
    "print(convertirBase(1992,16))\n"
   ]
  },
  {
   "cell_type": "markdown",
   "id": "df58cb76",
   "metadata": {},
   "source": [
    "## Expresiones en notaciones infija, prefija y sufija"
   ]
  },
  {
   "cell_type": "code",
   "execution_count": 7,
   "id": "d92e1d90",
   "metadata": {},
   "outputs": [
    {
     "name": "stdout",
     "output_type": "stream",
     "text": [
      "('A B * C D * +',)\n",
      "('A B + C * D E - F G + * -',)\n"
     ]
    }
   ],
   "source": [
    "def infija_a_sufija(expresionInfija):\n",
    "    precedencia = {}\n",
    "    precedencia[\"*\"] = 3\n",
    "    precedencia[\"/\"] = 3\n",
    "    precedencia[\"+\"] = 2\n",
    "    precedencia[\"-\"] = 2\n",
    "    precedencia[\"(\"] = 1\n",
    "    pilaOperadores = Pila()\n",
    "    listaSufija = []\n",
    "    listaSimbolos = expresionInfija.split()\n",
    "    faltaParentesis = 0\n",
    "    for simbolo in listaSimbolos:\n",
    "        if simbolo in \"ABCDEFGHIJKLMNOPQRSTUVWXYZ\" or simbolo in \"0123456789\":\n",
    "            listaSufija.append(simbolo)\n",
    "        elif simbolo == '(':\n",
    "            pilaOperadores.incluir(simbolo)\n",
    "            faltaParentesis = faltaParentesis + 1\n",
    "        elif simbolo == ')':\n",
    "            simboloTope = pilaOperadores.extraer()\n",
    "            faltaParentesis = faltaParentesis - 1\n",
    "            while simboloTope != '(' and faltaParentesis >= 0:\n",
    "                listaSufija.append(simboloTope)\n",
    "                simboloTope = pilaOperadores.extraer()\n",
    "        else:\n",
    "            while (not pilaOperadores.estaVacia()) and \\\n",
    "               (precedencia[pilaOperadores.inspeccionar()] >= \\\n",
    "                precedencia[simbolo]):\n",
    "                  listaSufija.append(pilaOperadores.extraer())\n",
    "            pilaOperadores.incluir(simbolo)\n",
    "    if faltaParentesis != 0:\n",
    "        raise RuntimeError(\"Error: Faltan paréntesis\")\n",
    "    while not pilaOperadores.estaVacia():\n",
    "        listaSufija.append(pilaOperadores.extraer())\n",
    "    return \" \".join(listaSufija),\n",
    "\n",
    "print(infija_a_sufija(\"A * B + C * D\"))\n",
    "print(infija_a_sufija(\"( A + B ) * C - ( D - E ) * ( F + G )\"))\n"
   ]
  },
  {
   "cell_type": "markdown",
   "id": "ecb92394",
   "metadata": {},
   "source": [
    "## Evaluación de expresiones en notación sufija"
   ]
  },
  {
   "cell_type": "code",
   "execution_count": 8,
   "id": "c2d2da99",
   "metadata": {},
   "outputs": [
    {
     "ename": "RuntimeError",
     "evalue": "Error: Faltan operandos",
     "output_type": "error",
     "traceback": [
      "\u001b[1;31m---------------------------------------------------------------------------\u001b[0m",
      "\u001b[1;31mRuntimeError\u001b[0m                              Traceback (most recent call last)",
      "Cell \u001b[1;32mIn[8], line 33\u001b[0m\n\u001b[0;32m     30\u001b[0m     \u001b[38;5;28;01melse\u001b[39;00m:\n\u001b[0;32m     31\u001b[0m         \u001b[38;5;28;01mreturn\u001b[39;00m operandoIzquierda \u001b[38;5;241m-\u001b[39m operandoDerecha\n\u001b[1;32m---> 33\u001b[0m \u001b[38;5;28mprint\u001b[39m(evaluacionNotacionSufija(\u001b[38;5;124m'\u001b[39m\u001b[38;5;124m7 8 + 0  + /\u001b[39m\u001b[38;5;124m'\u001b[39m))\n",
      "Cell \u001b[1;32mIn[8], line 10\u001b[0m, in \u001b[0;36mevaluacionNotacionSufija\u001b[1;34m(expresionSufija)\u001b[0m\n\u001b[0;32m      8\u001b[0m \u001b[38;5;28;01melif\u001b[39;00m simbolo \u001b[38;5;129;01min\u001b[39;00m \u001b[38;5;124m\"\u001b[39m\u001b[38;5;124m/*+-\u001b[39m\u001b[38;5;124m\"\u001b[39m:\n\u001b[0;32m      9\u001b[0m     \u001b[38;5;28;01mif\u001b[39;00m pilaOperandos\u001b[38;5;241m.\u001b[39mtamano()\u001b[38;5;241m<\u001b[39m\u001b[38;5;241m2\u001b[39m:\n\u001b[1;32m---> 10\u001b[0m         \u001b[38;5;28;01mraise\u001b[39;00m \u001b[38;5;167;01mRuntimeError\u001b[39;00m(\u001b[38;5;124m'\u001b[39m\u001b[38;5;124mError: Faltan operandos\u001b[39m\u001b[38;5;124m'\u001b[39m)\n\u001b[0;32m     11\u001b[0m     \u001b[38;5;28;01melse\u001b[39;00m:\n\u001b[0;32m     12\u001b[0m         operando2 \u001b[38;5;241m=\u001b[39m pilaOperandos\u001b[38;5;241m.\u001b[39mextraer()\n",
      "\u001b[1;31mRuntimeError\u001b[0m: Error: Faltan operandos"
     ]
    }
   ],
   "source": [
    "def evaluacionNotacionSufija(expresionSufija):\n",
    "    pilaOperandos = Pila()\n",
    "    listaSimbolos = expresionSufija.split()\n",
    "\n",
    "    for simbolo in listaSimbolos:\n",
    "        if simbolo in \"0123456789\":\n",
    "            pilaOperandos.incluir(int(simbolo))\n",
    "        elif simbolo in \"/*+-\":\n",
    "            if pilaOperandos.tamano()<2:\n",
    "                raise RuntimeError('Error: Faltan operandos')\n",
    "            else:\n",
    "                operando2 = pilaOperandos.extraer()\n",
    "                operando1 = pilaOperandos.extraer()\n",
    "                resultado = hacerAritmetica(simbolo,operando1,operando2)\n",
    "                pilaOperandos.incluir(resultado)\n",
    "        else:\n",
    "            raise RuntimeError(\"La cadena contiene letras u otro simbolo no válido\")\n",
    "    return pilaOperandos.extraer()\n",
    "\n",
    "def hacerAritmetica(operador, operandoIzquierda, operandoDerecha):\n",
    "    if operador == \"*\":\n",
    "        return operandoIzquierda * operandoDerecha\n",
    "    elif operador == \"/\":\n",
    "        if operandoDerecha != 0:\n",
    "            return operandoIzquierda / operandoDerecha\n",
    "        else:\n",
    "            raise RuntimeError(\"No se puede dividir por 0\")\n",
    "    elif operador == \"+\":\n",
    "        return operandoIzquierda + operandoDerecha\n",
    "    else:\n",
    "        return operandoIzquierda - operandoDerecha\n",
    "\n",
    "print(evaluacionNotacionSufija('7 8 + 0  + /'))"
   ]
  },
  {
   "cell_type": "markdown",
   "id": "150dff54",
   "metadata": {},
   "source": [
    "### Ejercicio: \n",
    "Implemente un evaluador directo de notación infija que combine la funcionalidad de la conversión de notación infija a notación sufija y el algoritmo de evaluación en notación sufija. Su evaluador debe procesar los símbolos en notación infija de izquierda a derecha y utilizar dos pilas, una para los operadores y otra para los operandos, para realizar la evaluación.\n",
    "Convierta su evaluador directo de notación infija del problema anterior en una calculadora."
   ]
  },
  {
   "cell_type": "code",
   "execution_count": null,
   "id": "580553e0",
   "metadata": {},
   "outputs": [],
   "source": [
    "def evaluador_directo():\n",
    "    expresionInfija = input(\"Por favor ingrese la operación a realizar: \")\n",
    "    expresionSufija = infija_a_sufija(expresionInfija)\n",
    "    print(expresionSufija)\n",
    "    resultado=evaluacionNotacionSufija(expresionSufija)\n",
    "    \n",
    "    return resultado\n",
    "#print(evaluador_directo(\"( 5 + 4 ) * 7 - ( 7 - 5 ) * ( 1 + 2 )\"))\n",
    "evaluador_directo()"
   ]
  },
  {
   "cell_type": "markdown",
   "id": "b0cd256c",
   "metadata": {},
   "source": [
    "### Ejercicio\n",
    "Otro ejemplo de un problema de correspondencia entre paréntesis proviene del lenguaje de marcas de hipertexto (HTML). En HTML, las etiquetas existen tanto en la forma de apertura como en la forma de cierre y deben estar balanceadas para describir correctamente un documento web. El siguiente documento sencillo en HTML:\n",
    "```\n",
    "<html>\n",
    "   <head>\n",
    "      <title>\n",
    "         Ejemplo\n",
    "      </title>\n",
    "   </head>\n",
    "\n",
    "   <body>\n",
    "      <h1>Hola mundo</h1>\n",
    "   </body>\n",
    "</html>\n",
    "```\n",
    "está destinado únicamente a mostrar la estructura de coincidencia y anidamiento de las etiquetas en el lenguaje HTML. Escriba un programa que pueda comprobar que las etiquetas de apertura y cierre en un documento HTML sean adecuadas."
   ]
  },
  {
   "cell_type": "code",
   "execution_count": 46,
   "id": "a3955cc4",
   "metadata": {},
   "outputs": [
    {
     "data": {
      "text/plain": [
       "False"
      ]
     },
     "execution_count": 46,
     "metadata": {},
     "output_type": "execute_result"
    }
   ],
   "source": [
    "def comprobarHTML(documento):\n",
    "    p = Pila()\n",
    "    balanceados = True\n",
    "    indice = 0\n",
    "    etiquetaApertura = ''\n",
    "    etiqueta = ''\n",
    "    etiquetaCierre = ''\n",
    "    esEtiquetaCierre = False\n",
    "    abre = False\n",
    "    cierra = False\n",
    "   \n",
    "    while indice < len(documento) and balanceados:\n",
    "        simbolo = documento[indice]\n",
    "        if simbolo == \"<\" :\n",
    "            abre = True\n",
    "            cierra = False\n",
    "            if documento[indice+1] == \"/\":\n",
    "                esEtiquetaCierre = True\n",
    "            else:\n",
    "                esEtiquetaCierre = False\n",
    "        elif simbolo == \">\":\n",
    "            abre = False\n",
    "            cierra = True\n",
    "        elif cierra and not abre:\n",
    "            cierra = False\n",
    "        \n",
    "        if abre and simbolo not in \"</> \":\n",
    "            etiquetaApertura = etiquetaApertura + simbolo\n",
    "        elif cierra and simbolo not in \"</ \":            \n",
    "            etiqueta = etiquetaApertura\n",
    "            #print(etiquetaApertura)\n",
    "            etiquetaApertura = ''\n",
    "            if not esEtiquetaCierre:\n",
    "                #print(etiqueta)\n",
    "                p.incluir(etiqueta)\n",
    "        \n",
    "        \n",
    "        if esEtiquetaCierre and cierra:\n",
    "            esEtiquetaCierre=False\n",
    "            if p.estaVacia():\n",
    "                balanceados = False\n",
    "            else:\n",
    "                tope = p.extraer()\n",
    "                #print(tope)\n",
    "                if tope != etiqueta:\n",
    "                    balanceados = False       \n",
    "        indice = indice + 1        \n",
    "        \n",
    "    if balanceados and p.estaVacia():\n",
    "        return True\n",
    "    else:\n",
    "        return False\n",
    "\n",
    "documento= \"<html>   <head>      <title>         Ejemplo      </title>   <head>   <body>      <h1>Hola mundo</h1>   </body></html>\" \n",
    "    \n",
    "comprobarHTML(documento)"
   ]
  },
  {
   "cell_type": "code",
   "execution_count": null,
   "id": "1d65a71c",
   "metadata": {},
   "outputs": [],
   "source": []
  }
 ],
 "metadata": {
  "kernelspec": {
   "display_name": "Python 3 (ipykernel)",
   "language": "python",
   "name": "python3"
  },
  "language_info": {
   "codemirror_mode": {
    "name": "ipython",
    "version": 3
   },
   "file_extension": ".py",
   "mimetype": "text/x-python",
   "name": "python",
   "nbconvert_exporter": "python",
   "pygments_lexer": "ipython3",
   "version": "3.11.5"
  }
 },
 "nbformat": 4,
 "nbformat_minor": 5
}
