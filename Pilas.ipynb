{
 "cells": [
  {
   "cell_type": "markdown",
   "id": "e0a5b61e",
   "metadata": {},
   "source": [
    "# Pilas"
   ]
  },
  {
   "cell_type": "code",
   "execution_count": 1,
   "id": "3c7fac29",
   "metadata": {},
   "outputs": [],
   "source": [
    "class Pila:\n",
    "     def __init__(self):\n",
    "         self.items = []\n",
    "\n",
    "     def estaVacia(self):\n",
    "         return self.items == []\n",
    "\n",
    "     def incluir(self, item):\n",
    "         self.items.append(item)\n",
    "\n",
    "     def extraer(self):\n",
    "         return self.items.pop()\n",
    "\n",
    "     def inspeccionar(self):\n",
    "         return self.items[len(self.items)-1]\n",
    "\n",
    "     def tamano(self):\n",
    "         return len(self.items)\n"
   ]
  },
  {
   "cell_type": "code",
   "execution_count": 2,
   "id": "ebbe6216",
   "metadata": {},
   "outputs": [
    {
     "name": "stdout",
     "output_type": "stream",
     "text": [
      "True\n",
      "perro\n",
      "3\n",
      "False\n",
      "8.4\n",
      "True\n",
      "2\n"
     ]
    }
   ],
   "source": [
    "p=Pila()\n",
    "\n",
    "print(p.estaVacia())\n",
    "p.incluir(4)\n",
    "p.incluir('perro')\n",
    "print(p.inspeccionar())\n",
    "p.incluir(True)\n",
    "print(p.tamano())\n",
    "print(p.estaVacia())\n",
    "p.incluir(8.4)\n",
    "print(p.extraer())\n",
    "print(p.extraer())\n",
    "print(p.tamano())"
   ]
  },
  {
   "cell_type": "code",
   "execution_count": 6,
   "id": "abc6c4ee",
   "metadata": {},
   "outputs": [
    {
     "data": {
      "text/plain": [
       "'akert'"
      ]
     },
     "execution_count": 6,
     "metadata": {},
     "output_type": "execute_result"
    }
   ],
   "source": [
    "#Escriba una función cadenaInversa(miCadena) que utilice una pila para invertir los caracteres de una cadena.\n",
    "def cadenaInversa(cadena):\n",
    "    resultado=''\n",
    "    lista=[l for l in cadena]    \n",
    "    for n in range(0, len(cadena)):        \n",
    "        resultado = resultado + lista.pop()\n",
    "    return resultado\n",
    "cadenaInversa('treka')"
   ]
  },
  {
   "cell_type": "markdown",
   "id": "eb4e9df0",
   "metadata": {},
   "source": [
    "## Paréntesis balanceados"
   ]
  },
  {
   "cell_type": "code",
   "execution_count": 8,
   "id": "ab193bf3",
   "metadata": {},
   "outputs": [
    {
     "name": "stdout",
     "output_type": "stream",
     "text": [
      "True\n",
      "False\n"
     ]
    }
   ],
   "source": [
    "def verificarSimbolos(cadenaSimbolos):\n",
    "    p = Pila()\n",
    "    balanceados = True\n",
    "    indice = 0\n",
    "    while indice < len(cadenaSimbolos) and balanceados:\n",
    "        simbolo = cadenaSimbolos[indice]\n",
    "        if simbolo in \"([{\":\n",
    "            p.incluir(simbolo)\n",
    "        else:\n",
    "            if p.estaVacia():\n",
    "                balanceados = False\n",
    "            else:\n",
    "                tope = p.extraer()\n",
    "                if not parejas(tope,simbolo):\n",
    "                       balanceados = False\n",
    "        indice = indice + 1\n",
    "    if balanceados and p.estaVacia():\n",
    "        return True\n",
    "    else:\n",
    "        return False\n",
    "\n",
    "def parejas(simboloApertura, simboloCierre):\n",
    "    aperturas = \"([{\"\n",
    "    cierres = \")]}\"\n",
    "    return aperturas.index(simboloApertura) == cierres.index(simboloCierre)\n",
    "\n",
    "\n",
    "print(verificarSimbolos('{({[][]})()}'))\n",
    "print(verificarSimbolos('[{()]'))\n"
   ]
  },
  {
   "cell_type": "markdown",
   "id": "efba2f4a",
   "metadata": {},
   "source": [
    "## Conversión de números decimales a números binarios"
   ]
  },
  {
   "cell_type": "code",
   "execution_count": 15,
   "id": "907a73a1",
   "metadata": {},
   "outputs": [
    {
     "name": "stdout",
     "output_type": "stream",
     "text": [
      "11111001000\n"
     ]
    }
   ],
   "source": [
    "def dividirPor2(numeroDecimal):\n",
    "    pilaResiduo = Pila()\n",
    "\n",
    "    while numeroDecimal > 0:\n",
    "        residuo = numeroDecimal % 2\n",
    "        pilaResiduo.incluir(residuo)\n",
    "        numeroDecimal = numeroDecimal // 2\n",
    "\n",
    "    cadenaBinaria = \"\"\n",
    "    while not pilaResiduo.estaVacia():\n",
    "        cadenaBinaria = cadenaBinaria + str(pilaResiduo.extraer())\n",
    "\n",
    "    return cadenaBinaria\n",
    "\n",
    "print(dividirPor2(1992))\n"
   ]
  },
  {
   "cell_type": "code",
   "execution_count": 18,
   "id": "24d71555",
   "metadata": {},
   "outputs": [
    {
     "name": "stdout",
     "output_type": "stream",
     "text": [
      "11001\n",
      "7C8\n"
     ]
    }
   ],
   "source": [
    "def convertirBase(numeroDecimal,base):\n",
    "    digitos = \"0123456789ABCDEF\"\n",
    "\n",
    "    pilaResiduo = Pila()\n",
    "\n",
    "    while numeroDecimal > 0:\n",
    "        residuo = numeroDecimal % base\n",
    "        pilaResiduo.incluir(residuo)\n",
    "        numeroDecimal = numeroDecimal // base\n",
    "\n",
    "    nuevaCadena = \"\"\n",
    "    while not pilaResiduo.estaVacia():\n",
    "        nuevaCadena = nuevaCadena + digitos[pilaResiduo.extraer()]\n",
    "\n",
    "    return nuevaCadena\n",
    "\n",
    "print(convertirBase(25,2))\n",
    "print(convertirBase(1992,16))\n"
   ]
  },
  {
   "cell_type": "markdown",
   "id": "df58cb76",
   "metadata": {},
   "source": [
    "## Expresiones en notaciones infija, prefija y sufija"
   ]
  },
  {
   "cell_type": "code",
   "execution_count": 24,
   "id": "d92e1d90",
   "metadata": {},
   "outputs": [
    {
     "name": "stdout",
     "output_type": "stream",
     "text": [
      "A B * C D * +\n",
      "A B + C * D E - F G + * -\n"
     ]
    }
   ],
   "source": [
    "def infija_a_sufija(expresionInfija):\n",
    "    precedencia = {}\n",
    "    precedencia[\"*\"] = 3\n",
    "    precedencia[\"/\"] = 3\n",
    "    precedencia[\"+\"] = 2\n",
    "    precedencia[\"-\"] = 2\n",
    "    precedencia[\"(\"] = 1\n",
    "    pilaOperadores = Pila()\n",
    "    listaSufija = []\n",
    "    listaSimbolos = expresionInfija.split()\n",
    "\n",
    "    for simbolo in listaSimbolos:\n",
    "        if simbolo in \"ABCDEFGHIJKLMNOPQRSTUVWXYZ\" or simbolo in \"0123456789\":\n",
    "            listaSufija.append(simbolo)\n",
    "        elif simbolo == '(':\n",
    "            pilaOperadores.incluir(simbolo)\n",
    "        elif simbolo == ')':\n",
    "            simboloTope = pilaOperadores.extraer()\n",
    "            while simboloTope != '(':\n",
    "                listaSufija.append(simboloTope)\n",
    "                simboloTope = pilaOperadores.extraer()\n",
    "        else:\n",
    "            while (not pilaOperadores.estaVacia()) and \\\n",
    "               (precedencia[pilaOperadores.inspeccionar()] >= \\\n",
    "                precedencia[simbolo]):\n",
    "                  listaSufija.append(pilaOperadores.extraer())\n",
    "            pilaOperadores.incluir(simbolo)\n",
    "\n",
    "    while not pilaOperadores.estaVacia():\n",
    "        listaSufija.append(pilaOperadores.extraer())\n",
    "    return \" \".join(listaSufija)\n",
    "\n",
    "print(infija_a_sufija(\"A * B + C * D\"))\n",
    "print(infija_a_sufija(\"( A + B ) * C - ( D - E ) * ( F + G )\"))\n"
   ]
  },
  {
   "cell_type": "markdown",
   "id": "ecb92394",
   "metadata": {},
   "source": [
    "## Evaluación de expresiones en notación sufija"
   ]
  },
  {
   "cell_type": "code",
   "execution_count": 25,
   "id": "c2d2da99",
   "metadata": {},
   "outputs": [
    {
     "name": "stdout",
     "output_type": "stream",
     "text": [
      "3.0\n"
     ]
    }
   ],
   "source": [
    "def evaluacionNotacionSufija(expresionSufija):\n",
    "    pilaOperandos = Pila()\n",
    "    listaSimbolos = expresionSufija.split()\n",
    "\n",
    "    for simbolo in listaSimbolos:\n",
    "        if simbolo in \"0123456789\":\n",
    "            pilaOperandos.incluir(int(simbolo))\n",
    "        else:\n",
    "            operando2 = pilaOperandos.extraer()\n",
    "            operando1 = pilaOperandos.extraer()\n",
    "            resultado = hacerAritmetica(simbolo,operando1,operando2)\n",
    "            pilaOperandos.incluir(resultado)\n",
    "    return pilaOperandos.extraer()\n",
    "\n",
    "def hacerAritmetica(operador, operandoIzquierda, operandoDerecha):\n",
    "    if operador == \"*\":\n",
    "        return operandoIzquierda * operandoDerecha\n",
    "    elif operador == \"/\":\n",
    "        return operandoIzquierda / operandoDerecha\n",
    "    elif operador == \"+\":\n",
    "        return operandoIzquierda + operandoDerecha\n",
    "    else:\n",
    "        return operandoIzquierda - operandoDerecha\n",
    "\n",
    "print(evaluacionNotacionSufija('7 8 + 3 2 + /'))"
   ]
  },
  {
   "cell_type": "code",
   "execution_count": null,
   "id": "f058754a",
   "metadata": {},
   "outputs": [],
   "source": []
  }
 ],
 "metadata": {
  "kernelspec": {
   "display_name": "Python 3 (ipykernel)",
   "language": "python",
   "name": "python3"
  },
  "language_info": {
   "codemirror_mode": {
    "name": "ipython",
    "version": 3
   },
   "file_extension": ".py",
   "mimetype": "text/x-python",
   "name": "python",
   "nbconvert_exporter": "python",
   "pygments_lexer": "ipython3",
   "version": "3.11.5"
  }
 },
 "nbformat": 4,
 "nbformat_minor": 5
}
