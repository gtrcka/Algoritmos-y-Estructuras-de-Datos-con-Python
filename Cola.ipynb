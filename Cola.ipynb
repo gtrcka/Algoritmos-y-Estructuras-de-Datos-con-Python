{
 "cells": [
  {
   "cell_type": "markdown",
   "id": "404aa035",
   "metadata": {},
   "source": [
    "# Colas"
   ]
  },
  {
   "cell_type": "markdown",
   "id": "4b746b11",
   "metadata": {},
   "source": [
    "Una cola está estructurada como una colección ordenada de ítems que son agregados en un extremo llamado “final” y removidos del otro, denominado “frente”. Las colas obedecen un ordenamiento **FIFO**. \n",
    "Las operaciones de cola están dadas a continuación:\n",
    "\n",
    " -  Cola() crea una nueva cola que está vacía. No requiere parámetros y devuelve una cola vacía.\n",
    "\n",
    " - agregar(item) agrega un nuevo ítem al final de la cola. Requiere el ítem y no devuelve valor.\n",
    "\n",
    " - avanzar() elimina el ítem del frente de la cola. No require parámetros y devuelve el ítem que se eliminó. La cola es modificada.\n",
    "\n",
    " - estaVacia() verifica si la cola está vacía. No requiere parámetros y devuelve un valor booleano.\n",
    "\n",
    " - tamano() devuelve el número de ítems en la cola. No requiere parámetros y devuelve un entero."
   ]
  },
  {
   "cell_type": "markdown",
   "id": "81761db8",
   "metadata": {},
   "source": [
    "## Implementación de una cola en Python"
   ]
  },
  {
   "cell_type": "code",
   "execution_count": 46,
   "id": "47934b17",
   "metadata": {},
   "outputs": [
    {
     "name": "stdout",
     "output_type": "stream",
     "text": [
      "3\n"
     ]
    }
   ],
   "source": [
    "class Cola:\n",
    "    def __init__(self):\n",
    "        self.items = []\n",
    "\n",
    "    def estaVacia(self):\n",
    "        return self.items == []\n",
    "\n",
    "    def agregar(self, item):\n",
    "        self.items.insert(0,item)\n",
    "\n",
    "    def avanzar(self):\n",
    "        return self.items.pop()\n",
    "\n",
    "    def tamano(self):\n",
    "        return len(self.items)\n",
    "    \n",
    "c=Cola()\n",
    "\n",
    "c.agregar(4)\n",
    "c.agregar('perro')\n",
    "c.agregar(True)\n",
    "print(c.tamano())"
   ]
  },
  {
   "cell_type": "markdown",
   "id": "ade8d982",
   "metadata": {},
   "source": [
    "## Simulación: la patata caliente"
   ]
  },
  {
   "cell_type": "code",
   "execution_count": 47,
   "id": "18603956",
   "metadata": {},
   "outputs": [
    {
     "name": "stdout",
     "output_type": "stream",
     "text": [
      "Treka\n"
     ]
    }
   ],
   "source": [
    "def papaCaliente(listaNombres, N):\n",
    "    colaSimulacion = Cola()\n",
    "    for nombre in listaNombres:\n",
    "        colaSimulacion.agregar(nombre)\n",
    "\n",
    "    while colaSimulacion.tamano() > 1:\n",
    "        for i in range(N):\n",
    "            colaSimulacion.agregar(colaSimulacion.avanzar())\n",
    "\n",
    "        colaSimulacion.avanzar()\n",
    "\n",
    "    return colaSimulacion.avanzar()\n",
    "\n",
    "print(papaCaliente([\"Bill\",\"David\",\"Susan\",\"Jane\",\"Kent\",\"Brad\", \"Treka\"],8))\n"
   ]
  },
  {
   "cell_type": "markdown",
   "id": "9092815b",
   "metadata": {},
   "source": [
    "## Simulación: Tareas de impresión"
   ]
  },
  {
   "cell_type": "code",
   "execution_count": 48,
   "id": "c132fc96",
   "metadata": {},
   "outputs": [],
   "source": [
    "class Impresora:\n",
    "    def __init__(self, paginas):\n",
    "        self.tasaPaginas = paginas\n",
    "        self.tareaActual = None\n",
    "        self.tiempoRestante = 0\n",
    "\n",
    "    def tictac(self):\n",
    "        if self.tareaActual != None:\n",
    "            self.tiempoRestante = self.tiempoRestante - 1\n",
    "            if self.tiempoRestante == 0:\n",
    "                self.tareaActual = None\n",
    "\n",
    "    def ocupada(self):\n",
    "        if self.tareaActual != None:\n",
    "            return True\n",
    "        else:\n",
    "            return False\n",
    "\n",
    "    def iniciarNueva(self,nuevaTarea):\n",
    "        self.tareaActual = nuevaTarea\n",
    "        self.tiempoRestante = nuevaTarea.obtenerPaginas() \\\n",
    "        * 60/self.tasaPaginas"
   ]
  },
  {
   "cell_type": "code",
   "execution_count": 49,
   "id": "6473ca45",
   "metadata": {},
   "outputs": [],
   "source": [
    "import random\n",
    "\n",
    "class Tarea:\n",
    "    def __init__(self,tiempo,n):\n",
    "        self.marcaTiempo = tiempo\n",
    "        self.n = n\n",
    "        self.paginas = random.randrange(1,n)\n",
    "\n",
    "    def obtenerMarca(self):\n",
    "        return self.marcaTiempo\n",
    "\n",
    "    def obtenerPaginas(self):\n",
    "        return self.paginas\n",
    "\n",
    "    def tiempoEspera(self, tiempoActual):\n",
    "        return tiempoActual - self.marcaTiempo"
   ]
  },
  {
   "cell_type": "code",
   "execution_count": 50,
   "id": "7d5e6af1",
   "metadata": {},
   "outputs": [
    {
     "name": "stdout",
     "output_type": "stream",
     "text": [
      "Tiempo de espera promedio 43.74 segundos   0 tareas restantes.\n",
      "Tiempo de espera promedio112.21 segundos   0 tareas restantes.\n",
      "Tiempo de espera promedio 74.89 segundos   0 tareas restantes.\n",
      "Tiempo de espera promedio343.83 segundos   5 tareas restantes.\n",
      "Tiempo de espera promedio209.28 segundos   2 tareas restantes.\n",
      "Tiempo de espera promedio 52.59 segundos   0 tareas restantes.\n",
      "Tiempo de espera promedio 52.94 segundos   0 tareas restantes.\n",
      "Tiempo de espera promedio144.48 segundos   0 tareas restantes.\n",
      "Tiempo de espera promedio 34.11 segundos   1 tareas restantes.\n",
      "Tiempo de espera promedio174.04 segundos   5 tareas restantes.\n"
     ]
    }
   ],
   "source": [
    "def simulacion(numeroSegundos, paginasPorMinuto):\n",
    "\n",
    "    impresoraLaboratorio = Impresora(paginasPorMinuto)\n",
    "    colaImpresion = Cola()\n",
    "    tiemposEspera = []\n",
    "\n",
    "    for segundoActual in range(numeroSegundos):\n",
    "\n",
    "        if nuevaTareaImpresion():\n",
    "            tarea = Tarea(segundoActual,41)\n",
    "            colaImpresion.agregar(tarea)\n",
    "\n",
    "        if (not impresoraLaboratorio.ocupada()) and \\\n",
    "                (not colaImpresion.estaVacia()):\n",
    "            tareaSiguiente = colaImpresion.avanzar()\n",
    "            tiemposEspera.append(tareaSiguiente.tiempoEspera(segundoActual))\n",
    "            impresoraLaboratorio.iniciarNueva(tareaSiguiente)\n",
    "\n",
    "        impresoraLaboratorio.tictac()\n",
    "\n",
    "    esperaPromedio=sum(tiemposEspera)/float(len(tiemposEspera))\n",
    "    print(\"Tiempo de espera promedio%6.2f segundos %3d tareas restantes.\"%(esperaPromedio, colaImpresion.tamano()))\n",
    "\n",
    "\n",
    "def nuevaTareaImpresion():\n",
    "    numero = random.randrange(1,181)\n",
    "    if numero == 180:\n",
    "        return True\n",
    "    else:\n",
    "        return False\n",
    "\n",
    "for i in range(10):\n",
    "    simulacion(3600,10)"
   ]
  },
  {
   "cell_type": "markdown",
   "id": "4c5c5077",
   "metadata": {},
   "source": [
    "# Cola Doble"
   ]
  },
  {
   "cell_type": "markdown",
   "id": "50d347bb",
   "metadata": {},
   "source": [
    "Una cola doble está estructurada como una colección ordenada de ítems en la que se añaden y se retiran ítems de cualquier extremo, ya sea por el frente o por el final. \n",
    "Las operaciones de la cola doble se dan a continuación:\n",
    "\n",
    " - ColaDoble() Crea una cola doble nueva que está vacía. No necesita parámetros y devuelve una cola doble vacía.\n",
    "\n",
    " - agregarFrente(item) añade un nuevo ítem al frente de la cola doble. Necesita el ítem y no devuelve nada.\n",
    "\n",
    " - agregarFinal(item) añade un nuevo ítem en el final de la cola doble. Necesita el ítem y no devuelve nada.\n",
    "\n",
    " - removerFrente() elimina el ítem que está en el frente de la cola doble. No necesita parámetros y devuelve el ítem. La cola doble se modifica.\n",
    "\n",
    " - removerFinal() elimina el ítem que está al final de la cola doble. No necesita parámetros y devuelve el ítem. La cola doble se modifica.\n",
    "\n",
    " - estaVacia() comprueba si la cola doble está vacía. No necesita parámetros y devuelve un valor booleano.\n",
    "\n",
    " - tamano() devuelve el número de ítems en la cola doble. No necesita parámetros y devuelve un entero."
   ]
  },
  {
   "cell_type": "code",
   "execution_count": 51,
   "id": "f2d5f26c",
   "metadata": {},
   "outputs": [
    {
     "name": "stdout",
     "output_type": "stream",
     "text": [
      "True\n",
      "4\n",
      "False\n",
      "8.4\n",
      "True\n",
      "3\n"
     ]
    }
   ],
   "source": [
    "class ColaDoble:\n",
    "    def __init__(self):\n",
    "        self.items = []\n",
    "\n",
    "    def estaVacia(self):\n",
    "        return self.items == []\n",
    "\n",
    "    def agregarFrente(self, item):\n",
    "        self.items.append(item)\n",
    "\n",
    "    def agregarFinal(self, item):\n",
    "        self.items.insert(0,item)\n",
    "\n",
    "    def removerFrente(self):\n",
    "        return self.items.pop()\n",
    "\n",
    "    def removerFinal(self):\n",
    "        return self.items.pop(0)\n",
    "\n",
    "    def tamano(self):\n",
    "        return len(self.items)\n",
    "\n",
    "d = ColaDoble()\n",
    "print(d.estaVacia())\n",
    "d.agregarFinal(4)\n",
    "d.agregarFinal('perro')\n",
    "d.agregarFrente('gato')\n",
    "d.agregarFrente(True)\n",
    "print(d.tamano())\n",
    "print(d.estaVacia())\n",
    "d.agregarFinal(8.4)\n",
    "print(d.removerFinal())\n",
    "print(d.removerFrente())\n",
    "print (d.tamano())"
   ]
  },
  {
   "cell_type": "markdown",
   "id": "8d913ec4",
   "metadata": {},
   "source": [
    "## Verificador de palíndromos\n",
    "\n",
    "Un palíndromo es una cadena que se lee igual hacia adelante y hacia atrás, por ejemplo, radar, oso y madam. Nos gustaría construir un algoritmo al cual se le introduzca una cadena de caracteres y compruebe si es un palíndromo."
   ]
  },
  {
   "cell_type": "code",
   "execution_count": 52,
   "id": "8ef99c4c",
   "metadata": {},
   "outputs": [
    {
     "name": "stdout",
     "output_type": "stream",
     "text": [
      "False\n",
      "True\n"
     ]
    }
   ],
   "source": [
    "def verificarPalindromo(cadena):\n",
    "\n",
    "    colaDobleCaracteres = ColaDoble()\n",
    "    for  caracter in cadena:\n",
    "        colaDobleCaracteres.agregarFinal(caracter)\n",
    "\n",
    "    aunIguales = True\n",
    "\n",
    "    while colaDobleCaracteres.tamano() > 1 and aunIguales:\n",
    "        primero = colaDobleCaracteres.removerFrente()\n",
    "        ultimo = colaDobleCaracteres.removerFinal()\n",
    "        if primero != ultimo:\n",
    "            aunIguales = False\n",
    "\n",
    "    return aunIguales\n",
    "\n",
    "print(verificarPalindromo(\"treka\"))\n",
    "print(verificarPalindromo(\"radar\"))\n"
   ]
  },
  {
   "cell_type": "markdown",
   "id": "03152974",
   "metadata": {},
   "source": [
    "### Ejercicio:\n",
    "Implemente el TAD Cola, usando una lista tal que el final de la cola esté al final de la lista."
   ]
  },
  {
   "cell_type": "code",
   "execution_count": 56,
   "id": "c9567be0",
   "metadata": {},
   "outputs": [],
   "source": [
    "class ColaInvertida:\n",
    "    def __init__(self):\n",
    "        self.items = []\n",
    "\n",
    "    def estaVacia(self):\n",
    "        return self.items == []\n",
    "\n",
    "    def agregar(self, item):\n",
    "        self.items.append(item)\n",
    "\n",
    "    def avanzar(self):\n",
    "        return self.items.pop(0)\n",
    "\n",
    "    def tamano(self):\n",
    "        return len(self.items)"
   ]
  },
  {
   "cell_type": "code",
   "execution_count": 63,
   "id": "340f9198",
   "metadata": {},
   "outputs": [
    {
     "name": "stdout",
     "output_type": "stream",
     "text": [
      "True\n",
      "perro\n",
      "gato\n",
      "True\n"
     ]
    }
   ],
   "source": [
    "d = ColaInvertida()\n",
    "print(d.estaVacia())\n",
    "d.agregar(4)\n",
    "d.agregar('perro')\n",
    "d.agregar('gato')\n",
    "d.agregar(True)\n",
    "d.avanzar()\n",
    "for i in d.items:    \n",
    "    print(i)"
   ]
  },
  {
   "cell_type": "markdown",
   "id": "390225cb",
   "metadata": {},
   "source": [
    "Considere una situación de la vida real. Formule una pregunta y luego diseñe una simulación que pueda ayudar a responderla. Las posibles situaciones incluyen:\n",
    "\n",
    "Carros alineados en un servicio “auto-lavado”\n",
    "\n",
    "Clientes en el punto de pago de una tienda de comestibles\n",
    "\n",
    "Aviones despegando y aterrizando en una pista\n",
    "\n",
    "Un cajero de banco\n",
    "\n",
    "Asegúrese de indicar cualquier suposición que usted haga y proporcione cualquier dato probabilístico que deba considerarse como parte del escenario.\n",
    "\n",
    "Situación:  Un cajero de banco\n",
    "\n",
    "El cajero de un banco necesita un llamador con prioridad, habrá cajeros que llamarán a prioridad siempre que haya gente en cola de prioridad. Las personas con prioridad estarán en ambas colas (común, con prioridad) para que la llame el primer cajero que la llame."
   ]
  },
  {
   "cell_type": "code",
   "execution_count": 99,
   "id": "075132cd",
   "metadata": {},
   "outputs": [],
   "source": [
    "class Cajero():\n",
    "    def __init__(self, numeroCaja):\n",
    "        self.numeroCaja = numeroCaja \n",
    "    \n",
    "    def llamarSiguiente(self, cola):        \n",
    "        if not cola.colaAtencion.estaVacia():\n",
    "            proximo = str(cola.colaAtencion.removerFrente())   \n",
    "            if cola.nPrioridad>0:\n",
    "                cola.nPrioridad = cola.nPrioridad - 1\n",
    "        else:\n",
    "            proximo='No hay personas en la cola.'\n",
    "            \n",
    "        return \"DNI \" + proximo + \" pase por caja \" +str(self.numeroCaja)\n",
    "    \n",
    "class ColaAtenion():\n",
    "    def __init__(self):\n",
    "        self.colaAtencion = ColaDoble()\n",
    "        self.nPrioridad = 0\n",
    "    \n",
    "    def cola():\n",
    "        return self.colaAtencion\n",
    "    \n",
    "    def otorgarTurno(self, dni, prioridad):   \n",
    "        \n",
    "        if prioridad == 1:\n",
    "            colaPrioridad = Cola()\n",
    "            recorrido = self.nPrioridad\n",
    "            while recorrido != 0:\n",
    "                colaPrioridad.agregar(self.colaAtencion.removerFrente())\n",
    "                recorrido = recorrido - 1\n",
    "            self.colaAtencion.agregarFrente(dni)\n",
    "            while recorrido != self.nPrioridad:\n",
    "                self.colaAtencion.agregarFrente(colaPrioridad.avanzar())\n",
    "                recorrido = recorrido + 1 \n",
    "            self.nPrioridad = self.nPrioridad + 1\n",
    "                \n",
    "        else:\n",
    "            self.colaAtencion.agregarFinal(dni)"
   ]
  },
  {
   "cell_type": "code",
   "execution_count": 103,
   "id": "af84786e",
   "metadata": {},
   "outputs": [
    {
     "name": "stdout",
     "output_type": "stream",
     "text": [
      "DNI 16742986 pase por caja 1\n",
      "DNI 38955955 pase por caja 2\n",
      "DNI 36355357 pase por caja 1\n",
      "DNI 38955955 pase por caja 1\n",
      "DNI 16742986 pase por caja 2\n"
     ]
    }
   ],
   "source": [
    "colaHoy = ColaAtenion()\n",
    "cajero1 = Cajero(1)\n",
    "cajero2 = Cajero(2)\n",
    "\n",
    "\n",
    "colaHoy.otorgarTurno('36355357',0)\n",
    "colaHoy.otorgarTurno('16742986',1)\n",
    "colaHoy.otorgarTurno('38955955',1)\n",
    "colaHoy.otorgarTurno('1111111',0)\n",
    "colaHoy.otorgarTurno('2222222',0)\n",
    "\n",
    "print(cajero1.llamarSiguiente(colaHoy))\n",
    "print(cajero2.llamarSiguiente(colaHoy))\n",
    "print(cajero1.llamarSiguiente(colaHoy))\n",
    "\n",
    "colaHoy.otorgarTurno('38955955',1)\n",
    "colaHoy.otorgarTurno('16742986',1)\n",
    "print(cajero1.llamarSiguiente(colaHoy))\n",
    "print(cajero2.llamarSiguiente(colaHoy))"
   ]
  }
 ],
 "metadata": {
  "kernelspec": {
   "display_name": "Python 3 (ipykernel)",
   "language": "python",
   "name": "python3"
  },
  "language_info": {
   "codemirror_mode": {
    "name": "ipython",
    "version": 3
   },
   "file_extension": ".py",
   "mimetype": "text/x-python",
   "name": "python",
   "nbconvert_exporter": "python",
   "pygments_lexer": "ipython3",
   "version": "3.11.5"
  }
 },
 "nbformat": 4,
 "nbformat_minor": 5
}
