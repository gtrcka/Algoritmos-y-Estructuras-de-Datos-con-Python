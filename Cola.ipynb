{
 "cells": [
  {
   "cell_type": "markdown",
   "id": "404aa035",
   "metadata": {},
   "source": [
    "# Colas"
   ]
  },
  {
   "cell_type": "markdown",
   "id": "4b746b11",
   "metadata": {},
   "source": [
    "Una cola está estructurada como una colección ordenada de ítems que son agregados en un extremo llamado “final” y removidos del otro, denominado “frente”. Las colas obedecen un ordenamiento **FIFO**. \n",
    "Las operaciones de cola están dadas a continuación:\n",
    "\n",
    " -  Cola() crea una nueva cola que está vacía. No requiere parámetros y devuelve una cola vacía.\n",
    "\n",
    " - agregar(item) agrega un nuevo ítem al final de la cola. Requiere el ítem y no devuelve valor.\n",
    "\n",
    " - avanzar() elimina el ítem del frente de la cola. No require parámetros y devuelve el ítem que se eliminó. La cola es modificada.\n",
    "\n",
    " - estaVacia() verifica si la cola está vacía. No requiere parámetros y devuelve un valor booleano.\n",
    "\n",
    " - tamano() devuelve el número de ítems en la cola. No requiere parámetros y devuelve un entero."
   ]
  },
  {
   "cell_type": "markdown",
   "id": "81761db8",
   "metadata": {},
   "source": [
    "## Implementación de una cola en Python"
   ]
  },
  {
   "cell_type": "code",
   "execution_count": 1,
   "id": "47934b17",
   "metadata": {},
   "outputs": [
    {
     "name": "stdout",
     "output_type": "stream",
     "text": [
      "3\n"
     ]
    }
   ],
   "source": [
    "class Cola:\n",
    "    def __init__(self):\n",
    "        self.items = []\n",
    "\n",
    "    def estaVacia(self):\n",
    "        return self.items == []\n",
    "\n",
    "    def agregar(self, item):\n",
    "        self.items.insert(0,item)\n",
    "\n",
    "    def avanzar(self):\n",
    "        return self.items.pop()\n",
    "\n",
    "    def tamano(self):\n",
    "        return len(self.items)\n",
    "    \n",
    "c=Cola()\n",
    "\n",
    "c.agregar(4)\n",
    "c.agregar('perro')\n",
    "c.agregar(True)\n",
    "print(c.tamano())"
   ]
  },
  {
   "cell_type": "markdown",
   "id": "ade8d982",
   "metadata": {},
   "source": [
    "## Simulación: la patata caliente"
   ]
  },
  {
   "cell_type": "code",
   "execution_count": 2,
   "id": "18603956",
   "metadata": {},
   "outputs": [
    {
     "name": "stdout",
     "output_type": "stream",
     "text": [
      "David\n"
     ]
    }
   ],
   "source": [
    "import random\n",
    "def papaCaliente(listaNombres):\n",
    "    \n",
    "    colaSimulacion = Cola()\n",
    "    for nombre in listaNombres:\n",
    "        colaSimulacion.agregar(nombre)\n",
    "    \n",
    "    while colaSimulacion.tamano() > 1:\n",
    "        N = random.randrange(1, 9)\n",
    "        for i in range(N):\n",
    "            colaSimulacion.agregar(colaSimulacion.avanzar())\n",
    "\n",
    "        colaSimulacion.avanzar()\n",
    "\n",
    "    return colaSimulacion.avanzar()\n",
    "\n",
    "print(papaCaliente([\"Bill\",\"David\",\"Susan\",\"Jane\",\"Kent\",\"Brad\", \"Treka\"]))\n"
   ]
  },
  {
   "cell_type": "markdown",
   "id": "9092815b",
   "metadata": {},
   "source": [
    "## Simulación: Tareas de impresión"
   ]
  },
  {
   "cell_type": "code",
   "execution_count": 3,
   "id": "c132fc96",
   "metadata": {},
   "outputs": [],
   "source": [
    "class Impresora:\n",
    "    def __init__(self, paginas):\n",
    "        self.tasaPaginas = paginas\n",
    "        self.tareaActual = None\n",
    "        self.tiempoRestante = 0\n",
    "\n",
    "    def tictac(self):\n",
    "        if self.tareaActual != None:\n",
    "            self.tiempoRestante = self.tiempoRestante - 1\n",
    "            if self.tiempoRestante == 0:\n",
    "                self.tareaActual = None\n",
    "\n",
    "    def ocupada(self):\n",
    "        if self.tareaActual != None:\n",
    "            return True\n",
    "        else:\n",
    "            return False\n",
    "\n",
    "    def iniciarNueva(self,nuevaTarea):\n",
    "        self.tareaActual = nuevaTarea\n",
    "        self.tiempoRestante = nuevaTarea.obtenerPaginas() \\\n",
    "        * 60/self.tasaPaginas"
   ]
  },
  {
   "cell_type": "code",
   "execution_count": 4,
   "id": "6473ca45",
   "metadata": {},
   "outputs": [],
   "source": [
    "import random\n",
    "\n",
    "class Tarea:\n",
    "    def __init__(self,tiempo,n):\n",
    "        self.marcaTiempo = tiempo\n",
    "        self.n = n\n",
    "        self.paginas = random.randrange(1,n)\n",
    "\n",
    "    def obtenerMarca(self):\n",
    "        return self.marcaTiempo\n",
    "\n",
    "    def obtenerPaginas(self):\n",
    "        return self.paginas\n",
    "\n",
    "    def tiempoEspera(self, tiempoActual):\n",
    "        return tiempoActual - self.marcaTiempo"
   ]
  },
  {
   "cell_type": "code",
   "execution_count": 5,
   "id": "7d5e6af1",
   "metadata": {},
   "outputs": [
    {
     "name": "stdout",
     "output_type": "stream",
     "text": [
      "Tiempo de espera promedio 64.93 segundos   0 tareas restantes.\n",
      "Tiempo de espera promedio201.54 segundos   0 tareas restantes.\n",
      "Tiempo de espera promedio 34.62 segundos   0 tareas restantes.\n",
      "Tiempo de espera promedio248.96 segundos   1 tareas restantes.\n",
      "Tiempo de espera promedio147.00 segundos   5 tareas restantes.\n",
      "Tiempo de espera promedio246.67 segundos   1 tareas restantes.\n",
      "Tiempo de espera promedio 39.95 segundos   0 tareas restantes.\n",
      "Tiempo de espera promedio 57.00 segundos   2 tareas restantes.\n",
      "Tiempo de espera promedio 58.33 segundos   0 tareas restantes.\n",
      "Tiempo de espera promedio676.37 segundos  10 tareas restantes.\n"
     ]
    }
   ],
   "source": [
    "def simulacion(numeroSegundos, paginasPorMinuto):\n",
    "\n",
    "    impresoraLaboratorio = Impresora(paginasPorMinuto)\n",
    "    colaImpresion = Cola()\n",
    "    tiemposEspera = []\n",
    "\n",
    "    for segundoActual in range(numeroSegundos):\n",
    "\n",
    "        if nuevaTareaImpresion():\n",
    "            tarea = Tarea(segundoActual,41)\n",
    "            colaImpresion.agregar(tarea)\n",
    "\n",
    "        if (not impresoraLaboratorio.ocupada()) and \\\n",
    "                (not colaImpresion.estaVacia()):\n",
    "            tareaSiguiente = colaImpresion.avanzar()\n",
    "            tiemposEspera.append(tareaSiguiente.tiempoEspera(segundoActual))\n",
    "            impresoraLaboratorio.iniciarNueva(tareaSiguiente)\n",
    "\n",
    "        impresoraLaboratorio.tictac()\n",
    "\n",
    "    esperaPromedio=sum(tiemposEspera)/float(len(tiemposEspera))\n",
    "    print(\"Tiempo de espera promedio%6.2f segundos %3d tareas restantes.\"%(esperaPromedio, colaImpresion.tamano()))\n",
    "\n",
    "\n",
    "def nuevaTareaImpresion():\n",
    "    numero = random.randrange(1,181)\n",
    "    if numero == 180:\n",
    "        return True\n",
    "    else:\n",
    "        return False\n",
    "\n",
    "for i in range(10):\n",
    "    simulacion(3600,10)"
   ]
  },
  {
   "cell_type": "markdown",
   "id": "4c5c5077",
   "metadata": {},
   "source": [
    "# Cola Doble"
   ]
  },
  {
   "cell_type": "markdown",
   "id": "50d347bb",
   "metadata": {},
   "source": [
    "Una cola doble está estructurada como una colección ordenada de ítems en la que se añaden y se retiran ítems de cualquier extremo, ya sea por el frente o por el final. \n",
    "Las operaciones de la cola doble se dan a continuación:\n",
    "\n",
    " - ColaDoble() Crea una cola doble nueva que está vacía. No necesita parámetros y devuelve una cola doble vacía.\n",
    "\n",
    " - agregarFrente(item) añade un nuevo ítem al frente de la cola doble. Necesita el ítem y no devuelve nada.\n",
    "\n",
    " - agregarFinal(item) añade un nuevo ítem en el final de la cola doble. Necesita el ítem y no devuelve nada.\n",
    "\n",
    " - removerFrente() elimina el ítem que está en el frente de la cola doble. No necesita parámetros y devuelve el ítem. La cola doble se modifica.\n",
    "\n",
    " - removerFinal() elimina el ítem que está al final de la cola doble. No necesita parámetros y devuelve el ítem. La cola doble se modifica.\n",
    "\n",
    " - estaVacia() comprueba si la cola doble está vacía. No necesita parámetros y devuelve un valor booleano.\n",
    "\n",
    " - tamano() devuelve el número de ítems en la cola doble. No necesita parámetros y devuelve un entero."
   ]
  },
  {
   "cell_type": "code",
   "execution_count": 6,
   "id": "f2d5f26c",
   "metadata": {},
   "outputs": [
    {
     "name": "stdout",
     "output_type": "stream",
     "text": [
      "True\n",
      "4\n",
      "False\n",
      "8.4\n",
      "True\n",
      "3\n"
     ]
    }
   ],
   "source": [
    "class ColaDoble:\n",
    "    def __init__(self):\n",
    "        self.items = []\n",
    "\n",
    "    def estaVacia(self):\n",
    "        return self.items == []\n",
    "\n",
    "    def agregarFrente(self, item):\n",
    "        self.items.append(item)\n",
    "\n",
    "    def agregarFinal(self, item):\n",
    "        self.items.insert(0,item)\n",
    "\n",
    "    def removerFrente(self):\n",
    "        return self.items.pop()\n",
    "\n",
    "    def removerFinal(self):\n",
    "        return self.items.pop(0)\n",
    "\n",
    "    def tamano(self):\n",
    "        return len(self.items)\n",
    "\n",
    "d = ColaDoble()\n",
    "print(d.estaVacia())\n",
    "d.agregarFinal(4)\n",
    "d.agregarFinal('perro')\n",
    "d.agregarFrente('gato')\n",
    "d.agregarFrente(True)\n",
    "print(d.tamano())\n",
    "print(d.estaVacia())\n",
    "d.agregarFinal(8.4)\n",
    "print(d.removerFinal())\n",
    "print(d.removerFrente())\n",
    "print (d.tamano())"
   ]
  },
  {
   "cell_type": "markdown",
   "id": "8d913ec4",
   "metadata": {},
   "source": [
    "## Verificador de palíndromos\n",
    "\n",
    "Un palíndromo es una cadena que se lee igual hacia adelante y hacia atrás, por ejemplo, radar, oso y madam. Nos gustaría construir un algoritmo al cual se le introduzca una cadena de caracteres y compruebe si es un palíndromo."
   ]
  },
  {
   "cell_type": "code",
   "execution_count": 7,
   "id": "8ef99c4c",
   "metadata": {},
   "outputs": [
    {
     "name": "stdout",
     "output_type": "stream",
     "text": [
      "False\n",
      "True\n"
     ]
    }
   ],
   "source": [
    "def verificarPalindromo(cadena):\n",
    "\n",
    "    colaDobleCaracteres = ColaDoble()\n",
    "    for  caracter in cadena:\n",
    "        colaDobleCaracteres.agregarFinal(caracter)\n",
    "\n",
    "    aunIguales = True\n",
    "\n",
    "    while colaDobleCaracteres.tamano() > 1 and aunIguales:\n",
    "        primero = colaDobleCaracteres.removerFrente()\n",
    "        ultimo = colaDobleCaracteres.removerFinal()\n",
    "        if primero != ultimo:\n",
    "            aunIguales = False\n",
    "\n",
    "    return aunIguales\n",
    "\n",
    "print(verificarPalindromo(\"treka\"))\n",
    "print(verificarPalindromo(\"radar\"))\n"
   ]
  },
  {
   "cell_type": "markdown",
   "id": "b3172e0c",
   "metadata": {},
   "source": [
    "### Ejercicio:\n",
    "Implemente el TAD Cola, usando una lista tal que el final de la cola esté al final de la lista."
   ]
  },
  {
   "cell_type": "code",
   "execution_count": 8,
   "id": "8ccee05e",
   "metadata": {},
   "outputs": [],
   "source": [
    "class ColaInvertida:\n",
    "    def __init__(self):\n",
    "        self.items = []\n",
    "\n",
    "    def estaVacia(self):\n",
    "        return self.items == []\n",
    "\n",
    "    def agregar(self, item):\n",
    "        self.items.append(item)\n",
    "\n",
    "    def avanzar(self):\n",
    "        return self.items.pop(0)\n",
    "\n",
    "    def tamano(self):\n",
    "        return len(self.items)"
   ]
  },
  {
   "cell_type": "code",
   "execution_count": 9,
   "id": "d83b8ea4",
   "metadata": {},
   "outputs": [
    {
     "name": "stdout",
     "output_type": "stream",
     "text": [
      "True\n",
      "perro\n",
      "gato\n",
      "True\n"
     ]
    }
   ],
   "source": [
    "d = ColaInvertida()\n",
    "print(d.estaVacia())\n",
    "d.agregar(4)\n",
    "d.agregar('perro')\n",
    "d.agregar('gato')\n",
    "d.agregar(True)\n",
    "d.avanzar()\n",
    "for i in d.items:    \n",
    "    print(i)"
   ]
  },
  {
   "cell_type": "markdown",
   "id": "14495631",
   "metadata": {},
   "source": [
    "### Ejercicio:\n",
    "Considere una situación de la vida real. Formule una pregunta y luego diseñe una simulación que pueda ayudar a responderla. Las posibles situaciones incluyen:\n",
    "\n",
    "Carros alineados en un servicio “auto-lavado”\n",
    "\n",
    "Clientes en el punto de pago de una tienda de comestibles\n",
    "\n",
    "Aviones despegando y aterrizando en una pista\n",
    "\n",
    "Un cajero de banco\n",
    "\n",
    "Asegúrese de indicar cualquier suposición que usted haga y proporcione cualquier dato probabilístico que deba considerarse como parte del escenario.\n",
    "\n",
    "Situación:  Un cajero de banco\n",
    "\n",
    "El cajero de un banco necesita un llamador con prioridad, habrá cajeros que llamarán a prioridad siempre que haya gente en cola de prioridad. Las personas con prioridad estarán en ambas colas (común, con prioridad) para que la llame el primer cajero que la llame."
   ]
  },
  {
   "cell_type": "code",
   "execution_count": 10,
   "id": "000e2cf8",
   "metadata": {},
   "outputs": [],
   "source": [
    "class Cajero():\n",
    "    def __init__(self, numeroCaja):\n",
    "        self.numeroCaja = numeroCaja \n",
    "    \n",
    "    def llamarSiguiente(self, cola):        \n",
    "        if not cola.colaAtencion.estaVacia():\n",
    "            proximo = str(cola.colaAtencion.removerFrente())   \n",
    "            if cola.nPrioridad>0:\n",
    "                cola.nPrioridad = cola.nPrioridad - 1\n",
    "        else:\n",
    "            proximo='No hay personas en la cola.'\n",
    "            \n",
    "        return \"DNI \" + proximo + \" pase por caja \" +str(self.numeroCaja)\n",
    "    \n",
    "class ColaAtenion():\n",
    "    def __init__(self):\n",
    "        self.colaAtencion = ColaDoble()\n",
    "        self.nPrioridad = 0\n",
    "    \n",
    "    def cola():\n",
    "        return self.colaAtencion\n",
    "    \n",
    "    def otorgarTurno(self, dni, prioridad):   \n",
    "        \n",
    "        if prioridad == 1:\n",
    "            colaPrioridad = Cola()\n",
    "            recorrido = self.nPrioridad\n",
    "            while recorrido != 0:\n",
    "                colaPrioridad.agregar(self.colaAtencion.removerFrente())\n",
    "                recorrido = recorrido - 1\n",
    "            self.colaAtencion.agregarFrente(dni)\n",
    "            while recorrido != self.nPrioridad:\n",
    "                self.colaAtencion.agregarFrente(colaPrioridad.avanzar())\n",
    "                recorrido = recorrido + 1 \n",
    "            self.nPrioridad = self.nPrioridad + 1\n",
    "                \n",
    "        else:\n",
    "            self.colaAtencion.agregarFinal(dni)"
   ]
  },
  {
   "cell_type": "code",
   "execution_count": 11,
   "id": "6b2f05c3",
   "metadata": {},
   "outputs": [
    {
     "name": "stdout",
     "output_type": "stream",
     "text": [
      "DNI 16742986 pase por caja 1\n",
      "DNI 38955955 pase por caja 2\n",
      "DNI 36355357 pase por caja 1\n",
      "DNI 38955955 pase por caja 1\n",
      "DNI 16742986 pase por caja 2\n"
     ]
    }
   ],
   "source": [
    "colaHoy = ColaAtenion()\n",
    "cajero1 = Cajero(1)\n",
    "cajero2 = Cajero(2)\n",
    "\n",
    "\n",
    "colaHoy.otorgarTurno('36355357',0)\n",
    "colaHoy.otorgarTurno('16742986',1)\n",
    "colaHoy.otorgarTurno('38955955',1)\n",
    "colaHoy.otorgarTurno('1111111',0)\n",
    "colaHoy.otorgarTurno('2222222',0)\n",
    "\n",
    "print(cajero1.llamarSiguiente(colaHoy))\n",
    "print(cajero2.llamarSiguiente(colaHoy))\n",
    "print(cajero1.llamarSiguiente(colaHoy))\n",
    "\n",
    "colaHoy.otorgarTurno('38955955',1)\n",
    "colaHoy.otorgarTurno('16742986',1)\n",
    "print(cajero1.llamarSiguiente(colaHoy))\n",
    "print(cajero2.llamarSiguiente(colaHoy))"
   ]
  },
  {
   "cell_type": "markdown",
   "id": "0eee5c3e",
   "metadata": {},
   "source": [
    "### Ejercicio:\n",
    "Implemente una máquina de ordenamiento radix. Un ordenamiento radix para enteros de base 10 es una técnica de ordenamiento mecánica que utiliza una colección de bins, un bin principal y 10 bins de dígitos. Cada bin actúa como una cola y mantiene sus valores en el orden en que llegan. El algoritmo comienza colocando cada número en el bin principal. Entonces considera cada valor dígito por dígito. El primer valor se elimina y se coloca en un bin de dígitos correspondiente al dígito que se está considerando. Por ejemplo, si se está considerando el dígito de los unos, para 534 se pone 4 en tal bin y para 667 se pone 7. Una vez que todos los valores se colocan en los bins de dígitos correspondientes, los valores se recuperan del bin 0 al bin 9 y se ponen de nuevo en el bin principal. El proceso continúa con el dígito de las decenas, las centenas, y así sucesivamente. Después de procesar el último dígito, el bin principal contiene los valores en orden."
   ]
  },
  {
   "cell_type": "code",
   "execution_count": 22,
   "id": "c502613a",
   "metadata": {},
   "outputs": [],
   "source": [
    "def ordenamienteRadix(cola):\n",
    "    binPrincipal = cola\n",
    "    bin0 = Cola()\n",
    "    bin1 = Cola()\n",
    "    bin2 = Cola()\n",
    "    bin3 = Cola()\n",
    "    bin4 = Cola()\n",
    "    bin5 = Cola()\n",
    "    bin6 = Cola()\n",
    "    bin7 = Cola()\n",
    "    bin8 = Cola()\n",
    "    bin9 = Cola()\n",
    "    \n",
    "    while not binPrincipal.estaVacia():        \n",
    "        pos = 1\n",
    "        nextBin = binPrincipal.avanzar()\n",
    "        lenBin = len(nextBin)\n",
    "        for i in len(nextBin):\n",
    "            if nextBin[len(nextBin)-pos]==0 and nextBin:\n",
    "                bin0.agregarFinal(nextBin)\n",
    "            elif nextBin[len(nextBin)-pos]==1:            \n",
    "                bin1.agregarFinal(nextBin)\n",
    "            elif nextBin[len(nextBin)-pos]==2:\n",
    "                bin2.agregarFinal(nextBin)\n",
    "            elif nextBin[len(nextBin)-pos]==3:\n",
    "                bin3.agregarFinal(nextBin)\n",
    "            elif nextBin[len(nextBin)-pos]==4:\n",
    "                bin4.agregarFinal(nextBin)\n",
    "            elif nextBin[len(nextBin)-pos]==5:\n",
    "                bin5.agregarFinal(nextBin)\n",
    "            elif nextBin[len(nextBin)-pos]==6:\n",
    "                bin6.agregarFinal(nextBin)\n",
    "            elif nextBin[len(nextBin)-pos]==7:\n",
    "                bin7.agregarFinal(nextBin)\n",
    "            elif nextBin[len(nextBin)-pos]==8:\n",
    "                bin8.agregarFinal(nextBin)\n",
    "            elif nextBin[len(nextBin)-pos]==9:\n",
    "                bin9.agregarFinal(nextBin)                            \n",
    "        "
   ]
  },
  {
   "cell_type": "code",
   "execution_count": 27,
   "id": "b7f363e2",
   "metadata": {},
   "outputs": [
    {
     "name": "stdout",
     "output_type": "stream",
     "text": [
      "[0, 1, 2, 3, 4, 5, 6, 7, 8, 9]\n"
     ]
    }
   ],
   "source": [
    "listBins=list(range(0,10))\n",
    "print(listBins)"
   ]
  },
  {
   "cell_type": "code",
   "execution_count": 1,
   "id": "5885ae0d",
   "metadata": {},
   "outputs": [
    {
     "ename": "TypeError",
     "evalue": "'int' object is not subscriptable",
     "output_type": "error",
     "traceback": [
      "\u001b[1;31m---------------------------------------------------------------------------\u001b[0m",
      "\u001b[1;31mTypeError\u001b[0m                                 Traceback (most recent call last)",
      "Cell \u001b[1;32mIn[1], line 2\u001b[0m\n\u001b[0;32m      1\u001b[0m x\u001b[38;5;241m=\u001b[39m\u001b[38;5;241m15645\u001b[39m\n\u001b[1;32m----> 2\u001b[0m x[\u001b[38;5;241m0\u001b[39m]\n",
      "\u001b[1;31mTypeError\u001b[0m: 'int' object is not subscriptable"
     ]
    }
   ],
   "source": [
    "x=15645\n",
    "x[0]"
   ]
  },
  {
   "cell_type": "code",
   "execution_count": null,
   "id": "686c64e5",
   "metadata": {},
   "outputs": [],
   "source": []
  }
 ],
 "metadata": {
  "kernelspec": {
   "display_name": "Python 3 (ipykernel)",
   "language": "python",
   "name": "python3"
  },
  "language_info": {
   "codemirror_mode": {
    "name": "ipython",
    "version": 3
   },
   "file_extension": ".py",
   "mimetype": "text/x-python",
   "name": "python",
   "nbconvert_exporter": "python",
   "pygments_lexer": "ipython3",
   "version": "3.11.5"
  }
 },
 "nbformat": 4,
 "nbformat_minor": 5
}
