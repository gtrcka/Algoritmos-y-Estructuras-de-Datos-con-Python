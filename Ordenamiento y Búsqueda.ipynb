{
 "cells": [
  {
   "cell_type": "markdown",
   "id": "18977013",
   "metadata": {},
   "source": [
    "# Búsqueda\n",
    "\n",
    "## La búsqueda secuencial"
   ]
  },
  {
   "cell_type": "code",
   "execution_count": 2,
   "id": "c4c5f6af",
   "metadata": {},
   "outputs": [
    {
     "name": "stdout",
     "output_type": "stream",
     "text": [
      "False\n",
      "True\n"
     ]
    }
   ],
   "source": [
    "def busquedaSecuencial(unaLista, item):\n",
    "    pos = 0\n",
    "    encontrado = False\n",
    "\n",
    "    while pos < len(unaLista) and not encontrado:\n",
    "        if unaLista[pos] == item:\n",
    "            encontrado = True\n",
    "        else:\n",
    "            pos = pos+1\n",
    "\n",
    "    return encontrado\n",
    "\n",
    "listaPrueba = [1, 2, 32, 8, 17, 19, 42, 13, 0]\n",
    "print(busquedaSecuencial(listaPrueba, 3))\n",
    "print(busquedaSecuencial(listaPrueba, 13))"
   ]
  },
  {
   "cell_type": "code",
   "execution_count": 3,
   "id": "3067bb5a",
   "metadata": {},
   "outputs": [
    {
     "name": "stdout",
     "output_type": "stream",
     "text": [
      "False\n",
      "True\n"
     ]
    }
   ],
   "source": [
    "def busquedaSecuencialOrdenada(unaLista, item):\n",
    "    pos = 0\n",
    "    encontrado = False\n",
    "    parar = False\n",
    "    while pos < len(unaLista) and not encontrado and not parar:\n",
    "        if unaLista[pos] == item:\n",
    "            encontrado = True\n",
    "        else:\n",
    "            if unaLista[pos] > item:\n",
    "                parar = True\n",
    "            else:\n",
    "                pos = pos+1\n",
    "\n",
    "    return encontrado\n",
    "\n",
    "listaPrueba = [0, 1, 2, 8, 13, 17, 19, 32, 42,]\n",
    "print(busquedaSecuencialOrdenada(listaPrueba, 3))\n",
    "print(busquedaSecuencialOrdenada(listaPrueba, 13))"
   ]
  },
  {
   "cell_type": "markdown",
   "id": "44adc13b",
   "metadata": {},
   "source": [
    "## La búsqueda binaria"
   ]
  },
  {
   "cell_type": "code",
   "execution_count": 7,
   "id": "f9e23edb",
   "metadata": {},
   "outputs": [
    {
     "name": "stdout",
     "output_type": "stream",
     "text": [
      "False\n",
      "True\n"
     ]
    }
   ],
   "source": [
    "def busquedaBinaria(unaLista, item):\n",
    "    if len(unaLista) == 0:\n",
    "        return False\n",
    "    else:\n",
    "        puntoMedio = len(unaLista)//2\n",
    "        if unaLista[puntoMedio]==item:\n",
    "            return True\n",
    "        else:\n",
    "            if item<unaLista[puntoMedio]:\n",
    "                return busquedaBinaria(unaLista[:puntoMedio],item)\n",
    "            else:\n",
    "                return busquedaBinaria(unaLista[puntoMedio+1:],item)\n",
    "\n",
    "listaPrueba = [0, 1, 2, 8, 13, 17, 19, 32, 42,]\n",
    "print(busquedaBinaria(listaPrueba, 3))\n",
    "print(busquedaBinaria(listaPrueba, 13))"
   ]
  },
  {
   "cell_type": "markdown",
   "id": "ef6643e2",
   "metadata": {},
   "source": [
    "## Transformación de claves (hashing)"
   ]
  },
  {
   "cell_type": "code",
   "execution_count": 10,
   "id": "557ad0e2",
   "metadata": {},
   "outputs": [],
   "source": [
    "def hash(unaCadena, tamanoTabla):\n",
    "    suma = 0\n",
    "    for pos in range(len(unaCadena)):\n",
    "        suma = suma + (ord(unaCadena[pos]) * (pos+1))\n",
    "\n",
    "    return suma%tamanoTabla"
   ]
  },
  {
   "cell_type": "markdown",
   "id": "a6b49370",
   "metadata": {},
   "source": [
    "### Implementación del tipo abstracto de datos\n",
    "#### Vector Asociativo"
   ]
  },
  {
   "cell_type": "code",
   "execution_count": 18,
   "id": "280f8960",
   "metadata": {},
   "outputs": [],
   "source": [
    "class TablaHash:\n",
    "    def __init__(self):\n",
    "        self.tamano = 11\n",
    "        self.ranuras = [None] * self.tamano\n",
    "        self.datos = [None] * self.tamano\n",
    "    def agregar(self,clave,dato):\n",
    "        valorHash = self.funcionHash(clave,len(self.ranuras))\n",
    "\n",
    "        if self.ranuras[valorHash] == None:\n",
    "            self.ranuras[valorHash] = clave\n",
    "            self.datos[valorHash] = dato\n",
    "        else:\n",
    "            if self.ranuras[valorHash] == clave:\n",
    "                self.datos[valorHash] = dato  #reemplazo\n",
    "            else:\n",
    "                proximaRanura = self.rehash(valorHash,len(self.ranuras))\n",
    "                while self.ranuras[proximaRanura] != None and \\\n",
    "                              self.ranuras[proximaRanura] != clave:\n",
    "                    proximaRanura = self.rehash(proximaRanura,len(self.ranuras))\n",
    "\n",
    "                if self.ranuras[proximaRanura] == None:\n",
    "                    self.ranuras[proximaRanura]=clave\n",
    "                    self.datos[proximaRanura]=dato\n",
    "                else:\n",
    "                    self.datos[proximaRanura] = dato #reemplazo\n",
    "\n",
    "    def funcionHash(self,clave,tamano):\n",
    "         return clave%tamano\n",
    "\n",
    "    def rehash(self,hashViejo,tamano):\n",
    "        return (hashViejo+1)%tamano\n",
    "    \n",
    "    def obtener(self,clave):\n",
    "        ranuraInicio = self.funcionHash(clave,len(self.ranuras))\n",
    "\n",
    "        dato = None\n",
    "        parar = False\n",
    "        encontrado = False\n",
    "        posicion = ranuraInicio\n",
    "        while self.ranuras[posicion] != None and  \\\n",
    "                           not encontrado and not parar:\n",
    "            if self.ranuras[posicion] == clave:\n",
    "                encontrado = True\n",
    "                dato = self.datos[posicion]\n",
    "            else:\n",
    "                posicion=self.rehash(posicion,len(self.ranuras))\n",
    "            if posicion == ranuraInicio:\n",
    "                parar = True\n",
    "        return dato\n",
    "\n",
    "    def __getitem__(self,clave):\n",
    "        return self.obtener(clave)\n",
    "\n",
    "    def __setitem__(self,clave,dato):\n",
    "        self.agregar(clave,dato)"
   ]
  },
  {
   "cell_type": "code",
   "execution_count": 19,
   "id": "a8af06cb",
   "metadata": {},
   "outputs": [
    {
     "data": {
      "text/plain": [
       "[77, 44, 55, 20, 26, 93, 17, None, None, 31, 54]"
      ]
     },
     "execution_count": 19,
     "metadata": {},
     "output_type": "execute_result"
    }
   ],
   "source": [
    "H=TablaHash()\n",
    "H[54]=\"gato\"\n",
    "H[26]=\"perro\"\n",
    "H[93]=\"leon\"\n",
    "H[17]=\"tigre\"\n",
    "H[77]=\"pajaro\"\n",
    "H[31]=\"vaca\"\n",
    "H[44]=\"cabra\"\n",
    "H[55]=\"cerdo\"\n",
    "H[20]=\"pollo\"\n",
    "H.ranuras"
   ]
  },
  {
   "cell_type": "code",
   "execution_count": 22,
   "id": "e37dfedf",
   "metadata": {},
   "outputs": [
    {
     "data": {
      "text/plain": [
       "['pajaro',\n",
       " 'cabra',\n",
       " 'cerdo',\n",
       " 'pollo',\n",
       " 'perro',\n",
       " 'leon',\n",
       " 'tigre',\n",
       " None,\n",
       " None,\n",
       " 'vaca',\n",
       " 'gato']"
      ]
     },
     "execution_count": 22,
     "metadata": {},
     "output_type": "execute_result"
    }
   ],
   "source": [
    "H[54]\n",
    "H.datos"
   ]
  },
  {
   "cell_type": "code",
   "execution_count": 23,
   "id": "748898f5",
   "metadata": {},
   "outputs": [
    {
     "data": {
      "text/plain": [
       "[None, None, None, None, None]"
      ]
     },
     "execution_count": 23,
     "metadata": {},
     "output_type": "execute_result"
    }
   ],
   "source": [
    "lista=[None] * 5\n",
    "lista"
   ]
  },
  {
   "cell_type": "markdown",
   "id": "d6174620",
   "metadata": {},
   "source": [
    "# Ordenamiento\n",
    "\n",
    "## El ordenamiento burbuja"
   ]
  },
  {
   "cell_type": "code",
   "execution_count": 24,
   "id": "76edb8cf",
   "metadata": {},
   "outputs": [
    {
     "name": "stdout",
     "output_type": "stream",
     "text": [
      "[17, 20, 26, 31, 44, 54, 55, 77, 93]\n"
     ]
    }
   ],
   "source": [
    "def ordenamientoBurbuja(unaLista):\n",
    "    for numPasada in range(len(unaLista)-1,0,-1):\n",
    "        for i in range(numPasada):\n",
    "            if unaLista[i]>unaLista[i+1]:\n",
    "                temp = unaLista[i]\n",
    "                unaLista[i] = unaLista[i+1]\n",
    "                unaLista[i+1] = temp\n",
    "\n",
    "unaLista = [54,26,93,17,77,31,44,55,20]\n",
    "ordenamientoBurbuja(unaLista)\n",
    "print(unaLista)"
   ]
  },
  {
   "cell_type": "code",
   "execution_count": 32,
   "id": "ff354844",
   "metadata": {},
   "outputs": [
    {
     "name": "stdout",
     "output_type": "stream",
     "text": [
      "[20, 30, 40, 50, 60, 70, 80, 90, 100, 110]\n"
     ]
    }
   ],
   "source": [
    "def ordenamientoBurbujaCorto(unaLista):\n",
    "    intercambios = True\n",
    "    numPasada = len(unaLista)-1\n",
    "    while numPasada > 0 and intercambios:\n",
    "        intercambios = False\n",
    "        for i in range(numPasada):\n",
    "            if unaLista[i]>unaLista[i+1]:\n",
    "                intercambios = True\n",
    "                temp = unaLista[i]\n",
    "                unaLista[i] = unaLista[i+1]\n",
    "                unaLista[i+1] = temp\n",
    "        numPasada = numPasada-1\n",
    "\n",
    "unaLista=[20,30,40,90,50,60,70,80,100,110]\n",
    "ordenamientoBurbujaCorto(unaLista)\n",
    "print(unaLista)\n",
    "        "
   ]
  },
  {
   "cell_type": "markdown",
   "id": "a8cf2d7c",
   "metadata": {},
   "source": [
    "## El ordenamiento por selección"
   ]
  },
  {
   "cell_type": "code",
   "execution_count": 33,
   "id": "ff008f59",
   "metadata": {},
   "outputs": [
    {
     "name": "stdout",
     "output_type": "stream",
     "text": [
      "[17, 20, 26, 31, 44, 54, 55, 77, 93]\n"
     ]
    }
   ],
   "source": [
    "def ordenamientoPorSeleccion(unaLista):\n",
    "    for llenarRanura in range(len(unaLista)-1,0,-1):\n",
    "        posicionDelMayor=0\n",
    "        for ubicacion in range(1,llenarRanura+1):\n",
    "            if unaLista[ubicacion]>unaLista[posicionDelMayor]:\n",
    "                posicionDelMayor = ubicacion\n",
    "\n",
    "        temp = unaLista[llenarRanura]\n",
    "        unaLista[llenarRanura] = unaLista[posicionDelMayor]\n",
    "        unaLista[posicionDelMayor] = temp\n",
    "\n",
    "unaLista = [54,26,93,17,77,31,44,55,20]\n",
    "ordenamientoPorSeleccion(unaLista)\n",
    "print(unaLista)"
   ]
  },
  {
   "cell_type": "markdown",
   "id": "390f3aaf",
   "metadata": {},
   "source": [
    "## El ordenamiento por inserción"
   ]
  },
  {
   "cell_type": "code",
   "execution_count": 34,
   "id": "36e691db",
   "metadata": {},
   "outputs": [
    {
     "name": "stdout",
     "output_type": "stream",
     "text": [
      "[17, 20, 26, 31, 44, 54, 55, 77, 93]\n"
     ]
    }
   ],
   "source": [
    "def ordenamientoPorInsercion(unaLista):\n",
    "    for indice in range(1,len(unaLista)):\n",
    "\n",
    "        valorActual = unaLista[indice]\n",
    "        posicion = indice\n",
    "\n",
    "        while posicion>0 and unaLista[posicion-1]>valorActual:\n",
    "            unaLista[posicion]=unaLista[posicion-1]\n",
    "            posicion = posicion-1\n",
    "\n",
    "        unaLista[posicion]=valorActual\n",
    "\n",
    "unaLista = [54,26,93,17,77,31,44,55,20]\n",
    "ordenamientoPorInsercion(unaLista)\n",
    "print(unaLista)"
   ]
  },
  {
   "cell_type": "markdown",
   "id": "64264ea1",
   "metadata": {},
   "source": [
    "## El ordenamiento de Shell"
   ]
  },
  {
   "cell_type": "code",
   "execution_count": 38,
   "id": "e5cf57bc",
   "metadata": {},
   "outputs": [
    {
     "name": "stdout",
     "output_type": "stream",
     "text": [
      "Después de los incrementos de tamaño 5 La lista es [5, 9, 17, 12, 3, 8, 16, 20, 19, 7]\n",
      "Después de los incrementos de tamaño 2 La lista es [3, 7, 5, 8, 16, 9, 17, 12, 19, 20]\n",
      "Después de los incrementos de tamaño 1 La lista es [3, 5, 7, 8, 9, 12, 16, 17, 19, 20]\n",
      "[3, 5, 7, 8, 9, 12, 16, 17, 19, 20]\n"
     ]
    }
   ],
   "source": [
    "def ordenamientoDeShell(unaLista):\n",
    "    contadorSublistas = len(unaLista)//2\n",
    "    while contadorSublistas > 0:\n",
    "\n",
    "        for posicionInicio in range(contadorSublistas):\n",
    "            brechaOrdenamientoPorInsercion(unaLista,posicionInicio,contadorSublistas)\n",
    "\n",
    "        print(\"Después de los incrementos de tamaño\",contadorSublistas,\n",
    "                                   \"La lista es\",unaLista)\n",
    "\n",
    "        contadorSublistas = contadorSublistas // 2\n",
    "\n",
    "def brechaOrdenamientoPorInsercion(unaLista,inicio,brecha):\n",
    "    for i in range(inicio+brecha,len(unaLista),brecha):\n",
    "\n",
    "        valorActual = unaLista[i]\n",
    "        posicion = i\n",
    "\n",
    "        while posicion>=brecha and unaLista[posicion-brecha]>valorActual:\n",
    "            unaLista[posicion]=unaLista[posicion-brecha]\n",
    "            posicion = posicion-brecha\n",
    "\n",
    "        unaLista[posicion]=valorActual\n",
    "\n",
    "unaLista =  [5, 16, 20, 12, 3, 8, 9, 17, 19, 7] \n",
    "ordenamientoDeShell(unaLista)\n",
    "print(unaLista)"
   ]
  },
  {
   "cell_type": "markdown",
   "id": "64f01281",
   "metadata": {},
   "source": [
    "## El ordenamiento por mezcla"
   ]
  },
  {
   "cell_type": "code",
   "execution_count": 41,
   "id": "52ed0a11",
   "metadata": {},
   "outputs": [
    {
     "name": "stdout",
     "output_type": "stream",
     "text": [
      "Dividir  [21, 1, 26, 45, 29, 28, 2, 9, 16, 49, 39, 27, 43, 34, 46, 40]\n",
      "Dividir  [21, 1, 26, 45, 29, 28, 2, 9]\n",
      "Dividir  [21, 1, 26, 45]\n",
      "Dividir  [21, 1]\n",
      "Dividir  [21]\n",
      "Mezclar  [21]\n",
      "Dividir  [1]\n",
      "Mezclar  [1]\n",
      "Mezclar  [1, 21]\n",
      "Dividir  [26, 45]\n",
      "Dividir  [26]\n",
      "Mezclar  [26]\n",
      "Dividir  [45]\n",
      "Mezclar  [45]\n",
      "Mezclar  [26, 45]\n",
      "Mezclar  [1, 21, 26, 45]\n",
      "Dividir  [29, 28, 2, 9]\n",
      "Dividir  [29, 28]\n",
      "Dividir  [29]\n",
      "Mezclar  [29]\n",
      "Dividir  [28]\n",
      "Mezclar  [28]\n",
      "Mezclar  [28, 29]\n",
      "Dividir  [2, 9]\n",
      "Dividir  [2]\n",
      "Mezclar  [2]\n",
      "Dividir  [9]\n",
      "Mezclar  [9]\n",
      "Mezclar  [2, 9]\n",
      "Mezclar  [2, 9, 28, 29]\n",
      "Mezclar  [1, 2, 9, 21, 26, 28, 29, 45]\n",
      "Dividir  [16, 49, 39, 27, 43, 34, 46, 40]\n",
      "Dividir  [16, 49, 39, 27]\n",
      "Dividir  [16, 49]\n",
      "Dividir  [16]\n",
      "Mezclar  [16]\n",
      "Dividir  [49]\n",
      "Mezclar  [49]\n",
      "Mezclar  [16, 49]\n",
      "Dividir  [39, 27]\n",
      "Dividir  [39]\n",
      "Mezclar  [39]\n",
      "Dividir  [27]\n",
      "Mezclar  [27]\n",
      "Mezclar  [27, 39]\n",
      "Mezclar  [16, 27, 39, 49]\n",
      "Dividir  [43, 34, 46, 40]\n",
      "Dividir  [43, 34]\n",
      "Dividir  [43]\n",
      "Mezclar  [43]\n",
      "Dividir  [34]\n",
      "Mezclar  [34]\n",
      "Mezclar  [34, 43]\n",
      "Dividir  [46, 40]\n",
      "Dividir  [46]\n",
      "Mezclar  [46]\n",
      "Dividir  [40]\n",
      "Mezclar  [40]\n",
      "Mezclar  [40, 46]\n",
      "Mezclar  [34, 40, 43, 46]\n",
      "Mezclar  [16, 27, 34, 39, 40, 43, 46, 49]\n",
      "Mezclar  [1, 2, 9, 16, 21, 26, 27, 28, 29, 34, 39, 40, 43, 45, 46, 49]\n",
      "[1, 2, 9, 16, 21, 26, 27, 28, 29, 34, 39, 40, 43, 45, 46, 49]\n"
     ]
    }
   ],
   "source": [
    "def ordenamientoPorMezcla(unaLista):\n",
    "    print(\"Dividir \",unaLista)\n",
    "    if len(unaLista)>1:\n",
    "        mitad = len(unaLista)//2\n",
    "        mitadIzquierda = unaLista[:mitad]\n",
    "        mitadDerecha = unaLista[mitad:]\n",
    "\n",
    "        ordenamientoPorMezcla(mitadIzquierda)\n",
    "        ordenamientoPorMezcla(mitadDerecha)\n",
    "\n",
    "        i=0\n",
    "        j=0\n",
    "        k=0\n",
    "        while i < len(mitadIzquierda) and j < len(mitadDerecha):\n",
    "            if mitadIzquierda[i] < mitadDerecha[j]:\n",
    "                unaLista[k]=mitadIzquierda[i]\n",
    "                i=i+1\n",
    "            else:\n",
    "                unaLista[k]=mitadDerecha[j]\n",
    "                j=j+1\n",
    "            k=k+1\n",
    "\n",
    "        while i < len(mitadIzquierda):\n",
    "            unaLista[k]=mitadIzquierda[i]\n",
    "            i=i+1\n",
    "            k=k+1\n",
    "\n",
    "        while j < len(mitadDerecha):\n",
    "            unaLista[k]=mitadDerecha[j]\n",
    "            j=j+1\n",
    "            k=k+1\n",
    "    print(\"Mezclar \",unaLista)\n",
    "\n",
    "unaLista = [21, 1, 26, 45, 29, 28, 2, 9, 16, 49, 39, 27, 43, 34, 46, 40] \n",
    "ordenamientoPorMezcla(unaLista)\n",
    "print(unaLista)"
   ]
  },
  {
   "cell_type": "markdown",
   "id": "e4e47f6f",
   "metadata": {},
   "source": [
    "## El ordenamiento rápido"
   ]
  },
  {
   "cell_type": "code",
   "execution_count": 54,
   "id": "5102614c",
   "metadata": {},
   "outputs": [
    {
     "name": "stdout",
     "output_type": "stream",
     "text": [
      "[17, 20, 26, 31, 44, 54, 55, 77, 93]\n"
     ]
    }
   ],
   "source": [
    "import numpy as np\n",
    "def ordenamientoRapido(unaLista):\n",
    "    ordenamientoRapidoAuxiliar(unaLista,0,len(unaLista)-1)\n",
    "\n",
    "def ordenamientoRapidoAuxiliar(unaLista,primero,ultimo):\n",
    "    if primero<ultimo:\n",
    "\n",
    "        puntoDivision = particion(unaLista,primero,ultimo)\n",
    "\n",
    "        ordenamientoRapidoAuxiliar(unaLista,primero,puntoDivision-1)\n",
    "        ordenamientoRapidoAuxiliar(unaLista,puntoDivision+1,ultimo)\n",
    "\n",
    "\n",
    "def particion(unaLista,primero,ultimo):\n",
    "    \n",
    "    valorPivote = unaLista[primero]\n",
    "    marcaIzq = primero+1\n",
    "    marcaDer = ultimo\n",
    "\n",
    "    hecho = False\n",
    "    while not hecho:\n",
    "\n",
    "        while marcaIzq <= marcaDer and unaLista[marcaIzq] <= valorPivote:\n",
    "            marcaIzq = marcaIzq + 1\n",
    "\n",
    "        while unaLista[marcaDer] >= valorPivote and marcaDer >= marcaIzq:\n",
    "            marcaDer = marcaDer -1\n",
    "\n",
    "        if marcaDer < marcaIzq:\n",
    "            hecho = True\n",
    "        else:\n",
    "            temp = unaLista[marcaIzq]\n",
    "            unaLista[marcaIzq] = unaLista[marcaDer]\n",
    "            unaLista[marcaDer] = temp\n",
    "\n",
    "    temp = unaLista[primero]\n",
    "    unaLista[primero] = unaLista[marcaDer]\n",
    "    unaLista[marcaDer] = temp\n",
    "\n",
    "\n",
    "    return marcaDer\n",
    "\n",
    "unaLista = [54,26,93,17,77,31,44,55,20]\n",
    "ordenamientoRapido(unaLista)\n",
    "print(unaLista)"
   ]
  },
  {
   "cell_type": "code",
   "execution_count": null,
   "id": "d6753c1e",
   "metadata": {},
   "outputs": [],
   "source": []
  }
 ],
 "metadata": {
  "kernelspec": {
   "display_name": "Python 3 (ipykernel)",
   "language": "python",
   "name": "python3"
  },
  "language_info": {
   "codemirror_mode": {
    "name": "ipython",
    "version": 3
   },
   "file_extension": ".py",
   "mimetype": "text/x-python",
   "name": "python",
   "nbconvert_exporter": "python",
   "pygments_lexer": "ipython3",
   "version": "3.11.5"
  }
 },
 "nbformat": 4,
 "nbformat_minor": 5
}
