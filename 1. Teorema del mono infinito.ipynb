{
 "cells": [
  {
   "cell_type": "markdown",
   "id": "7e40090d",
   "metadata": {},
   "source": [
    "# Python"
   ]
  },
  {
   "cell_type": "markdown",
   "id": "1d08efa3",
   "metadata": {},
   "source": [
    "El teorema dice que un mono golpeando las teclas, al azar y por una cantidad infinita de tiempo, en un teclado de máquina de escribir casi con completa seguridad escribirá cualquier texto dado como por ejemplo las obras completas de William Shakespeare. Bueno, supongamos que vamos a reemplazar al mono con una función de Python. ¿Cuánto tiempo cree usted que le tomaría a una función de Python generar tan sólo una frase de Shakespeare? La frase que aspiramos generar es: “yo creo que parece una comadreja”.\n",
    "\n",
    "Usted no querrá ejecutar esto en el navegador, así que abra su entorno de desarrollo de Python favorito. La forma en que vamos a simular esto es escribiendo una función que genere una cadena de 27 caracteres de longitud, mediante la elección aleatoria de cada caracter de entre las 26 letras del alfabeto más el espacio en blanco. Escribiremos otra función que calificará cada cadena generada aleatoriamente mediante su comparación con la cadena objetivo.\n",
    "\n",
    "Una tercera función llamará repetidamente a las funciones generar y calificar, entonces habremos terminado si el 100% de las letras son correctas. Si las letras no son correctas, generaremos entonces una nueva cadena completa. Para hacer más fácil seguir el progreso de su programa, esta tercera función debe imprimir la mejor secuencia generada hasta el momento y su calificación correspondiente cada 1000 intentos."
   ]
  },
  {
   "cell_type": "code",
   "execution_count": 207,
   "id": "a8a4c0b3",
   "metadata": {},
   "outputs": [
    {
     "name": "stdout",
     "output_type": "stream",
     "text": [
      "Mejor resultado: yfxotosyricycybynabmfdgvjbpptpie con 1 aciertos \n",
      "Mejor resultado: yflcmwtb qdiuekshgyrwmtajbilkvgg con 2 aciertos \n",
      "Mejor resultado: ymdcqklnujjhocdidgpsjkszuuxwxepm con 3 aciertos \n",
      "Mejor resultado: ytrc fx kiwcvutvystazxzpapuuyeuj con 4 aciertos \n",
      "Mejor resultado: ywdcciu khnaciwtgeen situfb hedk con 5 aciertos \n",
      "Mejor resultado: yhcclbg shfgjxayse fcknkrwewwejb con 7 aciertos \n",
      "Mejor resultado: yqachyp bnsqeflmfe nbaxlolqrvejc con 9 aciertos \n",
      "Mejor resultado: yhwcqze ebzmujdfhe voavromqofejs con 10 aciertos \n",
      "Mejor resultado: y lcifb vbztql ime anaeromnoeejn con 11 aciertos \n",
      "Mejor resultado: yodcprj otyn coqye qnahsomtrheje con 12 aciertos \n",
      "Mejor resultado: yoncoyy fipepqmyfe onabromuzceja con 14 aciertos \n",
      "Mejor resultado: yoicwpa poebpjoxae snammomvjzeja con 15 aciertos \n",
      "Mejor resultado: yohcuad snewpfyqye snaumombqreja con 16 aciertos \n",
      "Mejor resultado: yojcppo guecpmkxve anantomdereja con 18 aciertos \n",
      "Mejor resultado: yoicgmo nueqpakaae jna iomhsreja con 20 aciertos \n",
      "Mejor resultado: yobcvto uuecpafgre yna noma reja con 21 aciertos \n",
      "Mejor resultado: yolc eo yuekpasshe pna yomadreja con 23 aciertos \n",
      "Mejor resultado: yomcbeo rue payxbe una lomadreja con 25 aciertos \n",
      "Mejor resultado: yovcreo lue pakxke una gomadreja con 26 aciertos \n",
      "Mejor resultado: youcreo zue pa eee una bomadreja con 27 aciertos \n",
      "Mejor resultado: yoscreo xue pareqe una nomadreja con 28 aciertos \n",
      "Mejor resultado: yo creo fue parexe una vomadreja con 29 aciertos \n",
      "Mejor resultado: yo creo aue parehe una comadreja con 30 aciertos \n",
      "Mejor resultado: yo creo jue parece una comadreja con 31 aciertos \n",
      "Mejor resultado: yo creo que parece una comadreja con 32 aciertos \n"
     ]
    },
    {
     "data": {
      "text/plain": [
       "'Acierto! en 118 iteraciones.'"
      ]
     },
     "execution_count": 207,
     "metadata": {},
     "output_type": "execute_result"
    }
   ],
   "source": [
    "import random\n",
    "from random import randint\n",
    "\n",
    "#Función que genera una cadena aleatoria con n caracteres\n",
    "def generarCadena(n, resultadosPrevios,ResultadosBool):\n",
    "    cadenaGenerada=''\n",
    "    alfabeto=['a','b','c','d','e','f','g','h','i','j','k','l','m','n','o','p','q','r','s','t','u','v','w','x','y','z',' ']\n",
    "    for x in range (0,n):\n",
    "        resultados = []\n",
    "        if not ResultadosBool[x]:\n",
    "            cadenaGenerada=cadenaGenerada + random.choice(alfabeto)#alfabeto[randint(1,26)]    \n",
    "        else:\n",
    "            cadenaGenerada=cadenaGenerada + resultadosPrevios[x]\n",
    "        for letra in cadenaGenerada:\n",
    "            resultados.append(letra)\n",
    "    return cadenaGenerada, resultados\n",
    "\n",
    "#Función que compara la cadena generada con cadenaTest\n",
    "def comparaCadena(cadenaGenerada,cadenaTest):\n",
    "    resultados=[]\n",
    "    n = 0\n",
    "    for x in range(0,len(cadenaTest)):\n",
    "        resultados.append(cadenaTest[x]==cadenaGenerada[x])\n",
    "    n = resultados.count(True)\n",
    "    return n, resultados\n",
    "\n",
    "#Función para igualar cadenas\n",
    "def igualarCadenas(cadenaTest):\n",
    "    #Inicializo variables\n",
    "    n=len(cadenaTest)\n",
    "    cadenaTest = cadenaTest.lower()\n",
    "    cantidadAciertos = 0\n",
    "    resultadosBool = [False] * n\n",
    "    resultadosPrevios = [''] * n\n",
    "    num=1\n",
    "    mejorResultado = ''\n",
    "    cantidadAciertosMejorResultado=0\n",
    "    while(cantidadAciertos != n ):    \n",
    "        cadenaGenerada, resultadosPrevios = generarCadena(n, resultadosPrevios, resultadosBool)    \n",
    "        cantidadAciertos, resultadosBool = comparaCadena(cadenaGenerada,cadenaTest)\n",
    "         \n",
    "        if(cantidadAciertos > cantidadAciertosMejorResultado): \n",
    "            cantidadAciertosMejorResultado = cantidadAciertos;            \n",
    "            mejorResultado = cadenaGenerada   \n",
    "            print('Mejor resultado: %s con %d aciertos ' % (mejorResultado,cantidadAciertosMejorResultado))\n",
    "        num = num + 1\n",
    "        \n",
    "    return 'Acierto! en %d iteraciones.' % (num)\n",
    "    \n",
    "    \n",
    "cadenaTest='yo creo que parece una comadreja'\n",
    "\n",
    "\n",
    "igualarCadenas(cadenaTest)\n"
   ]
  },
  {
   "cell_type": "code",
   "execution_count": null,
   "id": "0e92e203",
   "metadata": {},
   "outputs": [],
   "source": []
  }
 ],
 "metadata": {
  "kernelspec": {
   "display_name": "Python 3 (ipykernel)",
   "language": "python",
   "name": "python3"
  },
  "language_info": {
   "codemirror_mode": {
    "name": "ipython",
    "version": 3
   },
   "file_extension": ".py",
   "mimetype": "text/x-python",
   "name": "python",
   "nbconvert_exporter": "python",
   "pygments_lexer": "ipython3",
   "version": "3.11.5"
  }
 },
 "nbformat": 4,
 "nbformat_minor": 5
}
